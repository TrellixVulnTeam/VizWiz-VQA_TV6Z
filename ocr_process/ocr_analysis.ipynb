{
 "cells": [
  {
   "cell_type": "code",
   "execution_count": 1,
   "id": "acbd42a7",
   "metadata": {
    "ExecuteTime": {
     "end_time": "2022-04-20T06:14:16.289232Z",
     "start_time": "2022-04-20T06:14:16.286693Z"
    }
   },
   "outputs": [],
   "source": [
    "import json"
   ]
  },
  {
   "cell_type": "code",
   "execution_count": 2,
   "id": "b960d1de",
   "metadata": {
    "ExecuteTime": {
     "end_time": "2022-04-20T06:14:17.210202Z",
     "start_time": "2022-04-20T06:14:17.207741Z"
    }
   },
   "outputs": [],
   "source": [
    "input_json_path = \"./data/vizwiz/val_ocr_result.json\"\n",
    "output_json_path = \"./data/vizwiz/val_ocr_result_filter.json\""
   ]
  },
  {
   "cell_type": "code",
   "execution_count": 3,
   "id": "f616603b",
   "metadata": {
    "ExecuteTime": {
     "end_time": "2022-04-20T06:14:19.869515Z",
     "start_time": "2022-04-20T06:14:17.730900Z"
    }
   },
   "outputs": [],
   "source": [
    "with open(input_json_path, \"r\") as f:\n",
    "    data = json.load(f)"
   ]
  },
  {
   "cell_type": "code",
   "execution_count": 4,
   "id": "06d00e16",
   "metadata": {
    "ExecuteTime": {
     "end_time": "2022-04-20T06:14:20.401820Z",
     "start_time": "2022-04-20T06:14:20.373102Z"
    }
   },
   "outputs": [],
   "source": [
    "filter_data = {}\n",
    "for img in data.keys():\n",
    "    tmp_data = []\n",
    "    for word in data[img]:\n",
    "        _, tmp_word, confidence = word\n",
    "        if confidence >= 0.9:\n",
    "            tmp_data.append([tmp_word,confidence])\n",
    "    filter_data[img] = tmp_data"
   ]
  },
  {
   "cell_type": "code",
   "execution_count": 5,
   "id": "8cbb62dc",
   "metadata": {
    "ExecuteTime": {
     "end_time": "2022-04-20T06:14:21.712307Z",
     "start_time": "2022-04-20T06:14:21.576565Z"
    }
   },
   "outputs": [],
   "source": [
    "with open(output_json_path, \"w\") as f:\n",
    "    json.dump(filter_data, f, indent=4)"
   ]
  },
  {
   "cell_type": "code",
   "execution_count": 11,
   "id": "298ee86b",
   "metadata": {
    "ExecuteTime": {
     "end_time": "2022-04-20T06:58:17.072799Z",
     "start_time": "2022-04-20T06:58:17.063592Z"
    }
   },
   "outputs": [],
   "source": [
    "uniter_input_path = \"./models/top3000_only_train_2022_4_18/val_predict.json\"\n",
    "with open(uniter_input_path, \"r\") as f:\n",
    "    uniter_data = json.load(f)"
   ]
  },
  {
   "cell_type": "code",
   "execution_count": 8,
   "id": "fee244cb",
   "metadata": {
    "ExecuteTime": {
     "end_time": "2022-04-20T06:49:58.638007Z",
     "start_time": "2022-04-20T06:49:58.618523Z"
    }
   },
   "outputs": [],
   "source": [
    "ocr_input_path = \"./data/vizwiz/val_ocr_result_filter.json\"\n",
    "with open(ocr_input_path, \"r\") as f:\n",
    "    ocr_data = json.load(f)"
   ]
  },
  {
   "cell_type": "code",
   "execution_count": 17,
   "id": "e98f088b",
   "metadata": {
    "ExecuteTime": {
     "end_time": "2022-04-20T07:03:02.204855Z",
     "start_time": "2022-04-20T07:03:02.195319Z"
    }
   },
   "outputs": [
    {
     "name": "stdout",
     "output_type": "stream",
     "text": [
      "3 42 0.07142857142857142\n",
      "0 2373 0.0\n"
     ]
    }
   ],
   "source": [
    "number_cnt, number_ocr_cnt = 0, 0\n",
    "other_cnt, other_ocr_cnt = 0, 0\n",
    "for item in uniter_data:\n",
    "    answer, answer_type, img_id, ques_id = item.values()\n",
    "    img_id += \".jpg\"\n",
    "    ocr_result = ocr_data[img_id]\n",
    "    if answer_type == \"number\":\n",
    "        number_cnt += 1\n",
    "        for ocr_item in ocr_result:\n",
    "            if answer in ocr_item:\n",
    "                number_ocr_cnt += 1\n",
    "    if answer_type == \"other\":\n",
    "        other_cnt += 1\n",
    "        for ocr_item in ocr_result:\n",
    "            if answer in ocr_item:\n",
    "                other_ocr_cnt += 1\n",
    "        \n",
    "print(number_ocr_cnt, number_cnt,number_ocr_cnt/number_cnt)\n",
    "print(other_ocr_cnt, other_cnt,other_ocr_cnt/other_cnt)"
   ]
  },
  {
   "cell_type": "code",
   "execution_count": null,
   "id": "5774e289",
   "metadata": {},
   "outputs": [],
   "source": []
  }
 ],
 "metadata": {
  "kernelspec": {
   "display_name": "Python [conda env:nlp] *",
   "language": "python",
   "name": "conda-env-nlp-py"
  },
  "language_info": {
   "codemirror_mode": {
    "name": "ipython",
    "version": 3
   },
   "file_extension": ".py",
   "mimetype": "text/x-python",
   "name": "python",
   "nbconvert_exporter": "python",
   "pygments_lexer": "ipython3",
   "version": "3.6.13"
  },
  "varInspector": {
   "cols": {
    "lenName": 16,
    "lenType": 16,
    "lenVar": 40
   },
   "kernels_config": {
    "python": {
     "delete_cmd_postfix": "",
     "delete_cmd_prefix": "del ",
     "library": "var_list.py",
     "varRefreshCmd": "print(var_dic_list())"
    },
    "r": {
     "delete_cmd_postfix": ") ",
     "delete_cmd_prefix": "rm(",
     "library": "var_list.r",
     "varRefreshCmd": "cat(var_dic_list()) "
    }
   },
   "types_to_exclude": [
    "module",
    "function",
    "builtin_function_or_method",
    "instance",
    "_Feature"
   ],
   "window_display": false
  }
 },
 "nbformat": 4,
 "nbformat_minor": 5
}
