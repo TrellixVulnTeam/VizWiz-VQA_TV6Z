{
 "cells": [
  {
   "cell_type": "code",
   "execution_count": 1,
   "id": "f5c63f8f",
   "metadata": {
    "ExecuteTime": {
     "end_time": "2022-06-21T03:35:49.661354Z",
     "start_time": "2022-06-21T03:35:49.659063Z"
    }
   },
   "outputs": [],
   "source": [
    "import json"
   ]
  },
  {
   "cell_type": "code",
   "execution_count": 2,
   "id": "39daab5b",
   "metadata": {
    "ExecuteTime": {
     "end_time": "2022-06-21T03:35:50.151384Z",
     "start_time": "2022-06-21T03:35:50.149545Z"
    }
   },
   "outputs": [],
   "source": [
    "train_ocr_path = \"/root/QianZe/Transformers-VQA/data/vizwiz/ocr_result/train_ocr_result_en_PP-ocrv3.json\"\n",
    "val_ocr_path = \"/root/QianZe/Transformers-VQA/data/vizwiz/ocr_result/val_ocr_result_en_PP-ocrv3.json\""
   ]
  },
  {
   "cell_type": "code",
   "execution_count": 3,
   "id": "228bc658",
   "metadata": {
    "ExecuteTime": {
     "end_time": "2022-06-21T03:35:50.416927Z",
     "start_time": "2022-06-21T03:35:50.414740Z"
    }
   },
   "outputs": [],
   "source": [
    "def read_ocr(path):\n",
    "    with open(path, \"r\") as f:\n",
    "        data = json.load(f)\n",
    "    \n",
    "    return data"
   ]
  },
  {
   "cell_type": "code",
   "execution_count": 4,
   "id": "9c266e56",
   "metadata": {
    "ExecuteTime": {
     "end_time": "2022-06-21T03:35:50.809602Z",
     "start_time": "2022-06-21T03:35:50.805682Z"
    }
   },
   "outputs": [],
   "source": [
    "def process_single_image(boxes):\n",
    "    if len(boxes) == 0:\n",
    "        return -1\n",
    "    \n",
    "    ratio = 0\n",
    "    for box in boxes:\n",
    "        pos, text = box\n",
    "        x1, x2, x3, x4 = pos\n",
    "        wide = x2[0] - x1[0]\n",
    "        height = x3[1] - x2[1]\n",
    "        if wide == 0.0:\n",
    "            wide = 1\n",
    "        if height == 0.0:\n",
    "            height = 1\n",
    "        tmp_ratio = wide / height\n",
    "#         print(tmp_ratio)\n",
    "        ratio += tmp_ratio\n",
    "    \n",
    "    average_ratio = ratio / len(boxes)\n",
    "    \n",
    "    return average_ratio"
   ]
  },
  {
   "cell_type": "code",
   "execution_count": 5,
   "id": "3517c7a1",
   "metadata": {
    "ExecuteTime": {
     "end_time": "2022-06-21T03:35:51.319913Z",
     "start_time": "2022-06-21T03:35:51.317563Z"
    }
   },
   "outputs": [],
   "source": [
    "def process_images(ocr_data):\n",
    "    ratio_dict = {}\n",
    "    for image_id, boxes in ocr_data.items():\n",
    "        average_ratio = process_single_image(boxes)\n",
    "        ratio_dict[image_id] = average_ratio\n",
    "    \n",
    "    return ratio_dict"
   ]
  },
  {
   "cell_type": "code",
   "execution_count": 6,
   "id": "2bf2093f",
   "metadata": {
    "ExecuteTime": {
     "end_time": "2022-06-21T03:35:51.825101Z",
     "start_time": "2022-06-21T03:35:51.822026Z"
    }
   },
   "outputs": [],
   "source": [
    "def count(ratio_dict, h_thres, v_thres):\n",
    "    h_cnt, v_cnt, no_ocr = 0, 0, 0\n",
    "    for ratio in list(ratio_dict.values()):\n",
    "        if ratio == -1:\n",
    "            no_ocr += 1\n",
    "        elif ratio >= h_thres:\n",
    "            h_cnt += 1\n",
    "        elif ratio < v_thres:\n",
    "            v_cnt += 1\n",
    "    \n",
    "    return h_cnt, v_cnt, no_ocr"
   ]
  },
  {
   "cell_type": "code",
   "execution_count": 7,
   "id": "0e66d4f7",
   "metadata": {
    "ExecuteTime": {
     "end_time": "2022-06-21T03:35:52.319931Z",
     "start_time": "2022-06-21T03:35:52.317604Z"
    }
   },
   "outputs": [],
   "source": [
    "def extract_rects(ocr_info):\n",
    "    rects = []\n",
    "    for boxes in ocr_info:\n",
    "        rect, text = boxes\n",
    "        rects.append(np.array(rect))\n",
    "    \n",
    "    return rects"
   ]
  },
  {
   "cell_type": "code",
   "execution_count": 8,
   "id": "0d484655",
   "metadata": {
    "ExecuteTime": {
     "end_time": "2022-06-21T03:35:53.766425Z",
     "start_time": "2022-06-21T03:35:53.149868Z"
    }
   },
   "outputs": [],
   "source": [
    "train_ocr = read_ocr(train_ocr_path)\n",
    "train_ocr_ratio = process_images(train_ocr)"
   ]
  },
  {
   "cell_type": "code",
   "execution_count": 9,
   "id": "9f95131a",
   "metadata": {
    "ExecuteTime": {
     "end_time": "2022-06-21T03:35:55.731409Z",
     "start_time": "2022-06-21T03:35:55.533694Z"
    }
   },
   "outputs": [],
   "source": [
    "val_ocr = read_ocr(val_ocr_path)\n",
    "val_ocr_ratio = process_images(val_ocr)"
   ]
  },
  {
   "cell_type": "code",
   "execution_count": 10,
   "id": "f74588f3",
   "metadata": {
    "ExecuteTime": {
     "end_time": "2022-06-21T03:35:56.786899Z",
     "start_time": "2022-06-21T03:35:56.785097Z"
    }
   },
   "outputs": [],
   "source": [
    "h_threshold = 2\n",
    "v_threshold = 0.5"
   ]
  },
  {
   "cell_type": "code",
   "execution_count": 11,
   "id": "150a76e9",
   "metadata": {
    "ExecuteTime": {
     "end_time": "2022-06-21T03:35:57.845046Z",
     "start_time": "2022-06-21T03:35:57.837572Z"
    }
   },
   "outputs": [
    {
     "data": {
      "text/plain": [
       "(3033, 551, 3613)"
      ]
     },
     "execution_count": 11,
     "metadata": {},
     "output_type": "execute_result"
    }
   ],
   "source": [
    "count(val_ocr_ratio, h_threshold, v_threshold)\n",
    "# count(train_ocr_ratio, h_threshold, v_threshold)"
   ]
  },
  {
   "cell_type": "code",
   "execution_count": 12,
   "id": "5ee4f119",
   "metadata": {
    "ExecuteTime": {
     "end_time": "2022-06-21T03:36:04.385848Z",
     "start_time": "2022-06-21T03:36:04.383205Z"
    }
   },
   "outputs": [],
   "source": [
    "test_image = \"/root/QianZe/VizWiz-VQA/val/VizWiz_val_00000031.jpg\"\n",
    "test_rects = extract_rects(val_ocr[\"VizWiz_val_00000031\"])"
   ]
  },
  {
   "cell_type": "code",
   "execution_count": 17,
   "id": "f6a0f3ad",
   "metadata": {
    "ExecuteTime": {
     "end_time": "2022-06-21T03:37:37.465632Z",
     "start_time": "2022-06-21T03:37:37.463483Z"
    }
   },
   "outputs": [],
   "source": [
    "test_rects = np.array(test_rects)"
   ]
  },
  {
   "cell_type": "code",
   "execution_count": 19,
   "id": "6ed06586",
   "metadata": {
    "ExecuteTime": {
     "end_time": "2022-06-21T03:38:07.324258Z",
     "start_time": "2022-06-21T03:38:07.320970Z"
    }
   },
   "outputs": [
    {
     "data": {
      "text/plain": [
       "array([[[209., 815.],\n",
       "        [339., 846.],\n",
       "        [332., 874.],\n",
       "        [202., 843.]],\n",
       "\n",
       "       [[345., 865.],\n",
       "        [486., 895.],\n",
       "        [481., 918.],\n",
       "        [340., 888.]],\n",
       "\n",
       "       [[194., 879.],\n",
       "        [598., 960.],\n",
       "        [594., 979.],\n",
       "        [190., 898.]]])"
      ]
     },
     "execution_count": 19,
     "metadata": {},
     "output_type": "execute_result"
    }
   ],
   "source": [
    "test_rects"
   ]
  },
  {
   "cell_type": "code",
   "execution_count": 14,
   "id": "3ce33feb",
   "metadata": {
    "ExecuteTime": {
     "end_time": "2022-06-21T03:36:33.755371Z",
     "start_time": "2022-06-21T03:36:33.752172Z"
    }
   },
   "outputs": [],
   "source": [
    "def get_rect_points(text_boxes):\n",
    "    x1 = np.min(text_boxes[:, :, 0])\n",
    "    y1 = np.min(text_boxes[:, :, 1])\n",
    "    x2 = np.max(text_boxes[:, :, 0])\n",
    "    y2 = np.max(text_boxes[:, :, 1])\n",
    "\n",
    "    return [x1, y1, x2, y2]"
   ]
  },
  {
   "cell_type": "code",
   "execution_count": 18,
   "id": "f4f2da89",
   "metadata": {
    "ExecuteTime": {
     "end_time": "2022-06-21T03:37:39.953821Z",
     "start_time": "2022-06-21T03:37:39.950839Z"
    }
   },
   "outputs": [
    {
     "data": {
      "text/plain": [
       "[190.0, 815.0, 598.0, 979.0]"
      ]
     },
     "execution_count": 18,
     "metadata": {},
     "output_type": "execute_result"
    }
   ],
   "source": [
    "get_rect_points(test_rects)"
   ]
  },
  {
   "cell_type": "code",
   "execution_count": null,
   "id": "ab81f911",
   "metadata": {},
   "outputs": [],
   "source": []
  }
 ],
 "metadata": {
  "kernelspec": {
   "display_name": "Python [conda env:nlp] *",
   "language": "python",
   "name": "conda-env-nlp-py"
  },
  "language_info": {
   "codemirror_mode": {
    "name": "ipython",
    "version": 3
   },
   "file_extension": ".py",
   "mimetype": "text/x-python",
   "name": "python",
   "nbconvert_exporter": "python",
   "pygments_lexer": "ipython3",
   "version": "3.6.13"
  },
  "varInspector": {
   "cols": {
    "lenName": 16,
    "lenType": 16,
    "lenVar": 40
   },
   "kernels_config": {
    "python": {
     "delete_cmd_postfix": "",
     "delete_cmd_prefix": "del ",
     "library": "var_list.py",
     "varRefreshCmd": "print(var_dic_list())"
    },
    "r": {
     "delete_cmd_postfix": ") ",
     "delete_cmd_prefix": "rm(",
     "library": "var_list.r",
     "varRefreshCmd": "cat(var_dic_list()) "
    }
   },
   "types_to_exclude": [
    "module",
    "function",
    "builtin_function_or_method",
    "instance",
    "_Feature"
   ],
   "window_display": false
  }
 },
 "nbformat": 4,
 "nbformat_minor": 5
}
