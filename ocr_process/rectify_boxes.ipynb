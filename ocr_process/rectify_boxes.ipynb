{
 "cells": [
  {
   "cell_type": "code",
   "execution_count": 1,
   "id": "8e54842d",
   "metadata": {
    "ExecuteTime": {
     "end_time": "2022-06-17T06:30:51.548611Z",
     "start_time": "2022-06-17T06:30:49.659614Z"
    }
   },
   "outputs": [],
   "source": [
    "from ast import dump\n",
    "from paddleocr import PaddleOCR, draw_ocr\n",
    "import os\n",
    "from glob import glob\n",
    "from tqdm import tqdm\n",
    "import json\n",
    "import cv2\n",
    "from matplotlib import pyplot as plt"
   ]
  },
  {
   "cell_type": "code",
   "execution_count": 2,
   "id": "e544136c",
   "metadata": {
    "ExecuteTime": {
     "end_time": "2022-06-17T06:30:58.453936Z",
     "start_time": "2022-06-17T06:30:56.684050Z"
    }
   },
   "outputs": [
    {
     "name": "stdout",
     "output_type": "stream",
     "text": [
      "[2022/06/17 14:30:56] ppocr DEBUG: Namespace(alpha=1.0, benchmark=False, beta=1.0, cls_batch_num=6, cls_image_shape='3, 48, 192', cls_model_dir='/root/.paddleocr/whl/cls/ch_ppocr_mobile_v2.0_cls_infer', cls_thresh=0.9, cpu_threads=10, crop_res_save_dir='./output', det=True, det_algorithm='DB', det_db_box_thresh=0.6, det_db_score_mode='fast', det_db_thresh=0.3, det_db_unclip_ratio=1.5, det_east_cover_thresh=0.1, det_east_nms_thresh=0.2, det_east_score_thresh=0.8, det_fce_box_type='poly', det_limit_side_len=960, det_limit_type='max', det_model_dir='/root/.paddleocr/whl/det/ch/ch_PP-OCRv3_det_infer', det_pse_box_thresh=0.85, det_pse_box_type='quad', det_pse_min_area=16, det_pse_scale=1, det_pse_thresh=0, det_sast_nms_thresh=0.2, det_sast_polygon=False, det_sast_score_thresh=0.5, draw_img_save_dir='./inference_results', drop_score=0.5, e2e_algorithm='PGNet', e2e_char_dict_path='./ppocr/utils/ic15_dict.txt', e2e_limit_side_len=768, e2e_limit_type='max', e2e_model_dir=None, e2e_pgnet_mode='fast', e2e_pgnet_score_thresh=0.5, e2e_pgnet_valid_set='totaltext', enable_mkldnn=False, fourier_degree=5, gpu_mem=500, help='==SUPPRESS==', image_dir=None, ir_optim=True, label_list=['0', '180'], lang='ch', layout=True, layout_label_map=None, layout_path_model='lp://PubLayNet/ppyolov2_r50vd_dcn_365e_publaynet/config', max_batch_size=10, max_text_length=25, min_subgraph_size=15, mode='structure', ocr=True, ocr_version='PP-OCRv3', output='./output', precision='fp32', process_id=0, rec=True, rec_algorithm='SVTR_LCNet', rec_batch_num=6, rec_char_dict_path='/home/liuzheng/anaconda3/envs/nlp/lib/python3.6/site-packages/paddleocr/ppocr/utils/ppocr_keys_v1.txt', rec_image_shape='3, 48, 320', rec_model_dir='/root/.paddleocr/whl/rec/ch/ch_PP-OCRv3_rec_infer', save_crop_res=False, save_log_path='./log_output/', scales=[8, 16, 32], show_log=True, structure_version='PP-STRUCTURE', table=True, table_char_dict_path=None, table_max_len=488, table_model_dir=None, total_process_num=1, type='ocr', use_angle_cls=True, use_dilation=False, use_gpu=True, use_mp=False, use_onnx=False, use_pdserving=False, use_space_char=True, use_tensorrt=False, vis_font_path='./doc/fonts/simfang.ttf', warmup=False)\n",
      "label_list: ['0', '180']\n"
     ]
    }
   ],
   "source": [
    "ocr = PaddleOCR(use_angle_cls=True, lang='ch')"
   ]
  },
  {
   "cell_type": "code",
   "execution_count": 3,
   "id": "e2056d68",
   "metadata": {
    "ExecuteTime": {
     "end_time": "2022-06-17T06:31:00.032183Z",
     "start_time": "2022-06-17T06:31:00.027688Z"
    }
   },
   "outputs": [],
   "source": [
    "def calc_single_image_ratio(boxes):\n",
    "    if len(boxes) == 0:\n",
    "        return -1\n",
    "    \n",
    "    ratio = 0\n",
    "    for box in boxes:\n",
    "        pos, text, _ = box\n",
    "        x1, x2, x3, x4 = pos\n",
    "        wide = x2[0] - x1[0]\n",
    "        height = x3[1] - x2[1]\n",
    "        if wide == 0.0:\n",
    "            wide = 1\n",
    "        if height == 0.0:\n",
    "            height = 1\n",
    "        tmp_ratio = wide / height\n",
    "#         print(tmp_ratio)\n",
    "        ratio += tmp_ratio\n",
    "    \n",
    "    average_ratio = ratio / len(boxes)\n",
    "    \n",
    "    return average_ratio"
   ]
  },
  {
   "cell_type": "code",
   "execution_count": 10,
   "id": "cfd67c86",
   "metadata": {
    "ExecuteTime": {
     "end_time": "2022-06-17T06:33:28.428222Z",
     "start_time": "2022-06-17T06:33:28.422232Z"
    }
   },
   "outputs": [],
   "source": [
    "def rotate_detect_single_image(img_path):\n",
    "#     print(img_path)\n",
    "    img_cv = cv2.imread(img_path)\n",
    "    img_np = np.array(img_cv)\n",
    "    \n",
    "    drt_dict = {}\n",
    "    sum_conf, average_angle = 0, 0\n",
    "    for i in range(4):\n",
    "        img_np_i = np.rot90(img_np, i)\n",
    "        boxes = ocr.ocr(img_np_i, cls=True)\n",
    "        ratio = calc_single_image_ratio(boxes)\n",
    "        sum_angle, sum_conf, average_angle = 0, 0, 0\n",
    "        if len(boxes) != 0:\n",
    "            for box in boxes:\n",
    "                pos, text, angle = box\n",
    "                sum_conf += text[1]\n",
    "                sum_angle += int(angle[0])\n",
    "            average_angle = sum_angle / len(boxes)\n",
    "        drt_dict[i] = [sum_conf, ratio, average_angle]\n",
    "    \n",
    "    true_drt = -1\n",
    "    max_conf = 0\n",
    "    for drt, drt_info in drt_dict.items():\n",
    "        sum_conf, ratio, average_angle = drt_info\n",
    "        if ratio <= 0.5:\n",
    "            continue\n",
    "        if average_angle > 90:\n",
    "            continue\n",
    "        if sum_conf > max_conf:\n",
    "            true_drt = drt\n",
    "            max_conf = sum_conf\n",
    "    \n",
    "    return true_drt"
   ]
  },
  {
   "cell_type": "code",
   "execution_count": 11,
   "id": "7497c80a",
   "metadata": {
    "ExecuteTime": {
     "end_time": "2022-06-17T06:34:07.703850Z",
     "start_time": "2022-06-17T06:33:28.998375Z"
    }
   },
   "outputs": [
    {
     "name": "stderr",
     "output_type": "stream",
     "text": [
      "\r",
      "  0%|          | 0/100 [00:00<?, ?it/s]"
     ]
    },
    {
     "name": "stdout",
     "output_type": "stream",
     "text": [
      "[2022/06/17 14:33:29] ppocr DEBUG: dt_boxes num : 3, elapse : 0.03173494338989258\n",
      "[2022/06/17 14:33:29] ppocr DEBUG: cls num  : 3, elapse : 0.004273891448974609\n",
      "[2022/06/17 14:33:29] ppocr DEBUG: rec_res num  : 3, elapse : 0.007363319396972656\n",
      "[2022/06/17 14:33:29] ppocr DEBUG: dt_boxes num : 3, elapse : 0.04279518127441406\n",
      "[2022/06/17 14:33:29] ppocr DEBUG: cls num  : 3, elapse : 0.005570173263549805\n",
      "[2022/06/17 14:33:29] ppocr DEBUG: rec_res num  : 3, elapse : 0.00828242301940918\n",
      "[2022/06/17 14:33:29] ppocr DEBUG: dt_boxes num : 3, elapse : 0.03957080841064453\n",
      "[2022/06/17 14:33:29] ppocr DEBUG: cls num  : 3, elapse : 0.004111051559448242\n",
      "[2022/06/17 14:33:29] ppocr DEBUG: rec_res num  : 3, elapse : 0.007431507110595703\n",
      "[2022/06/17 14:33:29] ppocr DEBUG: dt_boxes num : 3, elapse : 0.04250001907348633\n",
      "[2022/06/17 14:33:29] ppocr DEBUG: cls num  : 3, elapse : 0.005063533782958984\n",
      "[2022/06/17 14:33:29] ppocr DEBUG: rec_res num  : 3, elapse : 0.008122444152832031\n"
     ]
    },
    {
     "name": "stderr",
     "output_type": "stream",
     "text": [
      "\r",
      "  1%|          | 1/100 [00:00<00:34,  2.85it/s]"
     ]
    },
    {
     "name": "stdout",
     "output_type": "stream",
     "text": [
      "[2022/06/17 14:33:29] ppocr DEBUG: dt_boxes num : 25, elapse : 0.020806550979614258\n",
      "[2022/06/17 14:33:29] ppocr DEBUG: cls num  : 25, elapse : 0.027010440826416016\n",
      "[2022/06/17 14:33:29] ppocr DEBUG: rec_res num  : 25, elapse : 0.05457806587219238\n",
      "[2022/06/17 14:33:29] ppocr DEBUG: dt_boxes num : 12, elapse : 0.01580953598022461\n",
      "[2022/06/17 14:33:29] ppocr DEBUG: cls num  : 12, elapse : 0.010840892791748047\n",
      "[2022/06/17 14:33:29] ppocr DEBUG: rec_res num  : 12, elapse : 0.0238192081451416\n",
      "[2022/06/17 14:33:29] ppocr DEBUG: dt_boxes num : 24, elapse : 0.020720481872558594\n",
      "[2022/06/17 14:33:29] ppocr DEBUG: cls num  : 24, elapse : 0.015428781509399414\n",
      "[2022/06/17 14:33:29] ppocr DEBUG: rec_res num  : 24, elapse : 0.04941129684448242\n",
      "[2022/06/17 14:33:29] ppocr DEBUG: dt_boxes num : 9, elapse : 0.015292644500732422\n",
      "[2022/06/17 14:33:29] ppocr DEBUG: cls num  : 9, elapse : 0.010844945907592773\n",
      "[2022/06/17 14:33:29] ppocr DEBUG: rec_res num  : 9, elapse : 0.016948461532592773\n"
     ]
    },
    {
     "name": "stderr",
     "output_type": "stream",
     "text": [
      "\r",
      "  2%|▏         | 2/100 [00:00<00:31,  3.10it/s]"
     ]
    },
    {
     "name": "stdout",
     "output_type": "stream",
     "text": [
      "[2022/06/17 14:33:29] ppocr DEBUG: dt_boxes num : 19, elapse : 0.038834571838378906\n",
      "[2022/06/17 14:33:29] ppocr DEBUG: cls num  : 19, elapse : 0.024295568466186523\n",
      "[2022/06/17 14:33:29] ppocr DEBUG: rec_res num  : 19, elapse : 0.04143881797790527\n",
      "[2022/06/17 14:33:29] ppocr DEBUG: dt_boxes num : 20, elapse : 0.05222916603088379\n",
      "[2022/06/17 14:33:29] ppocr DEBUG: cls num  : 20, elapse : 0.01957559585571289\n",
      "[2022/06/17 14:33:29] ppocr DEBUG: rec_res num  : 20, elapse : 0.03953909873962402\n",
      "[2022/06/17 14:33:30] ppocr DEBUG: dt_boxes num : 18, elapse : 0.04721784591674805\n",
      "[2022/06/17 14:33:30] ppocr DEBUG: cls num  : 18, elapse : 0.01762247085571289\n",
      "[2022/06/17 14:33:30] ppocr DEBUG: rec_res num  : 18, elapse : 0.03673744201660156\n",
      "[2022/06/17 14:33:30] ppocr DEBUG: dt_boxes num : 19, elapse : 0.0522160530090332\n",
      "[2022/06/17 14:33:30] ppocr DEBUG: cls num  : 19, elapse : 0.022477388381958008\n",
      "[2022/06/17 14:33:30] ppocr DEBUG: rec_res num  : 19, elapse : 0.03945016860961914\n"
     ]
    },
    {
     "name": "stderr",
     "output_type": "stream",
     "text": [
      "\r",
      "  3%|▎         | 3/100 [00:01<00:44,  2.20it/s]"
     ]
    },
    {
     "name": "stdout",
     "output_type": "stream",
     "text": [
      "[2022/06/17 14:33:30] ppocr DEBUG: dt_boxes num : 6, elapse : 0.037528038024902344\n",
      "[2022/06/17 14:33:30] ppocr DEBUG: cls num  : 6, elapse : 0.005107402801513672\n",
      "[2022/06/17 14:33:30] ppocr DEBUG: rec_res num  : 6, elapse : 0.01773214340209961\n",
      "[2022/06/17 14:33:30] ppocr DEBUG: dt_boxes num : 2, elapse : 0.039888858795166016\n",
      "[2022/06/17 14:33:30] ppocr DEBUG: cls num  : 2, elapse : 0.008611679077148438\n",
      "[2022/06/17 14:33:30] ppocr DEBUG: rec_res num  : 2, elapse : 0.005911827087402344\n",
      "[2022/06/17 14:33:30] ppocr DEBUG: dt_boxes num : 2, elapse : 0.037345170974731445\n",
      "[2022/06/17 14:33:30] ppocr DEBUG: cls num  : 2, elapse : 0.004225730895996094\n",
      "[2022/06/17 14:33:30] ppocr DEBUG: rec_res num  : 2, elapse : 0.007608890533447266\n",
      "[2022/06/17 14:33:30] ppocr DEBUG: dt_boxes num : 2, elapse : 0.03841972351074219\n",
      "[2022/06/17 14:33:30] ppocr DEBUG: cls num  : 2, elapse : 0.008640766143798828\n",
      "[2022/06/17 14:33:30] ppocr DEBUG: rec_res num  : 2, elapse : 0.009987354278564453\n"
     ]
    },
    {
     "name": "stderr",
     "output_type": "stream",
     "text": [
      "\r",
      "  4%|▍         | 4/100 [00:01<00:38,  2.48it/s]"
     ]
    },
    {
     "name": "stdout",
     "output_type": "stream",
     "text": [
      "[2022/06/17 14:33:30] ppocr DEBUG: dt_boxes num : 15, elapse : 0.039491891860961914\n",
      "[2022/06/17 14:33:30] ppocr DEBUG: cls num  : 15, elapse : 0.015357494354248047\n",
      "[2022/06/17 14:33:30] ppocr DEBUG: rec_res num  : 15, elapse : 0.026936769485473633\n",
      "[2022/06/17 14:33:30] ppocr DEBUG: dt_boxes num : 11, elapse : 0.04706096649169922\n",
      "[2022/06/17 14:33:30] ppocr DEBUG: cls num  : 11, elapse : 0.012821674346923828\n",
      "[2022/06/17 14:33:30] ppocr DEBUG: rec_res num  : 11, elapse : 0.025691747665405273\n",
      "[2022/06/17 14:33:30] ppocr DEBUG: dt_boxes num : 13, elapse : 0.047154903411865234\n",
      "[2022/06/17 14:33:30] ppocr DEBUG: cls num  : 13, elapse : 0.014285802841186523\n",
      "[2022/06/17 14:33:30] ppocr DEBUG: rec_res num  : 13, elapse : 0.023949861526489258\n",
      "[2022/06/17 14:33:31] ppocr DEBUG: dt_boxes num : 10, elapse : 0.04665851593017578\n",
      "[2022/06/17 14:33:31] ppocr DEBUG: cls num  : 10, elapse : 0.009293556213378906\n",
      "[2022/06/17 14:33:31] ppocr DEBUG: rec_res num  : 10, elapse : 0.023617982864379883\n"
     ]
    },
    {
     "name": "stderr",
     "output_type": "stream",
     "text": [
      "\r",
      "  5%|▌         | 5/100 [00:02<00:41,  2.28it/s]"
     ]
    },
    {
     "name": "stdout",
     "output_type": "stream",
     "text": [
      "[2022/06/17 14:33:31] ppocr DEBUG: dt_boxes num : 6, elapse : 0.013354301452636719\n",
      "[2022/06/17 14:33:31] ppocr DEBUG: cls num  : 6, elapse : 0.004724740982055664\n",
      "[2022/06/17 14:33:31] ppocr DEBUG: rec_res num  : 6, elapse : 0.012226343154907227\n",
      "[2022/06/17 14:33:31] ppocr DEBUG: dt_boxes num : 2, elapse : 0.012118816375732422\n",
      "[2022/06/17 14:33:31] ppocr DEBUG: cls num  : 2, elapse : 0.006203651428222656\n",
      "[2022/06/17 14:33:31] ppocr DEBUG: rec_res num  : 2, elapse : 0.005456447601318359\n",
      "[2022/06/17 14:33:31] ppocr DEBUG: dt_boxes num : 6, elapse : 0.013211727142333984\n",
      "[2022/06/17 14:33:31] ppocr DEBUG: cls num  : 6, elapse : 0.004456996917724609\n",
      "[2022/06/17 14:33:31] ppocr DEBUG: rec_res num  : 6, elapse : 0.01154184341430664\n",
      "[2022/06/17 14:33:31] ppocr DEBUG: dt_boxes num : 1, elapse : 0.011434555053710938\n",
      "[2022/06/17 14:33:31] ppocr DEBUG: cls num  : 1, elapse : 0.0039825439453125\n",
      "[2022/06/17 14:33:31] ppocr DEBUG: rec_res num  : 1, elapse : 0.0043582916259765625\n"
     ]
    },
    {
     "name": "stderr",
     "output_type": "stream",
     "text": [
      "\r",
      "  6%|▌         | 6/100 [00:02<00:31,  3.01it/s]"
     ]
    },
    {
     "name": "stdout",
     "output_type": "stream",
     "text": [
      "[2022/06/17 14:33:31] ppocr DEBUG: dt_boxes num : 3, elapse : 0.03408956527709961\n",
      "[2022/06/17 14:33:31] ppocr DEBUG: cls num  : 3, elapse : 0.004959821701049805\n",
      "[2022/06/17 14:33:31] ppocr DEBUG: rec_res num  : 3, elapse : 0.007872581481933594\n",
      "[2022/06/17 14:33:31] ppocr DEBUG: dt_boxes num : 6, elapse : 0.04086017608642578\n",
      "[2022/06/17 14:33:31] ppocr DEBUG: cls num  : 6, elapse : 0.004578351974487305\n",
      "[2022/06/17 14:33:31] ppocr DEBUG: rec_res num  : 6, elapse : 0.012350082397460938\n",
      "[2022/06/17 14:33:31] ppocr DEBUG: dt_boxes num : 2, elapse : 0.039072513580322266\n",
      "[2022/06/17 14:33:31] ppocr DEBUG: cls num  : 2, elapse : 0.0046541690826416016\n",
      "[2022/06/17 14:33:31] ppocr DEBUG: rec_res num  : 2, elapse : 0.0068171024322509766\n",
      "[2022/06/17 14:33:31] ppocr DEBUG: dt_boxes num : 8, elapse : 0.042066335678100586\n",
      "[2022/06/17 14:33:31] ppocr DEBUG: cls num  : 8, elapse : 0.007295370101928711\n",
      "[2022/06/17 14:33:31] ppocr DEBUG: rec_res num  : 8, elapse : 0.016257286071777344\n"
     ]
    },
    {
     "name": "stderr",
     "output_type": "stream",
     "text": [
      "\r",
      "  7%|▋         | 7/100 [00:02<00:30,  3.07it/s]"
     ]
    },
    {
     "name": "stdout",
     "output_type": "stream",
     "text": [
      "[2022/06/17 14:33:31] ppocr DEBUG: dt_boxes num : 7, elapse : 0.03461027145385742\n",
      "[2022/06/17 14:33:31] ppocr DEBUG: cls num  : 7, elapse : 0.009237527847290039\n",
      "[2022/06/17 14:33:31] ppocr DEBUG: rec_res num  : 7, elapse : 0.014771461486816406\n",
      "[2022/06/17 14:33:31] ppocr DEBUG: dt_boxes num : 10, elapse : 0.0471501350402832\n",
      "[2022/06/17 14:33:31] ppocr DEBUG: cls num  : 10, elapse : 0.010607242584228516\n",
      "[2022/06/17 14:33:31] ppocr DEBUG: rec_res num  : 10, elapse : 0.023435115814208984\n",
      "[2022/06/17 14:33:31] ppocr DEBUG: dt_boxes num : 9, elapse : 0.04341387748718262\n",
      "[2022/06/17 14:33:31] ppocr DEBUG: cls num  : 9, elapse : 0.009128093719482422\n",
      "[2022/06/17 14:33:31] ppocr DEBUG: rec_res num  : 9, elapse : 0.018755674362182617\n",
      "[2022/06/17 14:33:31] ppocr DEBUG: dt_boxes num : 11, elapse : 0.0459284782409668\n",
      "[2022/06/17 14:33:31] ppocr DEBUG: cls num  : 11, elapse : 0.010713815689086914\n",
      "[2022/06/17 14:33:31] ppocr DEBUG: rec_res num  : 11, elapse : 0.026007890701293945\n"
     ]
    },
    {
     "name": "stderr",
     "output_type": "stream",
     "text": [
      "\r",
      "  8%|▊         | 8/100 [00:02<00:33,  2.77it/s]"
     ]
    },
    {
     "name": "stdout",
     "output_type": "stream",
     "text": [
      "[2022/06/17 14:33:32] ppocr DEBUG: dt_boxes num : 8, elapse : 0.033170461654663086\n",
      "[2022/06/17 14:33:32] ppocr DEBUG: cls num  : 8, elapse : 0.008269309997558594\n",
      "[2022/06/17 14:33:32] ppocr DEBUG: rec_res num  : 8, elapse : 0.01633143424987793\n",
      "[2022/06/17 14:33:32] ppocr DEBUG: dt_boxes num : 7, elapse : 0.04444313049316406\n",
      "[2022/06/17 14:33:32] ppocr DEBUG: cls num  : 7, elapse : 0.01043248176574707\n",
      "[2022/06/17 14:33:32] ppocr DEBUG: rec_res num  : 7, elapse : 0.014724969863891602\n",
      "[2022/06/17 14:33:32] ppocr DEBUG: dt_boxes num : 9, elapse : 0.043073415756225586\n",
      "[2022/06/17 14:33:32] ppocr DEBUG: cls num  : 9, elapse : 0.008738517761230469\n",
      "[2022/06/17 14:33:32] ppocr DEBUG: rec_res num  : 9, elapse : 0.01740431785583496\n",
      "[2022/06/17 14:33:32] ppocr DEBUG: dt_boxes num : 8, elapse : 0.044614553451538086\n",
      "[2022/06/17 14:33:32] ppocr DEBUG: cls num  : 8, elapse : 0.014547348022460938\n",
      "[2022/06/17 14:33:32] ppocr DEBUG: rec_res num  : 8, elapse : 0.01914501190185547\n"
     ]
    },
    {
     "name": "stderr",
     "output_type": "stream",
     "text": [
      "\r",
      "  9%|▉         | 9/100 [00:03<00:35,  2.58it/s]"
     ]
    },
    {
     "name": "stdout",
     "output_type": "stream",
     "text": [
      "[2022/06/17 14:33:32] ppocr DEBUG: dt_boxes num : 8, elapse : 0.03457307815551758\n",
      "[2022/06/17 14:33:32] ppocr DEBUG: cls num  : 8, elapse : 0.0072290897369384766\n",
      "[2022/06/17 14:33:32] ppocr DEBUG: rec_res num  : 8, elapse : 0.01533961296081543\n",
      "[2022/06/17 14:33:32] ppocr DEBUG: dt_boxes num : 5, elapse : 0.04597878456115723\n",
      "[2022/06/17 14:33:32] ppocr DEBUG: cls num  : 5, elapse : 0.00508427619934082\n",
      "[2022/06/17 14:33:32] ppocr DEBUG: rec_res num  : 5, elapse : 0.009490013122558594\n",
      "[2022/06/17 14:33:32] ppocr DEBUG: dt_boxes num : 8, elapse : 0.04410862922668457\n",
      "[2022/06/17 14:33:32] ppocr DEBUG: cls num  : 8, elapse : 0.007447242736816406\n",
      "[2022/06/17 14:33:32] ppocr DEBUG: rec_res num  : 8, elapse : 0.015909910202026367\n",
      "[2022/06/17 14:33:32] ppocr DEBUG: dt_boxes num : 6, elapse : 0.04690265655517578\n",
      "[2022/06/17 14:33:32] ppocr DEBUG: cls num  : 6, elapse : 0.005483150482177734\n",
      "[2022/06/17 14:33:32] ppocr DEBUG: rec_res num  : 6, elapse : 0.011588573455810547\n"
     ]
    },
    {
     "name": "stderr",
     "output_type": "stream",
     "text": [
      "\r",
      " 10%|█         | 10/100 [00:03<00:35,  2.51it/s]"
     ]
    },
    {
     "name": "stdout",
     "output_type": "stream",
     "text": [
      "[2022/06/17 14:33:32] ppocr DEBUG: dt_boxes num : 9, elapse : 0.03672075271606445\n",
      "[2022/06/17 14:33:32] ppocr DEBUG: cls num  : 9, elapse : 0.008025884628295898\n",
      "[2022/06/17 14:33:32] ppocr DEBUG: rec_res num  : 9, elapse : 0.01748037338256836\n",
      "[2022/06/17 14:33:32] ppocr DEBUG: dt_boxes num : 7, elapse : 0.04248857498168945\n",
      "[2022/06/17 14:33:32] ppocr DEBUG: cls num  : 7, elapse : 0.008864641189575195\n",
      "[2022/06/17 14:33:33] ppocr DEBUG: rec_res num  : 7, elapse : 0.014389276504516602\n",
      "[2022/06/17 14:33:33] ppocr DEBUG: dt_boxes num : 5, elapse : 0.0371248722076416\n",
      "[2022/06/17 14:33:33] ppocr DEBUG: cls num  : 5, elapse : 0.004609823226928711\n",
      "[2022/06/17 14:33:33] ppocr DEBUG: rec_res num  : 5, elapse : 0.009007930755615234\n",
      "[2022/06/17 14:33:33] ppocr DEBUG: dt_boxes num : 4, elapse : 0.03821587562561035\n",
      "[2022/06/17 14:33:33] ppocr DEBUG: cls num  : 4, elapse : 0.0041310787200927734\n",
      "[2022/06/17 14:33:33] ppocr DEBUG: rec_res num  : 4, elapse : 0.008154630661010742\n"
     ]
    },
    {
     "name": "stderr",
     "output_type": "stream",
     "text": [
      "\r",
      " 11%|█         | 11/100 [00:04<00:32,  2.72it/s]"
     ]
    },
    {
     "name": "stdout",
     "output_type": "stream",
     "text": [
      "[2022/06/17 14:33:33] ppocr DEBUG: dt_boxes num : 10, elapse : 0.03441786766052246\n",
      "[2022/06/17 14:33:33] ppocr DEBUG: cls num  : 10, elapse : 0.008150815963745117\n",
      "[2022/06/17 14:33:33] ppocr DEBUG: rec_res num  : 10, elapse : 0.027779579162597656\n",
      "[2022/06/17 14:33:33] ppocr DEBUG: dt_boxes num : 8, elapse : 0.045276641845703125\n",
      "[2022/06/17 14:33:33] ppocr DEBUG: cls num  : 8, elapse : 0.008838891983032227\n",
      "[2022/06/17 14:33:33] ppocr DEBUG: rec_res num  : 8, elapse : 0.023769855499267578\n",
      "[2022/06/17 14:33:33] ppocr DEBUG: dt_boxes num : 10, elapse : 0.043181419372558594\n",
      "[2022/06/17 14:33:33] ppocr DEBUG: cls num  : 10, elapse : 0.009132623672485352\n",
      "[2022/06/17 14:33:33] ppocr DEBUG: rec_res num  : 10, elapse : 0.026793241500854492\n",
      "[2022/06/17 14:33:33] ppocr DEBUG: dt_boxes num : 8, elapse : 0.045287132263183594\n",
      "[2022/06/17 14:33:33] ppocr DEBUG: cls num  : 8, elapse : 0.00919032096862793\n",
      "[2022/06/17 14:33:33] ppocr DEBUG: rec_res num  : 8, elapse : 0.026465177536010742\n"
     ]
    },
    {
     "name": "stderr",
     "output_type": "stream",
     "text": [
      "\r",
      " 12%|█▏        | 12/100 [00:04<00:35,  2.48it/s]"
     ]
    },
    {
     "name": "stdout",
     "output_type": "stream",
     "text": [
      "[2022/06/17 14:33:33] ppocr DEBUG: dt_boxes num : 4, elapse : 0.031305551528930664\n",
      "[2022/06/17 14:33:33] ppocr DEBUG: cls num  : 4, elapse : 0.005076408386230469\n",
      "[2022/06/17 14:33:33] ppocr DEBUG: rec_res num  : 4, elapse : 0.009845256805419922\n",
      "[2022/06/17 14:33:33] ppocr DEBUG: dt_boxes num : 3, elapse : 0.04395461082458496\n",
      "[2022/06/17 14:33:33] ppocr DEBUG: cls num  : 3, elapse : 0.005166053771972656\n",
      "[2022/06/17 14:33:33] ppocr DEBUG: rec_res num  : 3, elapse : 0.008381843566894531\n",
      "[2022/06/17 14:33:33] ppocr DEBUG: dt_boxes num : 4, elapse : 0.04031538963317871\n",
      "[2022/06/17 14:33:33] ppocr DEBUG: cls num  : 4, elapse : 0.00506901741027832\n",
      "[2022/06/17 14:33:33] ppocr DEBUG: rec_res num  : 4, elapse : 0.010728597640991211\n",
      "[2022/06/17 14:33:33] ppocr DEBUG: dt_boxes num : 2, elapse : 0.042754173278808594\n",
      "[2022/06/17 14:33:33] ppocr DEBUG: cls num  : 2, elapse : 0.004827976226806641\n",
      "[2022/06/17 14:33:33] ppocr DEBUG: rec_res num  : 2, elapse : 0.00636601448059082\n"
     ]
    },
    {
     "name": "stderr",
     "output_type": "stream",
     "text": [
      "\r",
      " 13%|█▎        | 13/100 [00:04<00:33,  2.60it/s]"
     ]
    },
    {
     "name": "stdout",
     "output_type": "stream",
     "text": [
      "[2022/06/17 14:33:33] ppocr DEBUG: dt_boxes num : 0, elapse : 0.00904536247253418\n",
      "[2022/06/17 14:33:33] ppocr DEBUG: cls num  : 0, elapse : 0\n",
      "[2022/06/17 14:33:33] ppocr DEBUG: rec_res num  : 0, elapse : 1.430511474609375e-06\n",
      "[2022/06/17 14:33:33] ppocr DEBUG: dt_boxes num : 2, elapse : 0.011674642562866211\n",
      "[2022/06/17 14:33:33] ppocr DEBUG: cls num  : 2, elapse : 0.003900289535522461\n",
      "[2022/06/17 14:33:34] ppocr DEBUG: rec_res num  : 2, elapse : 0.005962371826171875\n",
      "[2022/06/17 14:33:34] ppocr DEBUG: dt_boxes num : 0, elapse : 0.009202718734741211\n",
      "[2022/06/17 14:33:34] ppocr DEBUG: cls num  : 0, elapse : 0\n",
      "[2022/06/17 14:33:34] ppocr DEBUG: rec_res num  : 0, elapse : 1.6689300537109375e-06\n",
      "[2022/06/17 14:33:34] ppocr DEBUG: dt_boxes num : 2, elapse : 0.011143684387207031\n",
      "[2022/06/17 14:33:34] ppocr DEBUG: cls num  : 2, elapse : 0.003604888916015625\n",
      "[2022/06/17 14:33:34] ppocr DEBUG: rec_res num  : 2, elapse : 0.005850076675415039\n",
      "[2022/06/17 14:33:34] ppocr DEBUG: dt_boxes num : 7, elapse : 0.03341174125671387\n",
      "[2022/06/17 14:33:34] ppocr DEBUG: cls num  : 7, elapse : 0.008082151412963867\n",
      "[2022/06/17 14:33:34] ppocr DEBUG: rec_res num  : 7, elapse : 0.01521444320678711\n",
      "[2022/06/17 14:33:34] ppocr DEBUG: dt_boxes num : 7, elapse : 0.04476332664489746\n",
      "[2022/06/17 14:33:34] ppocr DEBUG: cls num  : 7, elapse : 0.00801706314086914\n",
      "[2022/06/17 14:33:34] ppocr DEBUG: rec_res num  : 7, elapse : 0.020473480224609375\n",
      "[2022/06/17 14:33:34] ppocr DEBUG: dt_boxes num : 5, elapse : 0.04100203514099121\n",
      "[2022/06/17 14:33:34] ppocr DEBUG: cls num  : 5, elapse : 0.005819797515869141\n",
      "[2022/06/17 14:33:34] ppocr DEBUG: rec_res num  : 5, elapse : 0.011460065841674805\n",
      "[2022/06/17 14:33:34] ppocr DEBUG: dt_boxes num : 8, elapse : 0.04485154151916504\n",
      "[2022/06/17 14:33:34] ppocr DEBUG: cls num  : 8, elapse : 0.008609294891357422\n",
      "[2022/06/17 14:33:34] ppocr DEBUG: rec_res num  : 8, elapse : 0.017746686935424805\n"
     ]
    },
    {
     "name": "stderr",
     "output_type": "stream",
     "text": [
      "\r",
      " 15%|█▌        | 15/100 [00:05<00:27,  3.11it/s]"
     ]
    },
    {
     "name": "stdout",
     "output_type": "stream",
     "text": [
      "[2022/06/17 14:33:34] ppocr DEBUG: dt_boxes num : 9, elapse : 0.0385279655456543\n",
      "[2022/06/17 14:33:34] ppocr DEBUG: cls num  : 9, elapse : 0.008609771728515625\n",
      "[2022/06/17 14:33:34] ppocr DEBUG: rec_res num  : 9, elapse : 0.020767927169799805\n",
      "[2022/06/17 14:33:34] ppocr DEBUG: dt_boxes num : 6, elapse : 0.040326595306396484\n",
      "[2022/06/17 14:33:34] ppocr DEBUG: cls num  : 6, elapse : 0.005370140075683594\n",
      "[2022/06/17 14:33:34] ppocr DEBUG: rec_res num  : 6, elapse : 0.010828256607055664\n",
      "[2022/06/17 14:33:34] ppocr DEBUG: dt_boxes num : 8, elapse : 0.04002785682678223\n",
      "[2022/06/17 14:33:34] ppocr DEBUG: cls num  : 8, elapse : 0.007812023162841797\n",
      "[2022/06/17 14:33:34] ppocr DEBUG: rec_res num  : 8, elapse : 0.018058300018310547\n",
      "[2022/06/17 14:33:34] ppocr DEBUG: dt_boxes num : 6, elapse : 0.03999209403991699\n",
      "[2022/06/17 14:33:34] ppocr DEBUG: cls num  : 6, elapse : 0.006282806396484375\n",
      "[2022/06/17 14:33:34] ppocr DEBUG: rec_res num  : 6, elapse : 0.011932849884033203\n"
     ]
    },
    {
     "name": "stderr",
     "output_type": "stream",
     "text": [
      "\r",
      " 16%|█▌        | 16/100 [00:05<00:27,  3.03it/s]"
     ]
    },
    {
     "name": "stdout",
     "output_type": "stream",
     "text": [
      "[2022/06/17 14:33:34] ppocr DEBUG: dt_boxes num : 3, elapse : 0.03429746627807617\n",
      "[2022/06/17 14:33:34] ppocr DEBUG: cls num  : 3, elapse : 0.004176616668701172\n",
      "[2022/06/17 14:33:34] ppocr DEBUG: rec_res num  : 3, elapse : 0.00743412971496582\n",
      "[2022/06/17 14:33:34] ppocr DEBUG: dt_boxes num : 3, elapse : 0.041150569915771484\n",
      "[2022/06/17 14:33:34] ppocr DEBUG: cls num  : 3, elapse : 0.003903627395629883\n",
      "[2022/06/17 14:33:34] ppocr DEBUG: rec_res num  : 3, elapse : 0.007050275802612305\n",
      "[2022/06/17 14:33:35] ppocr DEBUG: dt_boxes num : 3, elapse : 0.04042458534240723\n",
      "[2022/06/17 14:33:35] ppocr DEBUG: cls num  : 3, elapse : 0.003923177719116211\n",
      "[2022/06/17 14:33:35] ppocr DEBUG: rec_res num  : 3, elapse : 0.00705718994140625\n",
      "[2022/06/17 14:33:35] ppocr DEBUG: dt_boxes num : 3, elapse : 0.038501739501953125\n",
      "[2022/06/17 14:33:35] ppocr DEBUG: cls num  : 3, elapse : 0.003916263580322266\n",
      "[2022/06/17 14:33:35] ppocr DEBUG: rec_res num  : 3, elapse : 0.006916046142578125\n"
     ]
    },
    {
     "name": "stderr",
     "output_type": "stream",
     "text": [
      "\r",
      " 17%|█▋        | 17/100 [00:06<00:26,  3.11it/s]"
     ]
    },
    {
     "name": "stdout",
     "output_type": "stream",
     "text": [
      "[2022/06/17 14:33:35] ppocr DEBUG: dt_boxes num : 8, elapse : 0.03391861915588379\n",
      "[2022/06/17 14:33:35] ppocr DEBUG: cls num  : 8, elapse : 0.007938623428344727\n",
      "[2022/06/17 14:33:35] ppocr DEBUG: rec_res num  : 8, elapse : 0.01647806167602539\n",
      "[2022/06/17 14:33:35] ppocr DEBUG: dt_boxes num : 2, elapse : 0.03768181800842285\n",
      "[2022/06/17 14:33:35] ppocr DEBUG: cls num  : 2, elapse : 0.0038170814514160156\n",
      "[2022/06/17 14:33:35] ppocr DEBUG: rec_res num  : 2, elapse : 0.006087303161621094\n",
      "[2022/06/17 14:33:35] ppocr DEBUG: dt_boxes num : 8, elapse : 0.03838610649108887\n",
      "[2022/06/17 14:33:35] ppocr DEBUG: cls num  : 8, elapse : 0.008041620254516602\n",
      "[2022/06/17 14:33:35] ppocr DEBUG: rec_res num  : 8, elapse : 0.01615309715270996\n",
      "[2022/06/17 14:33:35] ppocr DEBUG: dt_boxes num : 2, elapse : 0.03706550598144531\n",
      "[2022/06/17 14:33:35] ppocr DEBUG: cls num  : 2, elapse : 0.0037546157836914062\n",
      "[2022/06/17 14:33:35] ppocr DEBUG: rec_res num  : 2, elapse : 0.006013631820678711\n"
     ]
    },
    {
     "name": "stderr",
     "output_type": "stream",
     "text": [
      "\r",
      " 18%|█▊        | 18/100 [00:06<00:26,  3.14it/s]"
     ]
    },
    {
     "name": "stdout",
     "output_type": "stream",
     "text": [
      "[2022/06/17 14:33:35] ppocr DEBUG: dt_boxes num : 6, elapse : 0.013107538223266602\n",
      "[2022/06/17 14:33:35] ppocr DEBUG: cls num  : 6, elapse : 0.004627704620361328\n",
      "[2022/06/17 14:33:35] ppocr DEBUG: rec_res num  : 6, elapse : 0.010595321655273438\n",
      "[2022/06/17 14:33:35] ppocr DEBUG: dt_boxes num : 3, elapse : 0.012269735336303711\n",
      "[2022/06/17 14:33:35] ppocr DEBUG: cls num  : 3, elapse : 0.003602743148803711\n",
      "[2022/06/17 14:33:35] ppocr DEBUG: rec_res num  : 3, elapse : 0.007264614105224609\n",
      "[2022/06/17 14:33:35] ppocr DEBUG: dt_boxes num : 5, elapse : 0.012329816818237305\n",
      "[2022/06/17 14:33:35] ppocr DEBUG: cls num  : 5, elapse : 0.0033791065216064453\n",
      "[2022/06/17 14:33:35] ppocr DEBUG: rec_res num  : 5, elapse : 0.009046316146850586\n",
      "[2022/06/17 14:33:35] ppocr DEBUG: dt_boxes num : 2, elapse : 0.011947870254516602\n",
      "[2022/06/17 14:33:35] ppocr DEBUG: cls num  : 2, elapse : 0.0041272640228271484\n",
      "[2022/06/17 14:33:35] ppocr DEBUG: rec_res num  : 2, elapse : 0.005379676818847656\n"
     ]
    },
    {
     "name": "stderr",
     "output_type": "stream",
     "text": [
      "\r",
      " 19%|█▉        | 19/100 [00:06<00:21,  3.81it/s]"
     ]
    },
    {
     "name": "stdout",
     "output_type": "stream",
     "text": [
      "[2022/06/17 14:33:35] ppocr DEBUG: dt_boxes num : 8, elapse : 0.012815713882446289\n",
      "[2022/06/17 14:33:35] ppocr DEBUG: cls num  : 8, elapse : 0.006754636764526367\n",
      "[2022/06/17 14:33:35] ppocr DEBUG: rec_res num  : 8, elapse : 0.025697708129882812\n",
      "[2022/06/17 14:33:35] ppocr DEBUG: dt_boxes num : 6, elapse : 0.01312398910522461\n",
      "[2022/06/17 14:33:35] ppocr DEBUG: cls num  : 6, elapse : 0.005072593688964844\n",
      "[2022/06/17 14:33:35] ppocr DEBUG: rec_res num  : 6, elapse : 0.020399808883666992\n",
      "[2022/06/17 14:33:35] ppocr DEBUG: dt_boxes num : 9, elapse : 0.014264822006225586\n",
      "[2022/06/17 14:33:35] ppocr DEBUG: cls num  : 9, elapse : 0.008820056915283203\n",
      "[2022/06/17 14:33:35] ppocr DEBUG: rec_res num  : 9, elapse : 0.02292037010192871\n",
      "[2022/06/17 14:33:35] ppocr DEBUG: dt_boxes num : 6, elapse : 0.013017892837524414\n",
      "[2022/06/17 14:33:35] ppocr DEBUG: cls num  : 6, elapse : 0.00513005256652832\n",
      "[2022/06/17 14:33:35] ppocr DEBUG: rec_res num  : 6, elapse : 0.018326759338378906\n"
     ]
    },
    {
     "name": "stderr",
     "output_type": "stream",
     "text": [
      "\r",
      " 20%|██        | 20/100 [00:06<00:19,  4.13it/s]"
     ]
    },
    {
     "name": "stdout",
     "output_type": "stream",
     "text": [
      "[2022/06/17 14:33:35] ppocr DEBUG: dt_boxes num : 11, elapse : 0.03711533546447754\n",
      "[2022/06/17 14:33:35] ppocr DEBUG: cls num  : 11, elapse : 0.012071371078491211\n",
      "[2022/06/17 14:33:35] ppocr DEBUG: rec_res num  : 11, elapse : 0.028214454650878906\n",
      "[2022/06/17 14:33:35] ppocr DEBUG: dt_boxes num : 6, elapse : 0.04511451721191406\n",
      "[2022/06/17 14:33:35] ppocr DEBUG: cls num  : 6, elapse : 0.00573277473449707\n",
      "[2022/06/17 14:33:35] ppocr DEBUG: rec_res num  : 6, elapse : 0.0177152156829834\n",
      "[2022/06/17 14:33:36] ppocr DEBUG: dt_boxes num : 9, elapse : 0.04510331153869629\n",
      "[2022/06/17 14:33:36] ppocr DEBUG: cls num  : 9, elapse : 0.009013652801513672\n",
      "[2022/06/17 14:33:36] ppocr DEBUG: rec_res num  : 9, elapse : 0.02239251136779785\n",
      "[2022/06/17 14:33:36] ppocr DEBUG: dt_boxes num : 8, elapse : 0.047286033630371094\n",
      "[2022/06/17 14:33:36] ppocr DEBUG: cls num  : 8, elapse : 0.008468389511108398\n",
      "[2022/06/17 14:33:36] ppocr DEBUG: rec_res num  : 8, elapse : 0.01717996597290039\n"
     ]
    },
    {
     "name": "stderr",
     "output_type": "stream",
     "text": [
      "\r",
      " 21%|██        | 21/100 [00:07<00:24,  3.28it/s]"
     ]
    },
    {
     "name": "stdout",
     "output_type": "stream",
     "text": [
      "[2022/06/17 14:33:36] ppocr DEBUG: dt_boxes num : 5, elapse : 0.017977476119995117\n",
      "[2022/06/17 14:33:36] ppocr DEBUG: cls num  : 5, elapse : 0.0044252872467041016\n",
      "[2022/06/17 14:33:36] ppocr DEBUG: rec_res num  : 5, elapse : 0.009221792221069336\n",
      "[2022/06/17 14:33:36] ppocr DEBUG: dt_boxes num : 7, elapse : 0.01947021484375\n",
      "[2022/06/17 14:33:36] ppocr DEBUG: cls num  : 7, elapse : 0.007090568542480469\n",
      "[2022/06/17 14:33:36] ppocr DEBUG: rec_res num  : 7, elapse : 0.014619827270507812\n",
      "[2022/06/17 14:33:36] ppocr DEBUG: dt_boxes num : 8, elapse : 0.01966238021850586\n",
      "[2022/06/17 14:33:36] ppocr DEBUG: cls num  : 8, elapse : 0.007668733596801758\n",
      "[2022/06/17 14:33:36] ppocr DEBUG: rec_res num  : 8, elapse : 0.015455961227416992\n",
      "[2022/06/17 14:33:36] ppocr DEBUG: dt_boxes num : 7, elapse : 0.01936173439025879\n",
      "[2022/06/17 14:33:36] ppocr DEBUG: cls num  : 7, elapse : 0.0070953369140625\n",
      "[2022/06/17 14:33:36] ppocr DEBUG: rec_res num  : 7, elapse : 0.014823436737060547\n"
     ]
    },
    {
     "name": "stderr",
     "output_type": "stream",
     "text": [
      "\r",
      " 22%|██▏       | 22/100 [00:07<00:21,  3.69it/s]"
     ]
    },
    {
     "name": "stdout",
     "output_type": "stream",
     "text": [
      "[2022/06/17 14:33:36] ppocr DEBUG: dt_boxes num : 6, elapse : 0.01835322380065918\n",
      "[2022/06/17 14:33:36] ppocr DEBUG: cls num  : 6, elapse : 0.004975557327270508\n",
      "[2022/06/17 14:33:36] ppocr DEBUG: rec_res num  : 6, elapse : 0.0291595458984375\n",
      "[2022/06/17 14:33:36] ppocr DEBUG: dt_boxes num : 4, elapse : 0.019159793853759766\n",
      "[2022/06/17 14:33:36] ppocr DEBUG: cls num  : 4, elapse : 0.005497455596923828\n",
      "[2022/06/17 14:33:36] ppocr DEBUG: rec_res num  : 4, elapse : 0.019719362258911133\n",
      "[2022/06/17 14:33:36] ppocr DEBUG: dt_boxes num : 4, elapse : 0.01800084114074707\n",
      "[2022/06/17 14:33:36] ppocr DEBUG: cls num  : 4, elapse : 0.003361225128173828\n",
      "[2022/06/17 14:33:36] ppocr DEBUG: rec_res num  : 4, elapse : 0.01781773567199707\n",
      "[2022/06/17 14:33:36] ppocr DEBUG: dt_boxes num : 7, elapse : 0.01965188980102539\n",
      "[2022/06/17 14:33:36] ppocr DEBUG: cls num  : 7, elapse : 0.006520271301269531\n",
      "[2022/06/17 14:33:36] ppocr DEBUG: rec_res num  : 7, elapse : 0.0188143253326416\n"
     ]
    },
    {
     "name": "stderr",
     "output_type": "stream",
     "text": [
      "\r",
      " 23%|██▎       | 23/100 [00:07<00:19,  3.91it/s]"
     ]
    },
    {
     "name": "stdout",
     "output_type": "stream",
     "text": [
      "[2022/06/17 14:33:36] ppocr DEBUG: dt_boxes num : 8, elapse : 0.034665584564208984\n",
      "[2022/06/17 14:33:36] ppocr DEBUG: cls num  : 8, elapse : 0.009671688079833984\n",
      "[2022/06/17 14:33:36] ppocr DEBUG: rec_res num  : 8, elapse : 0.018769025802612305\n",
      "[2022/06/17 14:33:36] ppocr DEBUG: dt_boxes num : 10, elapse : 0.042119503021240234\n",
      "[2022/06/17 14:33:36] ppocr DEBUG: cls num  : 10, elapse : 0.006524801254272461\n",
      "[2022/06/17 14:33:36] ppocr DEBUG: rec_res num  : 10, elapse : 0.0285031795501709\n",
      "[2022/06/17 14:33:36] ppocr DEBUG: dt_boxes num : 9, elapse : 0.04387712478637695\n",
      "[2022/06/17 14:33:36] ppocr DEBUG: cls num  : 9, elapse : 0.008389711380004883\n",
      "[2022/06/17 14:33:36] ppocr DEBUG: rec_res num  : 9, elapse : 0.02070331573486328\n",
      "[2022/06/17 14:33:36] ppocr DEBUG: dt_boxes num : 9, elapse : 0.0421597957611084\n",
      "[2022/06/17 14:33:37] ppocr DEBUG: cls num  : 9, elapse : 0.00852823257446289\n",
      "[2022/06/17 14:33:37] ppocr DEBUG: rec_res num  : 9, elapse : 0.028171777725219727\n"
     ]
    },
    {
     "name": "stderr",
     "output_type": "stream",
     "text": [
      "\r",
      " 24%|██▍       | 24/100 [00:08<00:23,  3.23it/s]"
     ]
    },
    {
     "name": "stdout",
     "output_type": "stream",
     "text": [
      "[2022/06/17 14:33:37] ppocr DEBUG: dt_boxes num : 5, elapse : 0.03374505043029785\n",
      "[2022/06/17 14:33:37] ppocr DEBUG: cls num  : 5, elapse : 0.004494905471801758\n",
      "[2022/06/17 14:33:37] ppocr DEBUG: rec_res num  : 5, elapse : 0.009865522384643555\n",
      "[2022/06/17 14:33:37] ppocr DEBUG: dt_boxes num : 7, elapse : 0.0452878475189209\n",
      "[2022/06/17 14:33:37] ppocr DEBUG: cls num  : 7, elapse : 0.007398366928100586\n",
      "[2022/06/17 14:33:37] ppocr DEBUG: rec_res num  : 7, elapse : 0.014617443084716797\n",
      "[2022/06/17 14:33:37] ppocr DEBUG: dt_boxes num : 5, elapse : 0.04492616653442383\n",
      "[2022/06/17 14:33:37] ppocr DEBUG: cls num  : 5, elapse : 0.00400233268737793\n",
      "[2022/06/17 14:33:37] ppocr DEBUG: rec_res num  : 5, elapse : 0.009067773818969727\n",
      "[2022/06/17 14:33:37] ppocr DEBUG: dt_boxes num : 7, elapse : 0.04507279396057129\n",
      "[2022/06/17 14:33:37] ppocr DEBUG: cls num  : 7, elapse : 0.006966590881347656\n",
      "[2022/06/17 14:33:37] ppocr DEBUG: rec_res num  : 7, elapse : 0.013901948928833008\n"
     ]
    },
    {
     "name": "stderr",
     "output_type": "stream",
     "text": [
      "\r",
      " 25%|██▌       | 25/100 [00:08<00:25,  3.00it/s]"
     ]
    },
    {
     "name": "stdout",
     "output_type": "stream",
     "text": [
      "[2022/06/17 14:33:37] ppocr DEBUG: dt_boxes num : 1, elapse : 0.030954360961914062\n",
      "[2022/06/17 14:33:37] ppocr DEBUG: cls num  : 1, elapse : 0.0032300949096679688\n",
      "[2022/06/17 14:33:37] ppocr DEBUG: rec_res num  : 1, elapse : 0.004188060760498047\n",
      "[2022/06/17 14:33:37] ppocr DEBUG: dt_boxes num : 4, elapse : 0.04247331619262695\n",
      "[2022/06/17 14:33:37] ppocr DEBUG: cls num  : 4, elapse : 0.0036573410034179688\n",
      "[2022/06/17 14:33:37] ppocr DEBUG: rec_res num  : 4, elapse : 0.014235734939575195\n",
      "[2022/06/17 14:33:37] ppocr DEBUG: dt_boxes num : 2, elapse : 0.04047799110412598\n",
      "[2022/06/17 14:33:37] ppocr DEBUG: cls num  : 2, elapse : 0.003068685531616211\n",
      "[2022/06/17 14:33:37] ppocr DEBUG: rec_res num  : 2, elapse : 0.006676197052001953\n",
      "[2022/06/17 14:33:37] ppocr DEBUG: dt_boxes num : 6, elapse : 0.04295969009399414\n",
      "[2022/06/17 14:33:37] ppocr DEBUG: cls num  : 6, elapse : 0.0036089420318603516\n",
      "[2022/06/17 14:33:37] ppocr DEBUG: rec_res num  : 6, elapse : 0.01746392250061035\n"
     ]
    },
    {
     "name": "stderr",
     "output_type": "stream",
     "text": [
      "\r",
      " 26%|██▌       | 26/100 [00:08<00:25,  2.96it/s]"
     ]
    },
    {
     "name": "stdout",
     "output_type": "stream",
     "text": [
      "[2022/06/17 14:33:37] ppocr DEBUG: dt_boxes num : 1, elapse : 0.009328842163085938\n",
      "[2022/06/17 14:33:37] ppocr DEBUG: cls num  : 1, elapse : 0.0027871131896972656\n",
      "[2022/06/17 14:33:37] ppocr DEBUG: rec_res num  : 1, elapse : 0.004769086837768555\n",
      "[2022/06/17 14:33:37] ppocr DEBUG: dt_boxes num : 1, elapse : 0.009680509567260742\n",
      "[2022/06/17 14:33:37] ppocr DEBUG: cls num  : 1, elapse : 0.003608226776123047\n",
      "[2022/06/17 14:33:37] ppocr DEBUG: rec_res num  : 1, elapse : 0.0035026073455810547\n",
      "[2022/06/17 14:33:37] ppocr DEBUG: dt_boxes num : 1, elapse : 0.009495258331298828\n",
      "[2022/06/17 14:33:37] ppocr DEBUG: cls num  : 1, elapse : 0.0024487972259521484\n",
      "[2022/06/17 14:33:37] ppocr DEBUG: rec_res num  : 1, elapse : 0.0034286975860595703\n",
      "[2022/06/17 14:33:37] ppocr DEBUG: dt_boxes num : 1, elapse : 0.011761665344238281\n",
      "[2022/06/17 14:33:37] ppocr DEBUG: cls num  : 1, elapse : 0.002681255340576172\n",
      "[2022/06/17 14:33:37] ppocr DEBUG: rec_res num  : 1, elapse : 0.0036208629608154297\n",
      "[2022/06/17 14:33:38] ppocr DEBUG: dt_boxes num : 3, elapse : 0.03818178176879883\n",
      "[2022/06/17 14:33:38] ppocr DEBUG: cls num  : 3, elapse : 0.0033130645751953125\n",
      "[2022/06/17 14:33:38] ppocr DEBUG: rec_res num  : 3, elapse : 0.012163400650024414\n",
      "[2022/06/17 14:33:38] ppocr DEBUG: dt_boxes num : 3, elapse : 0.07602238655090332\n",
      "[2022/06/17 14:33:38] ppocr DEBUG: cls num  : 3, elapse : 0.005808591842651367\n",
      "[2022/06/17 14:33:38] ppocr DEBUG: rec_res num  : 3, elapse : 0.006034374237060547\n",
      "[2022/06/17 14:33:38] ppocr DEBUG: dt_boxes num : 3, elapse : 0.05151176452636719\n",
      "[2022/06/17 14:33:38] ppocr DEBUG: cls num  : 3, elapse : 0.0032265186309814453\n",
      "[2022/06/17 14:33:38] ppocr DEBUG: rec_res num  : 3, elapse : 0.010910511016845703\n",
      "[2022/06/17 14:33:38] ppocr DEBUG: dt_boxes num : 3, elapse : 0.07089948654174805\n",
      "[2022/06/17 14:33:38] ppocr DEBUG: cls num  : 3, elapse : 0.007315874099731445\n",
      "[2022/06/17 14:33:38] ppocr DEBUG: rec_res num  : 3, elapse : 0.009332895278930664\n"
     ]
    },
    {
     "name": "stderr",
     "output_type": "stream",
     "text": [
      "\r",
      " 28%|██▊       | 28/100 [00:09<00:26,  2.75it/s]"
     ]
    },
    {
     "name": "stdout",
     "output_type": "stream",
     "text": [
      "[2022/06/17 14:33:38] ppocr DEBUG: dt_boxes num : 14, elapse : 0.04269528388977051\n",
      "[2022/06/17 14:33:38] ppocr DEBUG: cls num  : 14, elapse : 0.010396480560302734\n",
      "[2022/06/17 14:33:38] ppocr DEBUG: rec_res num  : 14, elapse : 0.03751778602600098\n",
      "[2022/06/17 14:33:38] ppocr DEBUG: dt_boxes num : 10, elapse : 0.044914960861206055\n",
      "[2022/06/17 14:33:38] ppocr DEBUG: cls num  : 10, elapse : 0.006905794143676758\n",
      "[2022/06/17 14:33:38] ppocr DEBUG: rec_res num  : 10, elapse : 0.02118992805480957\n",
      "[2022/06/17 14:33:38] ppocr DEBUG: dt_boxes num : 13, elapse : 0.044120073318481445\n",
      "[2022/06/17 14:33:38] ppocr DEBUG: cls num  : 13, elapse : 0.010793685913085938\n",
      "[2022/06/17 14:33:38] ppocr DEBUG: rec_res num  : 13, elapse : 0.03432202339172363\n",
      "[2022/06/17 14:33:39] ppocr DEBUG: dt_boxes num : 8, elapse : 0.043987274169921875\n",
      "[2022/06/17 14:33:39] ppocr DEBUG: cls num  : 8, elapse : 0.007657527923583984\n",
      "[2022/06/17 14:33:39] ppocr DEBUG: rec_res num  : 8, elapse : 0.015538215637207031\n"
     ]
    },
    {
     "name": "stderr",
     "output_type": "stream",
     "text": [
      "\r",
      " 29%|██▉       | 29/100 [00:10<00:27,  2.56it/s]"
     ]
    },
    {
     "name": "stdout",
     "output_type": "stream",
     "text": [
      "[2022/06/17 14:33:39] ppocr DEBUG: dt_boxes num : 5, elapse : 0.03049468994140625\n",
      "[2022/06/17 14:33:39] ppocr DEBUG: cls num  : 5, elapse : 0.0037631988525390625\n",
      "[2022/06/17 14:33:39] ppocr DEBUG: rec_res num  : 5, elapse : 0.012712717056274414\n",
      "[2022/06/17 14:33:39] ppocr DEBUG: dt_boxes num : 4, elapse : 0.04182004928588867\n",
      "[2022/06/17 14:33:39] ppocr DEBUG: cls num  : 4, elapse : 0.003828287124633789\n",
      "[2022/06/17 14:33:39] ppocr DEBUG: rec_res num  : 4, elapse : 0.00915837287902832\n",
      "[2022/06/17 14:33:39] ppocr DEBUG: dt_boxes num : 5, elapse : 0.03900027275085449\n",
      "[2022/06/17 14:33:39] ppocr DEBUG: cls num  : 5, elapse : 0.003376483917236328\n",
      "[2022/06/17 14:33:39] ppocr DEBUG: rec_res num  : 5, elapse : 0.012845277786254883\n",
      "[2022/06/17 14:33:39] ppocr DEBUG: dt_boxes num : 5, elapse : 0.04100513458251953\n",
      "[2022/06/17 14:33:39] ppocr DEBUG: cls num  : 5, elapse : 0.00394439697265625\n",
      "[2022/06/17 14:33:39] ppocr DEBUG: rec_res num  : 5, elapse : 0.011394262313842773\n"
     ]
    },
    {
     "name": "stderr",
     "output_type": "stream",
     "text": [
      "\r",
      " 30%|███       | 30/100 [00:10<00:26,  2.64it/s]"
     ]
    },
    {
     "name": "stdout",
     "output_type": "stream",
     "text": [
      "[2022/06/17 14:33:39] ppocr DEBUG: dt_boxes num : 5, elapse : 0.011397123336791992\n",
      "[2022/06/17 14:33:39] ppocr DEBUG: cls num  : 5, elapse : 0.0035681724548339844\n",
      "[2022/06/17 14:33:39] ppocr DEBUG: rec_res num  : 5, elapse : 0.008916139602661133\n",
      "[2022/06/17 14:33:39] ppocr DEBUG: dt_boxes num : 3, elapse : 0.010532855987548828\n",
      "[2022/06/17 14:33:39] ppocr DEBUG: cls num  : 3, elapse : 0.0031130313873291016\n",
      "[2022/06/17 14:33:39] ppocr DEBUG: rec_res num  : 3, elapse : 0.006850481033325195\n",
      "[2022/06/17 14:33:39] ppocr DEBUG: dt_boxes num : 5, elapse : 0.011351346969604492\n",
      "[2022/06/17 14:33:39] ppocr DEBUG: cls num  : 5, elapse : 0.003295421600341797\n",
      "[2022/06/17 14:33:39] ppocr DEBUG: rec_res num  : 5, elapse : 0.008725404739379883\n",
      "[2022/06/17 14:33:39] ppocr DEBUG: dt_boxes num : 2, elapse : 0.009856700897216797\n",
      "[2022/06/17 14:33:39] ppocr DEBUG: cls num  : 2, elapse : 0.0029363632202148438\n",
      "[2022/06/17 14:33:39] ppocr DEBUG: rec_res num  : 2, elapse : 0.00543665885925293\n"
     ]
    },
    {
     "name": "stderr",
     "output_type": "stream",
     "text": [
      "\r",
      " 31%|███       | 31/100 [00:10<00:21,  3.29it/s]"
     ]
    },
    {
     "name": "stdout",
     "output_type": "stream",
     "text": [
      "[2022/06/17 14:33:39] ppocr DEBUG: dt_boxes num : 1, elapse : 0.028725385665893555\n",
      "[2022/06/17 14:33:39] ppocr DEBUG: cls num  : 1, elapse : 0.002763032913208008\n",
      "[2022/06/17 14:33:39] ppocr DEBUG: rec_res num  : 1, elapse : 0.0037200450897216797\n",
      "[2022/06/17 14:33:39] ppocr DEBUG: dt_boxes num : 2, elapse : 0.035727500915527344\n",
      "[2022/06/17 14:33:39] ppocr DEBUG: cls num  : 2, elapse : 0.0036013126373291016\n",
      "[2022/06/17 14:33:39] ppocr DEBUG: rec_res num  : 2, elapse : 0.0060961246490478516\n",
      "[2022/06/17 14:33:39] ppocr DEBUG: dt_boxes num : 2, elapse : 0.035105228424072266\n",
      "[2022/06/17 14:33:39] ppocr DEBUG: cls num  : 2, elapse : 0.0029277801513671875\n",
      "[2022/06/17 14:33:39] ppocr DEBUG: rec_res num  : 2, elapse : 0.0054781436920166016\n",
      "[2022/06/17 14:33:39] ppocr DEBUG: dt_boxes num : 1, elapse : 0.03538775444030762\n",
      "[2022/06/17 14:33:39] ppocr DEBUG: cls num  : 1, elapse : 0.003173828125\n",
      "[2022/06/17 14:33:39] ppocr DEBUG: rec_res num  : 1, elapse : 0.00393223762512207\n"
     ]
    },
    {
     "name": "stderr",
     "output_type": "stream",
     "text": [
      "\r",
      " 32%|███▏      | 32/100 [00:10<00:19,  3.44it/s]"
     ]
    },
    {
     "name": "stdout",
     "output_type": "stream",
     "text": [
      "[2022/06/17 14:33:39] ppocr DEBUG: dt_boxes num : 4, elapse : 0.0308990478515625\n",
      "[2022/06/17 14:33:39] ppocr DEBUG: cls num  : 4, elapse : 0.004495859146118164\n",
      "[2022/06/17 14:33:39] ppocr DEBUG: rec_res num  : 4, elapse : 0.008823156356811523\n",
      "[2022/06/17 14:33:39] ppocr DEBUG: dt_boxes num : 5, elapse : 0.04188394546508789\n",
      "[2022/06/17 14:33:39] ppocr DEBUG: cls num  : 5, elapse : 0.004036426544189453\n",
      "[2022/06/17 14:33:39] ppocr DEBUG: rec_res num  : 5, elapse : 0.009218215942382812\n",
      "[2022/06/17 14:33:39] ppocr DEBUG: dt_boxes num : 5, elapse : 0.03998613357543945\n",
      "[2022/06/17 14:33:39] ppocr DEBUG: cls num  : 5, elapse : 0.004205226898193359\n",
      "[2022/06/17 14:33:39] ppocr DEBUG: rec_res num  : 5, elapse : 0.009518623352050781\n",
      "[2022/06/17 14:33:40] ppocr DEBUG: dt_boxes num : 3, elapse : 0.04111075401306152\n",
      "[2022/06/17 14:33:40] ppocr DEBUG: cls num  : 3, elapse : 0.0036880970001220703\n",
      "[2022/06/17 14:33:40] ppocr DEBUG: rec_res num  : 3, elapse : 0.007239103317260742\n"
     ]
    },
    {
     "name": "stderr",
     "output_type": "stream",
     "text": [
      "\r",
      " 33%|███▎      | 33/100 [00:11<00:20,  3.29it/s]"
     ]
    },
    {
     "name": "stdout",
     "output_type": "stream",
     "text": [
      "[2022/06/17 14:33:40] ppocr DEBUG: dt_boxes num : 5, elapse : 0.031197786331176758\n",
      "[2022/06/17 14:33:40] ppocr DEBUG: cls num  : 5, elapse : 0.004251241683959961\n",
      "[2022/06/17 14:33:40] ppocr DEBUG: rec_res num  : 5, elapse : 0.009726285934448242\n",
      "[2022/06/17 14:33:40] ppocr DEBUG: dt_boxes num : 4, elapse : 0.03345298767089844\n",
      "[2022/06/17 14:33:40] ppocr DEBUG: cls num  : 4, elapse : 0.00315093994140625\n",
      "[2022/06/17 14:33:40] ppocr DEBUG: rec_res num  : 4, elapse : 0.00788736343383789\n",
      "[2022/06/17 14:33:40] ppocr DEBUG: dt_boxes num : 5, elapse : 0.03413891792297363\n",
      "[2022/06/17 14:33:40] ppocr DEBUG: cls num  : 5, elapse : 0.0042002201080322266\n",
      "[2022/06/17 14:33:40] ppocr DEBUG: rec_res num  : 5, elapse : 0.008994102478027344\n",
      "[2022/06/17 14:33:40] ppocr DEBUG: dt_boxes num : 4, elapse : 0.03343915939331055\n",
      "[2022/06/17 14:33:40] ppocr DEBUG: cls num  : 4, elapse : 0.0031278133392333984\n",
      "[2022/06/17 14:33:40] ppocr DEBUG: rec_res num  : 4, elapse : 0.007834196090698242\n"
     ]
    },
    {
     "name": "stderr",
     "output_type": "stream",
     "text": [
      "\r",
      " 34%|███▍      | 34/100 [00:11<00:19,  3.45it/s]"
     ]
    },
    {
     "name": "stdout",
     "output_type": "stream",
     "text": [
      "[2022/06/17 14:33:40] ppocr DEBUG: dt_boxes num : 4, elapse : 0.03043842315673828\n",
      "[2022/06/17 14:33:40] ppocr DEBUG: cls num  : 4, elapse : 0.003715991973876953\n",
      "[2022/06/17 14:33:40] ppocr DEBUG: rec_res num  : 4, elapse : 0.007947206497192383\n",
      "[2022/06/17 14:33:40] ppocr DEBUG: dt_boxes num : 4, elapse : 0.04065990447998047\n",
      "[2022/06/17 14:33:40] ppocr DEBUG: cls num  : 4, elapse : 0.003155231475830078\n",
      "[2022/06/17 14:33:40] ppocr DEBUG: rec_res num  : 4, elapse : 0.007757663726806641\n",
      "[2022/06/17 14:33:40] ppocr DEBUG: dt_boxes num : 3, elapse : 0.038630008697509766\n",
      "[2022/06/17 14:33:40] ppocr DEBUG: cls num  : 3, elapse : 0.00406336784362793\n",
      "[2022/06/17 14:33:40] ppocr DEBUG: rec_res num  : 3, elapse : 0.007626771926879883\n",
      "[2022/06/17 14:33:40] ppocr DEBUG: dt_boxes num : 3, elapse : 0.040130615234375\n",
      "[2022/06/17 14:33:40] ppocr DEBUG: cls num  : 3, elapse : 0.003055572509765625\n",
      "[2022/06/17 14:33:40] ppocr DEBUG: rec_res num  : 3, elapse : 0.006670475006103516\n"
     ]
    },
    {
     "name": "stderr",
     "output_type": "stream",
     "text": [
      "\r",
      " 35%|███▌      | 35/100 [00:11<00:19,  3.32it/s]"
     ]
    },
    {
     "name": "stdout",
     "output_type": "stream",
     "text": [
      "[2022/06/17 14:33:40] ppocr DEBUG: dt_boxes num : 6, elapse : 0.03119492530822754\n",
      "[2022/06/17 14:33:40] ppocr DEBUG: cls num  : 6, elapse : 0.003988742828369141\n",
      "[2022/06/17 14:33:40] ppocr DEBUG: rec_res num  : 6, elapse : 0.01202249526977539\n",
      "[2022/06/17 14:33:40] ppocr DEBUG: dt_boxes num : 6, elapse : 0.04252362251281738\n",
      "[2022/06/17 14:33:40] ppocr DEBUG: cls num  : 6, elapse : 0.005168914794921875\n",
      "[2022/06/17 14:33:40] ppocr DEBUG: rec_res num  : 6, elapse : 0.010987997055053711\n",
      "[2022/06/17 14:33:40] ppocr DEBUG: dt_boxes num : 6, elapse : 0.040105581283569336\n",
      "[2022/06/17 14:33:40] ppocr DEBUG: cls num  : 6, elapse : 0.0035698413848876953\n",
      "[2022/06/17 14:33:40] ppocr DEBUG: rec_res num  : 6, elapse : 0.012603044509887695\n",
      "[2022/06/17 14:33:41] ppocr DEBUG: dt_boxes num : 4, elapse : 0.0476679801940918\n",
      "[2022/06/17 14:33:41] ppocr DEBUG: cls num  : 4, elapse : 0.005161762237548828\n",
      "[2022/06/17 14:33:41] ppocr DEBUG: rec_res num  : 4, elapse : 0.008732318878173828\n"
     ]
    },
    {
     "name": "stderr",
     "output_type": "stream",
     "text": [
      "\r",
      " 36%|███▌      | 36/100 [00:12<00:20,  3.08it/s]"
     ]
    },
    {
     "name": "stdout",
     "output_type": "stream",
     "text": [
      "[2022/06/17 14:33:41] ppocr DEBUG: dt_boxes num : 12, elapse : 0.03807950019836426\n",
      "[2022/06/17 14:33:41] ppocr DEBUG: cls num  : 12, elapse : 0.007872581481933594\n",
      "[2022/06/17 14:33:41] ppocr DEBUG: rec_res num  : 12, elapse : 0.020686864852905273\n",
      "[2022/06/17 14:33:41] ppocr DEBUG: dt_boxes num : 17, elapse : 0.04273700714111328\n",
      "[2022/06/17 14:33:41] ppocr DEBUG: cls num  : 17, elapse : 0.01029348373413086\n",
      "[2022/06/17 14:33:41] ppocr DEBUG: rec_res num  : 17, elapse : 0.02861309051513672\n",
      "[2022/06/17 14:33:41] ppocr DEBUG: dt_boxes num : 15, elapse : 0.041268348693847656\n",
      "[2022/06/17 14:33:41] ppocr DEBUG: cls num  : 15, elapse : 0.010249614715576172\n",
      "[2022/06/17 14:33:41] ppocr DEBUG: rec_res num  : 15, elapse : 0.026834964752197266\n",
      "[2022/06/17 14:33:41] ppocr DEBUG: dt_boxes num : 18, elapse : 0.04365086555480957\n",
      "[2022/06/17 14:33:41] ppocr DEBUG: cls num  : 18, elapse : 0.010260820388793945\n",
      "[2022/06/17 14:33:41] ppocr DEBUG: rec_res num  : 18, elapse : 0.02982330322265625\n"
     ]
    },
    {
     "name": "stderr",
     "output_type": "stream",
     "text": [
      "\r",
      " 37%|███▋      | 37/100 [00:12<00:22,  2.86it/s]"
     ]
    },
    {
     "name": "stdout",
     "output_type": "stream",
     "text": [
      "[2022/06/17 14:33:41] ppocr DEBUG: dt_boxes num : 6, elapse : 0.03125119209289551\n",
      "[2022/06/17 14:33:41] ppocr DEBUG: cls num  : 6, elapse : 0.0034914016723632812\n",
      "[2022/06/17 14:33:41] ppocr DEBUG: rec_res num  : 6, elapse : 0.010331869125366211\n",
      "[2022/06/17 14:33:41] ppocr DEBUG: dt_boxes num : 6, elapse : 0.04207801818847656\n",
      "[2022/06/17 14:33:41] ppocr DEBUG: cls num  : 6, elapse : 0.004836082458496094\n",
      "[2022/06/17 14:33:41] ppocr DEBUG: rec_res num  : 6, elapse : 0.011551856994628906\n",
      "[2022/06/17 14:33:41] ppocr DEBUG: dt_boxes num : 5, elapse : 0.03940582275390625\n",
      "[2022/06/17 14:33:41] ppocr DEBUG: cls num  : 5, elapse : 0.003413677215576172\n",
      "[2022/06/17 14:33:41] ppocr DEBUG: rec_res num  : 5, elapse : 0.008667707443237305\n",
      "[2022/06/17 14:33:41] ppocr DEBUG: dt_boxes num : 6, elapse : 0.04190397262573242\n",
      "[2022/06/17 14:33:41] ppocr DEBUG: cls num  : 6, elapse : 0.004915952682495117\n",
      "[2022/06/17 14:33:41] ppocr DEBUG: rec_res num  : 6, elapse : 0.010404586791992188\n"
     ]
    },
    {
     "name": "stderr",
     "output_type": "stream",
     "text": [
      "\r",
      " 38%|███▊      | 38/100 [00:12<00:22,  2.80it/s]"
     ]
    },
    {
     "name": "stdout",
     "output_type": "stream",
     "text": [
      "[2022/06/17 14:33:41] ppocr DEBUG: dt_boxes num : 7, elapse : 0.032271623611450195\n",
      "[2022/06/17 14:33:41] ppocr DEBUG: cls num  : 7, elapse : 0.006151437759399414\n",
      "[2022/06/17 14:33:41] ppocr DEBUG: rec_res num  : 7, elapse : 0.015160322189331055\n",
      "[2022/06/17 14:33:41] ppocr DEBUG: dt_boxes num : 6, elapse : 0.04356741905212402\n",
      "[2022/06/17 14:33:42] ppocr DEBUG: cls num  : 6, elapse : 0.00627899169921875\n",
      "[2022/06/17 14:33:42] ppocr DEBUG: rec_res num  : 6, elapse : 0.015408515930175781\n",
      "[2022/06/17 14:33:42] ppocr DEBUG: dt_boxes num : 7, elapse : 0.04129910469055176\n",
      "[2022/06/17 14:33:42] ppocr DEBUG: cls num  : 7, elapse : 0.006805419921875\n",
      "[2022/06/17 14:33:42] ppocr DEBUG: rec_res num  : 7, elapse : 0.015798091888427734\n",
      "[2022/06/17 14:33:42] ppocr DEBUG: dt_boxes num : 6, elapse : 0.046332359313964844\n",
      "[2022/06/17 14:33:42] ppocr DEBUG: cls num  : 6, elapse : 0.005608081817626953\n",
      "[2022/06/17 14:33:42] ppocr DEBUG: rec_res num  : 6, elapse : 0.01372671127319336\n"
     ]
    },
    {
     "name": "stderr",
     "output_type": "stream",
     "text": [
      "\r",
      " 39%|███▉      | 39/100 [00:13<00:22,  2.68it/s]"
     ]
    },
    {
     "name": "stdout",
     "output_type": "stream",
     "text": [
      "[2022/06/17 14:33:42] ppocr DEBUG: dt_boxes num : 7, elapse : 0.03144979476928711\n",
      "[2022/06/17 14:33:42] ppocr DEBUG: cls num  : 7, elapse : 0.006654024124145508\n",
      "[2022/06/17 14:33:42] ppocr DEBUG: rec_res num  : 7, elapse : 0.01399993896484375\n",
      "[2022/06/17 14:33:42] ppocr DEBUG: dt_boxes num : 6, elapse : 0.037732839584350586\n",
      "[2022/06/17 14:33:42] ppocr DEBUG: cls num  : 6, elapse : 0.0040400028228759766\n",
      "[2022/06/17 14:33:42] ppocr DEBUG: rec_res num  : 6, elapse : 0.01086568832397461\n",
      "[2022/06/17 14:33:42] ppocr DEBUG: dt_boxes num : 7, elapse : 0.036658525466918945\n",
      "[2022/06/17 14:33:42] ppocr DEBUG: cls num  : 7, elapse : 0.006628513336181641\n",
      "[2022/06/17 14:33:42] ppocr DEBUG: rec_res num  : 7, elapse : 0.014056205749511719\n",
      "[2022/06/17 14:33:42] ppocr DEBUG: dt_boxes num : 5, elapse : 0.03696489334106445\n",
      "[2022/06/17 14:33:42] ppocr DEBUG: cls num  : 5, elapse : 0.0038290023803710938\n",
      "[2022/06/17 14:33:42] ppocr DEBUG: rec_res num  : 5, elapse : 0.009527206420898438\n"
     ]
    },
    {
     "name": "stderr",
     "output_type": "stream",
     "text": [
      "\r",
      " 40%|████      | 40/100 [00:13<00:21,  2.85it/s]"
     ]
    },
    {
     "name": "stdout",
     "output_type": "stream",
     "text": [
      "[2022/06/17 14:33:42] ppocr DEBUG: dt_boxes num : 13, elapse : 0.03520369529724121\n",
      "[2022/06/17 14:33:42] ppocr DEBUG: cls num  : 13, elapse : 0.010562896728515625\n",
      "[2022/06/17 14:33:42] ppocr DEBUG: rec_res num  : 13, elapse : 0.06998014450073242\n",
      "[2022/06/17 14:33:42] ppocr DEBUG: dt_boxes num : 11, elapse : 0.04524827003479004\n",
      "[2022/06/17 14:33:42] ppocr DEBUG: cls num  : 11, elapse : 0.010650873184204102\n",
      "[2022/06/17 14:33:42] ppocr DEBUG: rec_res num  : 11, elapse : 0.04935455322265625\n",
      "[2022/06/17 14:33:42] ppocr DEBUG: dt_boxes num : 13, elapse : 0.04455280303955078\n",
      "[2022/06/17 14:33:42] ppocr DEBUG: cls num  : 13, elapse : 0.01036381721496582\n",
      "[2022/06/17 14:33:42] ppocr DEBUG: rec_res num  : 13, elapse : 0.05396127700805664\n",
      "[2022/06/17 14:33:43] ppocr DEBUG: dt_boxes num : 12, elapse : 0.04973959922790527\n",
      "[2022/06/17 14:33:43] ppocr DEBUG: cls num  : 12, elapse : 0.008197307586669922\n",
      "[2022/06/17 14:33:43] ppocr DEBUG: rec_res num  : 12, elapse : 0.07701730728149414\n"
     ]
    },
    {
     "name": "stderr",
     "output_type": "stream",
     "text": [
      "\r",
      " 41%|████      | 41/100 [00:14<00:25,  2.29it/s]"
     ]
    },
    {
     "name": "stdout",
     "output_type": "stream",
     "text": [
      "[2022/06/17 14:33:43] ppocr DEBUG: dt_boxes num : 4, elapse : 0.034766197204589844\n",
      "[2022/06/17 14:33:43] ppocr DEBUG: cls num  : 4, elapse : 0.007895708084106445\n",
      "[2022/06/17 14:33:43] ppocr DEBUG: rec_res num  : 4, elapse : 0.0088653564453125\n",
      "[2022/06/17 14:33:43] ppocr DEBUG: dt_boxes num : 5, elapse : 0.038037776947021484\n",
      "[2022/06/17 14:33:43] ppocr DEBUG: cls num  : 5, elapse : 0.005259275436401367\n",
      "[2022/06/17 14:33:43] ppocr DEBUG: rec_res num  : 5, elapse : 0.011359453201293945\n",
      "[2022/06/17 14:33:43] ppocr DEBUG: dt_boxes num : 4, elapse : 0.037781476974487305\n",
      "[2022/06/17 14:33:43] ppocr DEBUG: cls num  : 4, elapse : 0.00535273551940918\n",
      "[2022/06/17 14:33:43] ppocr DEBUG: rec_res num  : 4, elapse : 0.008452177047729492\n",
      "[2022/06/17 14:33:43] ppocr DEBUG: dt_boxes num : 4, elapse : 0.0377047061920166\n",
      "[2022/06/17 14:33:43] ppocr DEBUG: cls num  : 4, elapse : 0.005861520767211914\n",
      "[2022/06/17 14:33:43] ppocr DEBUG: rec_res num  : 4, elapse : 0.008455753326416016\n"
     ]
    },
    {
     "name": "stderr",
     "output_type": "stream",
     "text": [
      "\r",
      " 42%|████▏     | 42/100 [00:14<00:22,  2.58it/s]"
     ]
    },
    {
     "name": "stdout",
     "output_type": "stream",
     "text": [
      "[2022/06/17 14:33:43] ppocr DEBUG: dt_boxes num : 6, elapse : 0.03427886962890625\n",
      "[2022/06/17 14:33:43] ppocr DEBUG: cls num  : 6, elapse : 0.00504755973815918\n",
      "[2022/06/17 14:33:43] ppocr DEBUG: rec_res num  : 6, elapse : 0.021196365356445312\n",
      "[2022/06/17 14:33:43] ppocr DEBUG: dt_boxes num : 4, elapse : 0.0459439754486084\n",
      "[2022/06/17 14:33:43] ppocr DEBUG: cls num  : 4, elapse : 0.00552058219909668\n",
      "[2022/06/17 14:33:43] ppocr DEBUG: rec_res num  : 4, elapse : 0.01265573501586914\n",
      "[2022/06/17 14:33:43] ppocr DEBUG: dt_boxes num : 6, elapse : 0.04359602928161621\n",
      "[2022/06/17 14:33:43] ppocr DEBUG: cls num  : 6, elapse : 0.005692243576049805\n",
      "[2022/06/17 14:33:43] ppocr DEBUG: rec_res num  : 6, elapse : 0.022629737854003906\n",
      "[2022/06/17 14:33:43] ppocr DEBUG: dt_boxes num : 7, elapse : 0.047773122787475586\n",
      "[2022/06/17 14:33:43] ppocr DEBUG: cls num  : 7, elapse : 0.008981704711914062\n",
      "[2022/06/17 14:33:43] ppocr DEBUG: rec_res num  : 7, elapse : 0.015554428100585938\n"
     ]
    },
    {
     "name": "stderr",
     "output_type": "stream",
     "text": [
      "\r",
      " 43%|████▎     | 43/100 [00:14<00:22,  2.49it/s]"
     ]
    },
    {
     "name": "stdout",
     "output_type": "stream",
     "text": [
      "[2022/06/17 14:33:43] ppocr DEBUG: dt_boxes num : 7, elapse : 0.020680904388427734\n",
      "[2022/06/17 14:33:43] ppocr DEBUG: cls num  : 7, elapse : 0.008363485336303711\n",
      "[2022/06/17 14:33:43] ppocr DEBUG: rec_res num  : 7, elapse : 0.01533651351928711\n",
      "[2022/06/17 14:33:43] ppocr DEBUG: dt_boxes num : 9, elapse : 0.023929834365844727\n",
      "[2022/06/17 14:33:43] ppocr DEBUG: cls num  : 9, elapse : 0.008016109466552734\n",
      "[2022/06/17 14:33:43] ppocr DEBUG: rec_res num  : 9, elapse : 0.016992568969726562\n",
      "[2022/06/17 14:33:44] ppocr DEBUG: dt_boxes num : 12, elapse : 0.022965192794799805\n",
      "[2022/06/17 14:33:44] ppocr DEBUG: cls num  : 12, elapse : 0.007975578308105469\n",
      "[2022/06/17 14:33:44] ppocr DEBUG: rec_res num  : 12, elapse : 0.02089548110961914\n",
      "[2022/06/17 14:33:44] ppocr DEBUG: dt_boxes num : 11, elapse : 0.02377486228942871\n",
      "[2022/06/17 14:33:44] ppocr DEBUG: cls num  : 11, elapse : 0.00861048698425293\n",
      "[2022/06/17 14:33:44] ppocr DEBUG: rec_res num  : 11, elapse : 0.01934218406677246\n"
     ]
    },
    {
     "name": "stderr",
     "output_type": "stream",
     "text": [
      "\r",
      " 44%|████▍     | 44/100 [00:15<00:19,  2.86it/s]"
     ]
    },
    {
     "name": "stdout",
     "output_type": "stream",
     "text": [
      "[2022/06/17 14:33:44] ppocr DEBUG: dt_boxes num : 4, elapse : 0.033312082290649414\n",
      "[2022/06/17 14:33:44] ppocr DEBUG: cls num  : 4, elapse : 0.0053844451904296875\n",
      "[2022/06/17 14:33:44] ppocr DEBUG: rec_res num  : 4, elapse : 0.00885319709777832\n",
      "[2022/06/17 14:33:44] ppocr DEBUG: dt_boxes num : 5, elapse : 0.045218706130981445\n",
      "[2022/06/17 14:33:44] ppocr DEBUG: cls num  : 5, elapse : 0.004315376281738281\n",
      "[2022/06/17 14:33:44] ppocr DEBUG: rec_res num  : 5, elapse : 0.009176015853881836\n",
      "[2022/06/17 14:33:44] ppocr DEBUG: dt_boxes num : 3, elapse : 0.041452884674072266\n",
      "[2022/06/17 14:33:44] ppocr DEBUG: cls num  : 3, elapse : 0.004523038864135742\n",
      "[2022/06/17 14:33:44] ppocr DEBUG: rec_res num  : 3, elapse : 0.007296085357666016\n",
      "[2022/06/17 14:33:44] ppocr DEBUG: dt_boxes num : 6, elapse : 0.04579806327819824\n",
      "[2022/06/17 14:33:44] ppocr DEBUG: cls num  : 6, elapse : 0.00464177131652832\n",
      "[2022/06/17 14:33:44] ppocr DEBUG: rec_res num  : 6, elapse : 0.010337352752685547\n"
     ]
    },
    {
     "name": "stderr",
     "output_type": "stream",
     "text": [
      "\r",
      " 45%|████▌     | 45/100 [00:15<00:19,  2.78it/s]"
     ]
    },
    {
     "name": "stdout",
     "output_type": "stream",
     "text": [
      "[2022/06/17 14:33:44] ppocr DEBUG: dt_boxes num : 1, elapse : 0.03061532974243164\n",
      "[2022/06/17 14:33:44] ppocr DEBUG: cls num  : 1, elapse : 0.0035457611083984375\n",
      "[2022/06/17 14:33:44] ppocr DEBUG: rec_res num  : 1, elapse : 0.004706382751464844\n",
      "[2022/06/17 14:33:44] ppocr DEBUG: dt_boxes num : 1, elapse : 0.04211783409118652\n",
      "[2022/06/17 14:33:44] ppocr DEBUG: cls num  : 1, elapse : 0.004348278045654297\n",
      "[2022/06/17 14:33:44] ppocr DEBUG: rec_res num  : 1, elapse : 0.004671573638916016\n",
      "[2022/06/17 14:33:44] ppocr DEBUG: dt_boxes num : 1, elapse : 0.03923153877258301\n",
      "[2022/06/17 14:33:44] ppocr DEBUG: cls num  : 1, elapse : 0.0038487911224365234\n",
      "[2022/06/17 14:33:44] ppocr DEBUG: rec_res num  : 1, elapse : 0.004698753356933594\n",
      "[2022/06/17 14:33:44] ppocr DEBUG: dt_boxes num : 1, elapse : 0.042087554931640625\n",
      "[2022/06/17 14:33:44] ppocr DEBUG: cls num  : 1, elapse : 0.004323482513427734\n",
      "[2022/06/17 14:33:44] ppocr DEBUG: rec_res num  : 1, elapse : 0.005444765090942383\n"
     ]
    },
    {
     "name": "stderr",
     "output_type": "stream",
     "text": [
      "\r",
      " 46%|████▌     | 46/100 [00:15<00:18,  2.86it/s]"
     ]
    },
    {
     "name": "stdout",
     "output_type": "stream",
     "text": [
      "[2022/06/17 14:33:44] ppocr DEBUG: dt_boxes num : 5, elapse : 0.01202249526977539\n",
      "[2022/06/17 14:33:44] ppocr DEBUG: cls num  : 5, elapse : 0.004920244216918945\n",
      "[2022/06/17 14:33:44] ppocr DEBUG: rec_res num  : 5, elapse : 0.0106353759765625\n",
      "[2022/06/17 14:33:44] ppocr DEBUG: dt_boxes num : 4, elapse : 0.011904478073120117\n",
      "[2022/06/17 14:33:44] ppocr DEBUG: cls num  : 4, elapse : 0.004497051239013672\n",
      "[2022/06/17 14:33:44] ppocr DEBUG: rec_res num  : 4, elapse : 0.008331775665283203\n",
      "[2022/06/17 14:33:44] ppocr DEBUG: dt_boxes num : 5, elapse : 0.012059688568115234\n",
      "[2022/06/17 14:33:44] ppocr DEBUG: cls num  : 5, elapse : 0.003907442092895508\n",
      "[2022/06/17 14:33:44] ppocr DEBUG: rec_res num  : 5, elapse : 0.009609222412109375\n",
      "[2022/06/17 14:33:44] ppocr DEBUG: dt_boxes num : 3, elapse : 0.010960578918457031\n",
      "[2022/06/17 14:33:44] ppocr DEBUG: cls num  : 3, elapse : 0.003530263900756836\n",
      "[2022/06/17 14:33:44] ppocr DEBUG: rec_res num  : 3, elapse : 0.00740504264831543\n"
     ]
    },
    {
     "name": "stderr",
     "output_type": "stream",
     "text": [
      "\r",
      " 47%|████▋     | 47/100 [00:15<00:14,  3.56it/s]"
     ]
    },
    {
     "name": "stdout",
     "output_type": "stream",
     "text": [
      "[2022/06/17 14:33:45] ppocr DEBUG: dt_boxes num : 1, elapse : 0.029812335968017578\n",
      "[2022/06/17 14:33:45] ppocr DEBUG: cls num  : 1, elapse : 0.0038328170776367188\n",
      "[2022/06/17 14:33:45] ppocr DEBUG: rec_res num  : 1, elapse : 0.009006500244140625\n",
      "[2022/06/17 14:33:45] ppocr DEBUG: dt_boxes num : 1, elapse : 0.047399044036865234\n",
      "[2022/06/17 14:33:45] ppocr DEBUG: cls num  : 1, elapse : 0.003737211227416992\n",
      "[2022/06/17 14:33:45] ppocr DEBUG: rec_res num  : 1, elapse : 0.004573822021484375\n",
      "[2022/06/17 14:33:45] ppocr DEBUG: dt_boxes num : 1, elapse : 0.03923344612121582\n",
      "[2022/06/17 14:33:45] ppocr DEBUG: cls num  : 1, elapse : 0.004312753677368164\n",
      "[2022/06/17 14:33:45] ppocr DEBUG: rec_res num  : 1, elapse : 0.005194187164306641\n",
      "[2022/06/17 14:33:45] ppocr DEBUG: dt_boxes num : 1, elapse : 0.04623222351074219\n",
      "[2022/06/17 14:33:45] ppocr DEBUG: cls num  : 1, elapse : 0.004171848297119141\n",
      "[2022/06/17 14:33:45] ppocr DEBUG: rec_res num  : 1, elapse : 0.0049419403076171875\n"
     ]
    },
    {
     "name": "stderr",
     "output_type": "stream",
     "text": [
      "\r",
      " 48%|████▊     | 48/100 [00:16<00:15,  3.37it/s]"
     ]
    },
    {
     "name": "stdout",
     "output_type": "stream",
     "text": [
      "[2022/06/17 14:33:45] ppocr DEBUG: dt_boxes num : 3, elapse : 0.03169131278991699\n",
      "[2022/06/17 14:33:45] ppocr DEBUG: cls num  : 3, elapse : 0.0051081180572509766\n",
      "[2022/06/17 14:33:45] ppocr DEBUG: rec_res num  : 3, elapse : 0.007933378219604492\n",
      "[2022/06/17 14:33:45] ppocr DEBUG: dt_boxes num : 9, elapse : 0.04699420928955078\n",
      "[2022/06/17 14:33:45] ppocr DEBUG: cls num  : 9, elapse : 0.008743762969970703\n",
      "[2022/06/17 14:33:45] ppocr DEBUG: rec_res num  : 9, elapse : 0.021284103393554688\n",
      "[2022/06/17 14:33:45] ppocr DEBUG: dt_boxes num : 3, elapse : 0.04103827476501465\n",
      "[2022/06/17 14:33:45] ppocr DEBUG: cls num  : 3, elapse : 0.005446195602416992\n",
      "[2022/06/17 14:33:45] ppocr DEBUG: rec_res num  : 3, elapse : 0.006747722625732422\n",
      "[2022/06/17 14:33:45] ppocr DEBUG: dt_boxes num : 9, elapse : 0.046573638916015625\n",
      "[2022/06/17 14:33:45] ppocr DEBUG: cls num  : 9, elapse : 0.00818014144897461\n",
      "[2022/06/17 14:33:45] ppocr DEBUG: rec_res num  : 9, elapse : 0.023014545440673828\n"
     ]
    },
    {
     "name": "stderr",
     "output_type": "stream",
     "text": [
      "\r",
      " 49%|████▉     | 49/100 [00:16<00:16,  3.03it/s]"
     ]
    },
    {
     "name": "stdout",
     "output_type": "stream",
     "text": [
      "[2022/06/17 14:33:45] ppocr DEBUG: dt_boxes num : 12, elapse : 0.036040306091308594\n",
      "[2022/06/17 14:33:45] ppocr DEBUG: cls num  : 12, elapse : 0.009211063385009766\n",
      "[2022/06/17 14:33:45] ppocr DEBUG: rec_res num  : 12, elapse : 0.02020406723022461\n",
      "[2022/06/17 14:33:45] ppocr DEBUG: dt_boxes num : 9, elapse : 0.04721188545227051\n",
      "[2022/06/17 14:33:45] ppocr DEBUG: cls num  : 9, elapse : 0.008398771286010742\n",
      "[2022/06/17 14:33:45] ppocr DEBUG: rec_res num  : 9, elapse : 0.01654505729675293\n",
      "[2022/06/17 14:33:45] ppocr DEBUG: dt_boxes num : 10, elapse : 0.04487943649291992\n",
      "[2022/06/17 14:33:45] ppocr DEBUG: cls num  : 10, elapse : 0.008419275283813477\n",
      "[2022/06/17 14:33:46] ppocr DEBUG: rec_res num  : 10, elapse : 0.017920494079589844\n",
      "[2022/06/17 14:33:46] ppocr DEBUG: dt_boxes num : 7, elapse : 0.04881477355957031\n",
      "[2022/06/17 14:33:46] ppocr DEBUG: cls num  : 7, elapse : 0.007247447967529297\n",
      "[2022/06/17 14:33:46] ppocr DEBUG: rec_res num  : 7, elapse : 0.014118194580078125\n"
     ]
    },
    {
     "name": "stderr",
     "output_type": "stream",
     "text": [
      "\r",
      " 50%|█████     | 50/100 [00:17<00:18,  2.75it/s]"
     ]
    },
    {
     "name": "stdout",
     "output_type": "stream",
     "text": [
      "[2022/06/17 14:33:46] ppocr DEBUG: dt_boxes num : 4, elapse : 0.033590078353881836\n",
      "[2022/06/17 14:33:46] ppocr DEBUG: cls num  : 4, elapse : 0.0047986507415771484\n",
      "[2022/06/17 14:33:46] ppocr DEBUG: rec_res num  : 4, elapse : 0.009193658828735352\n",
      "[2022/06/17 14:33:46] ppocr DEBUG: dt_boxes num : 4, elapse : 0.06881523132324219\n",
      "[2022/06/17 14:33:46] ppocr DEBUG: cls num  : 4, elapse : 0.0042781829833984375\n",
      "[2022/06/17 14:33:46] ppocr DEBUG: rec_res num  : 4, elapse : 0.007793426513671875\n",
      "[2022/06/17 14:33:46] ppocr DEBUG: dt_boxes num : 2, elapse : 0.046215057373046875\n",
      "[2022/06/17 14:33:46] ppocr DEBUG: cls num  : 2, elapse : 0.003741741180419922\n",
      "[2022/06/17 14:33:46] ppocr DEBUG: rec_res num  : 2, elapse : 0.0058329105377197266\n",
      "[2022/06/17 14:33:46] ppocr DEBUG: dt_boxes num : 4, elapse : 0.06673645973205566\n",
      "[2022/06/17 14:33:46] ppocr DEBUG: cls num  : 4, elapse : 0.00484466552734375\n",
      "[2022/06/17 14:33:46] ppocr DEBUG: rec_res num  : 4, elapse : 0.007838726043701172\n"
     ]
    },
    {
     "name": "stderr",
     "output_type": "stream",
     "text": [
      "\r",
      " 51%|█████     | 51/100 [00:17<00:20,  2.37it/s]"
     ]
    },
    {
     "name": "stdout",
     "output_type": "stream",
     "text": [
      "[2022/06/17 14:33:46] ppocr DEBUG: dt_boxes num : 15, elapse : 0.045453786849975586\n",
      "[2022/06/17 14:33:46] ppocr DEBUG: cls num  : 15, elapse : 0.010918855667114258\n",
      "[2022/06/17 14:33:46] ppocr DEBUG: rec_res num  : 15, elapse : 0.02680492401123047\n",
      "[2022/06/17 14:33:47] ppocr DEBUG: dt_boxes num : 7, elapse : 0.08190369606018066\n",
      "[2022/06/17 14:33:47] ppocr DEBUG: cls num  : 7, elapse : 0.017908334732055664\n",
      "[2022/06/17 14:33:47] ppocr DEBUG: rec_res num  : 7, elapse : 0.01567840576171875\n",
      "[2022/06/17 14:33:47] ppocr DEBUG: dt_boxes num : 13, elapse : 0.06067538261413574\n",
      "[2022/06/17 14:33:47] ppocr DEBUG: cls num  : 13, elapse : 0.010742425918579102\n",
      "[2022/06/17 14:33:47] ppocr DEBUG: rec_res num  : 13, elapse : 0.025488615036010742\n",
      "[2022/06/17 14:33:47] ppocr DEBUG: dt_boxes num : 7, elapse : 0.08132743835449219\n",
      "[2022/06/17 14:33:47] ppocr DEBUG: cls num  : 7, elapse : 0.01627945899963379\n",
      "[2022/06/17 14:33:47] ppocr DEBUG: rec_res num  : 7, elapse : 0.024552583694458008\n"
     ]
    },
    {
     "name": "stderr",
     "output_type": "stream",
     "text": [
      "\r",
      " 52%|█████▏    | 52/100 [00:18<00:27,  1.75it/s]"
     ]
    },
    {
     "name": "stdout",
     "output_type": "stream",
     "text": [
      "[2022/06/17 14:33:47] ppocr DEBUG: dt_boxes num : 4, elapse : 0.0161895751953125\n",
      "[2022/06/17 14:33:47] ppocr DEBUG: cls num  : 4, elapse : 0.0043981075286865234\n",
      "[2022/06/17 14:33:47] ppocr DEBUG: rec_res num  : 4, elapse : 0.009151935577392578\n",
      "[2022/06/17 14:33:47] ppocr DEBUG: dt_boxes num : 3, elapse : 0.01728677749633789\n",
      "[2022/06/17 14:33:47] ppocr DEBUG: cls num  : 3, elapse : 0.0047419071197509766\n",
      "[2022/06/17 14:33:47] ppocr DEBUG: rec_res num  : 3, elapse : 0.0076639652252197266\n",
      "[2022/06/17 14:33:47] ppocr DEBUG: dt_boxes num : 4, elapse : 0.01696181297302246\n",
      "[2022/06/17 14:33:47] ppocr DEBUG: cls num  : 4, elapse : 0.00452876091003418\n",
      "[2022/06/17 14:33:47] ppocr DEBUG: rec_res num  : 4, elapse : 0.009295225143432617\n",
      "[2022/06/17 14:33:47] ppocr DEBUG: dt_boxes num : 4, elapse : 0.017714262008666992\n",
      "[2022/06/17 14:33:47] ppocr DEBUG: cls num  : 4, elapse : 0.004327535629272461\n",
      "[2022/06/17 14:33:47] ppocr DEBUG: rec_res num  : 4, elapse : 0.00848698616027832\n"
     ]
    },
    {
     "name": "stderr",
     "output_type": "stream",
     "text": [
      "\r",
      " 53%|█████▎    | 53/100 [00:18<00:21,  2.24it/s]"
     ]
    },
    {
     "name": "stdout",
     "output_type": "stream",
     "text": [
      "[2022/06/17 14:33:47] ppocr DEBUG: dt_boxes num : 3, elapse : 0.03933215141296387\n",
      "[2022/06/17 14:33:47] ppocr DEBUG: cls num  : 3, elapse : 0.0049593448638916016\n",
      "[2022/06/17 14:33:47] ppocr DEBUG: rec_res num  : 3, elapse : 0.0077953338623046875\n",
      "[2022/06/17 14:33:47] ppocr DEBUG: dt_boxes num : 6, elapse : 0.04357171058654785\n",
      "[2022/06/17 14:33:47] ppocr DEBUG: cls num  : 6, elapse : 0.0049896240234375\n",
      "[2022/06/17 14:33:47] ppocr DEBUG: rec_res num  : 6, elapse : 0.012895345687866211\n",
      "[2022/06/17 14:33:48] ppocr DEBUG: dt_boxes num : 6, elapse : 0.04201841354370117\n",
      "[2022/06/17 14:33:48] ppocr DEBUG: cls num  : 6, elapse : 0.005703926086425781\n",
      "[2022/06/17 14:33:48] ppocr DEBUG: rec_res num  : 6, elapse : 0.011452198028564453\n",
      "[2022/06/17 14:33:48] ppocr DEBUG: dt_boxes num : 5, elapse : 0.043692588806152344\n",
      "[2022/06/17 14:33:48] ppocr DEBUG: cls num  : 5, elapse : 0.0048482418060302734\n",
      "[2022/06/17 14:33:48] ppocr DEBUG: rec_res num  : 5, elapse : 0.010817289352416992\n"
     ]
    },
    {
     "name": "stderr",
     "output_type": "stream",
     "text": [
      "\r",
      " 54%|█████▍    | 54/100 [00:19<00:19,  2.34it/s]"
     ]
    },
    {
     "name": "stdout",
     "output_type": "stream",
     "text": [
      "[2022/06/17 14:33:48] ppocr DEBUG: dt_boxes num : 8, elapse : 0.03334856033325195\n",
      "[2022/06/17 14:33:48] ppocr DEBUG: cls num  : 8, elapse : 0.008847951889038086\n",
      "[2022/06/17 14:33:48] ppocr DEBUG: rec_res num  : 8, elapse : 0.015977144241333008\n",
      "[2022/06/17 14:33:48] ppocr DEBUG: dt_boxes num : 6, elapse : 0.04500150680541992\n",
      "[2022/06/17 14:33:48] ppocr DEBUG: cls num  : 6, elapse : 0.005382061004638672\n",
      "[2022/06/17 14:33:48] ppocr DEBUG: rec_res num  : 6, elapse : 0.011057138442993164\n",
      "[2022/06/17 14:33:48] ppocr DEBUG: dt_boxes num : 9, elapse : 0.04292869567871094\n",
      "[2022/06/17 14:33:48] ppocr DEBUG: cls num  : 9, elapse : 0.007635354995727539\n",
      "[2022/06/17 14:33:48] ppocr DEBUG: rec_res num  : 9, elapse : 0.01693105697631836\n",
      "[2022/06/17 14:33:48] ppocr DEBUG: dt_boxes num : 9, elapse : 0.04608607292175293\n",
      "[2022/06/17 14:33:48] ppocr DEBUG: cls num  : 9, elapse : 0.009038209915161133\n",
      "[2022/06/17 14:33:48] ppocr DEBUG: rec_res num  : 9, elapse : 0.017734766006469727\n"
     ]
    },
    {
     "name": "stderr",
     "output_type": "stream",
     "text": [
      "\r",
      " 55%|█████▌    | 55/100 [00:19<00:19,  2.35it/s]"
     ]
    },
    {
     "name": "stdout",
     "output_type": "stream",
     "text": [
      "[2022/06/17 14:33:48] ppocr DEBUG: dt_boxes num : 6, elapse : 0.03231668472290039\n",
      "[2022/06/17 14:33:48] ppocr DEBUG: cls num  : 6, elapse : 0.005836009979248047\n",
      "[2022/06/17 14:33:48] ppocr DEBUG: rec_res num  : 6, elapse : 0.014518260955810547\n",
      "[2022/06/17 14:33:48] ppocr DEBUG: dt_boxes num : 6, elapse : 0.042733192443847656\n",
      "[2022/06/17 14:33:48] ppocr DEBUG: cls num  : 6, elapse : 0.00457763671875\n",
      "[2022/06/17 14:33:48] ppocr DEBUG: rec_res num  : 6, elapse : 0.015039205551147461\n",
      "[2022/06/17 14:33:48] ppocr DEBUG: dt_boxes num : 6, elapse : 0.041237831115722656\n",
      "[2022/06/17 14:33:48] ppocr DEBUG: cls num  : 6, elapse : 0.005716562271118164\n",
      "[2022/06/17 14:33:48] ppocr DEBUG: rec_res num  : 6, elapse : 0.012671947479248047\n",
      "[2022/06/17 14:33:48] ppocr DEBUG: dt_boxes num : 4, elapse : 0.04244494438171387\n",
      "[2022/06/17 14:33:48] ppocr DEBUG: cls num  : 4, elapse : 0.004691362380981445\n",
      "[2022/06/17 14:33:48] ppocr DEBUG: rec_res num  : 4, elapse : 0.011271238327026367\n"
     ]
    },
    {
     "name": "stderr",
     "output_type": "stream",
     "text": [
      "\r",
      " 56%|█████▌    | 56/100 [00:19<00:18,  2.43it/s]"
     ]
    },
    {
     "name": "stdout",
     "output_type": "stream",
     "text": [
      "[2022/06/17 14:33:49] ppocr DEBUG: dt_boxes num : 6, elapse : 0.03312993049621582\n",
      "[2022/06/17 14:33:49] ppocr DEBUG: cls num  : 6, elapse : 0.005578279495239258\n",
      "[2022/06/17 14:33:49] ppocr DEBUG: rec_res num  : 6, elapse : 0.011431455612182617\n",
      "[2022/06/17 14:33:49] ppocr DEBUG: dt_boxes num : 7, elapse : 0.04547595977783203\n",
      "[2022/06/17 14:33:49] ppocr DEBUG: cls num  : 7, elapse : 0.0074651241302490234\n",
      "[2022/06/17 14:33:49] ppocr DEBUG: rec_res num  : 7, elapse : 0.01732611656188965\n",
      "[2022/06/17 14:33:49] ppocr DEBUG: dt_boxes num : 5, elapse : 0.04227614402770996\n",
      "[2022/06/17 14:33:49] ppocr DEBUG: cls num  : 5, elapse : 0.0054247379302978516\n",
      "[2022/06/17 14:33:49] ppocr DEBUG: rec_res num  : 5, elapse : 0.011008262634277344\n",
      "[2022/06/17 14:33:49] ppocr DEBUG: dt_boxes num : 8, elapse : 0.04424929618835449\n",
      "[2022/06/17 14:33:49] ppocr DEBUG: cls num  : 8, elapse : 0.008719921112060547\n",
      "[2022/06/17 14:33:49] ppocr DEBUG: rec_res num  : 8, elapse : 0.0157930850982666\n"
     ]
    },
    {
     "name": "stderr",
     "output_type": "stream",
     "text": [
      "\r",
      " 57%|█████▋    | 57/100 [00:20<00:17,  2.45it/s]"
     ]
    },
    {
     "name": "stdout",
     "output_type": "stream",
     "text": [
      "[2022/06/17 14:33:49] ppocr DEBUG: dt_boxes num : 3, elapse : 0.03130173683166504\n",
      "[2022/06/17 14:33:49] ppocr DEBUG: cls num  : 3, elapse : 0.004862308502197266\n",
      "[2022/06/17 14:33:49] ppocr DEBUG: rec_res num  : 3, elapse : 0.007434368133544922\n",
      "[2022/06/17 14:33:49] ppocr DEBUG: dt_boxes num : 3, elapse : 0.03379392623901367\n",
      "[2022/06/17 14:33:49] ppocr DEBUG: cls num  : 3, elapse : 0.004233598709106445\n",
      "[2022/06/17 14:33:49] ppocr DEBUG: rec_res num  : 3, elapse : 0.00736546516418457\n",
      "[2022/06/17 14:33:49] ppocr DEBUG: dt_boxes num : 4, elapse : 0.03458976745605469\n",
      "[2022/06/17 14:33:49] ppocr DEBUG: cls num  : 4, elapse : 0.005014896392822266\n",
      "[2022/06/17 14:33:49] ppocr DEBUG: rec_res num  : 4, elapse : 0.00797581672668457\n",
      "[2022/06/17 14:33:49] ppocr DEBUG: dt_boxes num : 2, elapse : 0.03383588790893555\n",
      "[2022/06/17 14:33:49] ppocr DEBUG: cls num  : 2, elapse : 0.004021883010864258\n",
      "[2022/06/17 14:33:49] ppocr DEBUG: rec_res num  : 2, elapse : 0.005870342254638672\n"
     ]
    },
    {
     "name": "stderr",
     "output_type": "stream",
     "text": [
      "\r",
      " 58%|█████▊    | 58/100 [00:20<00:15,  2.79it/s]"
     ]
    },
    {
     "name": "stdout",
     "output_type": "stream",
     "text": [
      "[2022/06/17 14:33:49] ppocr DEBUG: dt_boxes num : 3, elapse : 0.01098012924194336\n",
      "[2022/06/17 14:33:49] ppocr DEBUG: cls num  : 3, elapse : 0.003622770309448242\n",
      "[2022/06/17 14:33:49] ppocr DEBUG: rec_res num  : 3, elapse : 0.007424116134643555\n",
      "[2022/06/17 14:33:49] ppocr DEBUG: dt_boxes num : 1, elapse : 0.010485410690307617\n",
      "[2022/06/17 14:33:49] ppocr DEBUG: cls num  : 1, elapse : 0.003694772720336914\n",
      "[2022/06/17 14:33:49] ppocr DEBUG: rec_res num  : 1, elapse : 0.004773855209350586\n",
      "[2022/06/17 14:33:49] ppocr DEBUG: dt_boxes num : 2, elapse : 0.010194540023803711\n",
      "[2022/06/17 14:33:49] ppocr DEBUG: cls num  : 2, elapse : 0.003634214401245117\n",
      "[2022/06/17 14:33:49] ppocr DEBUG: rec_res num  : 2, elapse : 0.0065822601318359375\n",
      "[2022/06/17 14:33:49] ppocr DEBUG: dt_boxes num : 2, elapse : 0.010132312774658203\n",
      "[2022/06/17 14:33:49] ppocr DEBUG: cls num  : 2, elapse : 0.003698587417602539\n",
      "[2022/06/17 14:33:49] ppocr DEBUG: rec_res num  : 2, elapse : 0.006530046463012695\n"
     ]
    },
    {
     "name": "stderr",
     "output_type": "stream",
     "text": [
      "\r",
      " 59%|█████▉    | 59/100 [00:20<00:11,  3.55it/s]"
     ]
    },
    {
     "name": "stdout",
     "output_type": "stream",
     "text": [
      "[2022/06/17 14:33:49] ppocr DEBUG: dt_boxes num : 2, elapse : 0.009233713150024414\n",
      "[2022/06/17 14:33:49] ppocr DEBUG: cls num  : 2, elapse : 0.003965854644775391\n",
      "[2022/06/17 14:33:49] ppocr DEBUG: rec_res num  : 2, elapse : 0.006211280822753906\n",
      "[2022/06/17 14:33:49] ppocr DEBUG: dt_boxes num : 2, elapse : 0.010610342025756836\n",
      "[2022/06/17 14:33:49] ppocr DEBUG: cls num  : 2, elapse : 0.00337982177734375\n",
      "[2022/06/17 14:33:49] ppocr DEBUG: rec_res num  : 2, elapse : 0.006100893020629883\n",
      "[2022/06/17 14:33:49] ppocr DEBUG: dt_boxes num : 1, elapse : 0.009644269943237305\n",
      "[2022/06/17 14:33:49] ppocr DEBUG: cls num  : 1, elapse : 0.0031538009643554688\n",
      "[2022/06/17 14:33:49] ppocr DEBUG: rec_res num  : 1, elapse : 0.004544973373413086\n",
      "[2022/06/17 14:33:49] ppocr DEBUG: dt_boxes num : 2, elapse : 0.009925365447998047\n",
      "[2022/06/17 14:33:49] ppocr DEBUG: cls num  : 2, elapse : 0.004860639572143555\n",
      "[2022/06/17 14:33:49] ppocr DEBUG: rec_res num  : 2, elapse : 0.005331516265869141\n",
      "[2022/06/17 14:33:49] ppocr DEBUG: dt_boxes num : 2, elapse : 0.031225919723510742\n",
      "[2022/06/17 14:33:49] ppocr DEBUG: cls num  : 2, elapse : 0.005311250686645508\n",
      "[2022/06/17 14:33:49] ppocr DEBUG: rec_res num  : 2, elapse : 0.005644798278808594\n",
      "[2022/06/17 14:33:49] ppocr DEBUG: dt_boxes num : 3, elapse : 0.0426936149597168\n",
      "[2022/06/17 14:33:49] ppocr DEBUG: cls num  : 3, elapse : 0.004477739334106445\n",
      "[2022/06/17 14:33:49] ppocr DEBUG: rec_res num  : 3, elapse : 0.007017850875854492\n",
      "[2022/06/17 14:33:50] ppocr DEBUG: dt_boxes num : 2, elapse : 0.04289746284484863\n",
      "[2022/06/17 14:33:50] ppocr DEBUG: cls num  : 2, elapse : 0.004685401916503906\n",
      "[2022/06/17 14:33:50] ppocr DEBUG: rec_res num  : 2, elapse : 0.006234645843505859\n",
      "[2022/06/17 14:33:50] ppocr DEBUG: dt_boxes num : 3, elapse : 0.0476231575012207\n",
      "[2022/06/17 14:33:50] ppocr DEBUG: cls num  : 3, elapse : 0.004159688949584961\n",
      "[2022/06/17 14:33:50] ppocr DEBUG: rec_res num  : 3, elapse : 0.00706934928894043\n"
     ]
    },
    {
     "name": "stderr",
     "output_type": "stream",
     "text": [
      "\r",
      " 61%|██████    | 61/100 [00:21<00:09,  3.93it/s]"
     ]
    },
    {
     "name": "stdout",
     "output_type": "stream",
     "text": [
      "[2022/06/17 14:33:50] ppocr DEBUG: dt_boxes num : 7, elapse : 0.03293609619140625\n",
      "[2022/06/17 14:33:50] ppocr DEBUG: cls num  : 7, elapse : 0.007846355438232422\n",
      "[2022/06/17 14:33:50] ppocr DEBUG: rec_res num  : 7, elapse : 0.01464390754699707\n",
      "[2022/06/17 14:33:50] ppocr DEBUG: dt_boxes num : 10, elapse : 0.041185617446899414\n",
      "[2022/06/17 14:33:50] ppocr DEBUG: cls num  : 10, elapse : 0.00872349739074707\n",
      "[2022/06/17 14:33:50] ppocr DEBUG: rec_res num  : 10, elapse : 0.019939661026000977\n",
      "[2022/06/17 14:33:50] ppocr DEBUG: dt_boxes num : 7, elapse : 0.03830909729003906\n",
      "[2022/06/17 14:33:50] ppocr DEBUG: cls num  : 7, elapse : 0.007831335067749023\n",
      "[2022/06/17 14:33:50] ppocr DEBUG: rec_res num  : 7, elapse : 0.014909744262695312\n",
      "[2022/06/17 14:33:50] ppocr DEBUG: dt_boxes num : 13, elapse : 0.042489051818847656\n",
      "[2022/06/17 14:33:50] ppocr DEBUG: cls num  : 13, elapse : 0.011734724044799805\n",
      "[2022/06/17 14:33:50] ppocr DEBUG: rec_res num  : 13, elapse : 0.027025461196899414\n"
     ]
    },
    {
     "name": "stderr",
     "output_type": "stream",
     "text": [
      "\r",
      " 62%|██████▏   | 62/100 [00:21<00:10,  3.55it/s]"
     ]
    },
    {
     "name": "stdout",
     "output_type": "stream",
     "text": [
      "[2022/06/17 14:33:50] ppocr DEBUG: dt_boxes num : 7, elapse : 0.03301239013671875\n",
      "[2022/06/17 14:33:50] ppocr DEBUG: cls num  : 7, elapse : 0.008532524108886719\n",
      "[2022/06/17 14:33:50] ppocr DEBUG: rec_res num  : 7, elapse : 0.014766216278076172\n",
      "[2022/06/17 14:33:50] ppocr DEBUG: dt_boxes num : 5, elapse : 0.04314017295837402\n",
      "[2022/06/17 14:33:50] ppocr DEBUG: cls num  : 5, elapse : 0.004418849945068359\n",
      "[2022/06/17 14:33:50] ppocr DEBUG: rec_res num  : 5, elapse : 0.008919477462768555\n",
      "[2022/06/17 14:33:50] ppocr DEBUG: dt_boxes num : 5, elapse : 0.04031825065612793\n",
      "[2022/06/17 14:33:50] ppocr DEBUG: cls num  : 5, elapse : 0.00508570671081543\n",
      "[2022/06/17 14:33:50] ppocr DEBUG: rec_res num  : 5, elapse : 0.009573698043823242\n",
      "[2022/06/17 14:33:50] ppocr DEBUG: dt_boxes num : 5, elapse : 0.04268932342529297\n",
      "[2022/06/17 14:33:50] ppocr DEBUG: cls num  : 5, elapse : 0.004292488098144531\n",
      "[2022/06/17 14:33:50] ppocr DEBUG: rec_res num  : 5, elapse : 0.010388612747192383\n"
     ]
    },
    {
     "name": "stderr",
     "output_type": "stream",
     "text": [
      "\r",
      " 63%|██████▎   | 63/100 [00:21<00:11,  3.27it/s]"
     ]
    },
    {
     "name": "stdout",
     "output_type": "stream",
     "text": [
      "[2022/06/17 14:33:50] ppocr DEBUG: dt_boxes num : 1, elapse : 0.03583502769470215\n",
      "[2022/06/17 14:33:50] ppocr DEBUG: cls num  : 1, elapse : 0.004258871078491211\n",
      "[2022/06/17 14:33:50] ppocr DEBUG: rec_res num  : 1, elapse : 0.005830287933349609\n",
      "[2022/06/17 14:33:51] ppocr DEBUG: dt_boxes num : 1, elapse : 0.04056668281555176\n",
      "[2022/06/17 14:33:51] ppocr DEBUG: cls num  : 1, elapse : 0.004262685775756836\n",
      "[2022/06/17 14:33:51] ppocr DEBUG: rec_res num  : 1, elapse : 0.00566411018371582\n",
      "[2022/06/17 14:33:51] ppocr DEBUG: dt_boxes num : 3, elapse : 0.04872536659240723\n",
      "[2022/06/17 14:33:51] ppocr DEBUG: cls num  : 3, elapse : 0.006567478179931641\n",
      "[2022/06/17 14:33:51] ppocr DEBUG: rec_res num  : 3, elapse : 0.00884246826171875\n",
      "[2022/06/17 14:33:51] ppocr DEBUG: dt_boxes num : 1, elapse : 0.04133009910583496\n",
      "[2022/06/17 14:33:51] ppocr DEBUG: cls num  : 1, elapse : 0.003838777542114258\n",
      "[2022/06/17 14:33:51] ppocr DEBUG: rec_res num  : 1, elapse : 0.0050547122955322266\n"
     ]
    },
    {
     "name": "stderr",
     "output_type": "stream",
     "text": [
      "\r",
      " 64%|██████▍   | 64/100 [00:22<00:11,  3.12it/s]"
     ]
    },
    {
     "name": "stdout",
     "output_type": "stream",
     "text": [
      "[2022/06/17 14:33:51] ppocr DEBUG: dt_boxes num : 10, elapse : 0.038274288177490234\n",
      "[2022/06/17 14:33:51] ppocr DEBUG: cls num  : 10, elapse : 0.00958561897277832\n",
      "[2022/06/17 14:33:51] ppocr DEBUG: rec_res num  : 10, elapse : 0.020208120346069336\n",
      "[2022/06/17 14:33:51] ppocr DEBUG: dt_boxes num : 6, elapse : 0.04017806053161621\n",
      "[2022/06/17 14:33:51] ppocr DEBUG: cls num  : 6, elapse : 0.006159305572509766\n",
      "[2022/06/17 14:33:51] ppocr DEBUG: rec_res num  : 6, elapse : 0.009820938110351562\n",
      "[2022/06/17 14:33:51] ppocr DEBUG: dt_boxes num : 8, elapse : 0.03882431983947754\n",
      "[2022/06/17 14:33:51] ppocr DEBUG: cls num  : 8, elapse : 0.007373809814453125\n",
      "[2022/06/17 14:33:51] ppocr DEBUG: rec_res num  : 8, elapse : 0.01619434356689453\n",
      "[2022/06/17 14:33:51] ppocr DEBUG: dt_boxes num : 10, elapse : 0.04122328758239746\n",
      "[2022/06/17 14:33:51] ppocr DEBUG: cls num  : 10, elapse : 0.008976221084594727\n",
      "[2022/06/17 14:33:51] ppocr DEBUG: rec_res num  : 10, elapse : 0.01934027671813965\n"
     ]
    },
    {
     "name": "stderr",
     "output_type": "stream",
     "text": [
      "\r",
      " 65%|██████▌   | 65/100 [00:22<00:11,  2.96it/s]"
     ]
    },
    {
     "name": "stdout",
     "output_type": "stream",
     "text": [
      "[2022/06/17 14:33:51] ppocr DEBUG: dt_boxes num : 3, elapse : 0.03050994873046875\n",
      "[2022/06/17 14:33:51] ppocr DEBUG: cls num  : 3, elapse : 0.004072666168212891\n",
      "[2022/06/17 14:33:51] ppocr DEBUG: rec_res num  : 3, elapse : 0.006775856018066406\n",
      "[2022/06/17 14:33:51] ppocr DEBUG: dt_boxes num : 4, elapse : 0.04222416877746582\n",
      "[2022/06/17 14:33:51] ppocr DEBUG: cls num  : 4, elapse : 0.0041387081146240234\n",
      "[2022/06/17 14:33:51] ppocr DEBUG: rec_res num  : 4, elapse : 0.007715463638305664\n",
      "[2022/06/17 14:33:51] ppocr DEBUG: dt_boxes num : 3, elapse : 0.039552927017211914\n",
      "[2022/06/17 14:33:51] ppocr DEBUG: cls num  : 3, elapse : 0.003949165344238281\n",
      "[2022/06/17 14:33:51] ppocr DEBUG: rec_res num  : 3, elapse : 0.007149696350097656\n",
      "[2022/06/17 14:33:51] ppocr DEBUG: dt_boxes num : 6, elapse : 0.04358839988708496\n",
      "[2022/06/17 14:33:51] ppocr DEBUG: cls num  : 6, elapse : 0.005326271057128906\n",
      "[2022/06/17 14:33:51] ppocr DEBUG: rec_res num  : 6, elapse : 0.011263370513916016\n"
     ]
    },
    {
     "name": "stderr",
     "output_type": "stream",
     "text": [
      "\r",
      " 66%|██████▌   | 66/100 [00:22<00:11,  2.94it/s]"
     ]
    },
    {
     "name": "stdout",
     "output_type": "stream",
     "text": [
      "[2022/06/17 14:33:52] ppocr DEBUG: dt_boxes num : 2, elapse : 0.029984474182128906\n",
      "[2022/06/17 14:33:52] ppocr DEBUG: cls num  : 2, elapse : 0.0039033889770507812\n",
      "[2022/06/17 14:33:52] ppocr DEBUG: rec_res num  : 2, elapse : 0.0058689117431640625\n",
      "[2022/06/17 14:33:52] ppocr DEBUG: dt_boxes num : 5, elapse : 0.03882336616516113\n",
      "[2022/06/17 14:33:52] ppocr DEBUG: cls num  : 5, elapse : 0.005081892013549805\n",
      "[2022/06/17 14:33:52] ppocr DEBUG: rec_res num  : 5, elapse : 0.009917020797729492\n",
      "[2022/06/17 14:33:52] ppocr DEBUG: dt_boxes num : 3, elapse : 0.037042856216430664\n",
      "[2022/06/17 14:33:52] ppocr DEBUG: cls num  : 3, elapse : 0.004042625427246094\n",
      "[2022/06/17 14:33:52] ppocr DEBUG: rec_res num  : 3, elapse : 0.006916522979736328\n",
      "[2022/06/17 14:33:52] ppocr DEBUG: dt_boxes num : 5, elapse : 0.03946971893310547\n",
      "[2022/06/17 14:33:52] ppocr DEBUG: cls num  : 5, elapse : 0.004773139953613281\n",
      "[2022/06/17 14:33:52] ppocr DEBUG: rec_res num  : 5, elapse : 0.00915074348449707\n"
     ]
    },
    {
     "name": "stderr",
     "output_type": "stream",
     "text": [
      "\r",
      " 67%|██████▋   | 67/100 [00:23<00:10,  3.04it/s]"
     ]
    },
    {
     "name": "stdout",
     "output_type": "stream",
     "text": [
      "[2022/06/17 14:33:52] ppocr DEBUG: dt_boxes num : 29, elapse : 0.04317116737365723\n",
      "[2022/06/17 14:33:52] ppocr DEBUG: cls num  : 29, elapse : 0.017077922821044922\n",
      "[2022/06/17 14:33:52] ppocr DEBUG: rec_res num  : 29, elapse : 0.05691266059875488\n",
      "[2022/06/17 14:33:52] ppocr DEBUG: dt_boxes num : 36, elapse : 0.05668067932128906\n",
      "[2022/06/17 14:33:52] ppocr DEBUG: cls num  : 36, elapse : 0.022119522094726562\n",
      "[2022/06/17 14:33:52] ppocr DEBUG: rec_res num  : 36, elapse : 0.0634615421295166\n",
      "[2022/06/17 14:33:52] ppocr DEBUG: dt_boxes num : 36, elapse : 0.05205130577087402\n",
      "[2022/06/17 14:33:52] ppocr DEBUG: cls num  : 36, elapse : 0.022594451904296875\n",
      "[2022/06/17 14:33:52] ppocr DEBUG: rec_res num  : 36, elapse : 0.06487274169921875\n",
      "[2022/06/17 14:33:52] ppocr DEBUG: dt_boxes num : 31, elapse : 0.05453753471374512\n",
      "[2022/06/17 14:33:52] ppocr DEBUG: cls num  : 31, elapse : 0.020746707916259766\n",
      "[2022/06/17 14:33:52] ppocr DEBUG: rec_res num  : 31, elapse : 0.056821584701538086\n"
     ]
    },
    {
     "name": "stderr",
     "output_type": "stream",
     "text": [
      "\r",
      " 68%|██████▊   | 68/100 [00:23<00:13,  2.30it/s]"
     ]
    },
    {
     "name": "stdout",
     "output_type": "stream",
     "text": [
      "[2022/06/17 14:33:53] ppocr DEBUG: dt_boxes num : 11, elapse : 0.03850913047790527\n",
      "[2022/06/17 14:33:53] ppocr DEBUG: cls num  : 11, elapse : 0.009595394134521484\n",
      "[2022/06/17 14:33:53] ppocr DEBUG: rec_res num  : 11, elapse : 0.025151968002319336\n",
      "[2022/06/17 14:33:53] ppocr DEBUG: dt_boxes num : 23, elapse : 0.05126237869262695\n",
      "[2022/06/17 14:33:53] ppocr DEBUG: cls num  : 23, elapse : 0.01573657989501953\n",
      "[2022/06/17 14:33:53] ppocr DEBUG: rec_res num  : 23, elapse : 0.05211305618286133\n",
      "[2022/06/17 14:33:53] ppocr DEBUG: dt_boxes num : 15, elapse : 0.0478978157043457\n",
      "[2022/06/17 14:33:53] ppocr DEBUG: cls num  : 15, elapse : 0.011126518249511719\n",
      "[2022/06/17 14:33:53] ppocr DEBUG: rec_res num  : 15, elapse : 0.029006481170654297\n",
      "[2022/06/17 14:33:53] ppocr DEBUG: dt_boxes num : 21, elapse : 0.054685115814208984\n",
      "[2022/06/17 14:33:53] ppocr DEBUG: cls num  : 21, elapse : 0.01512289047241211\n",
      "[2022/06/17 14:33:53] ppocr DEBUG: rec_res num  : 21, elapse : 0.05069923400878906\n"
     ]
    },
    {
     "name": "stderr",
     "output_type": "stream",
     "text": [
      "\r",
      " 69%|██████▉   | 69/100 [00:24<00:14,  2.12it/s]"
     ]
    },
    {
     "name": "stdout",
     "output_type": "stream",
     "text": [
      "[2022/06/17 14:33:53] ppocr DEBUG: dt_boxes num : 4, elapse : 0.010966300964355469\n",
      "[2022/06/17 14:33:53] ppocr DEBUG: cls num  : 4, elapse : 0.004837512969970703\n",
      "[2022/06/17 14:33:53] ppocr DEBUG: rec_res num  : 4, elapse : 0.00812220573425293\n",
      "[2022/06/17 14:33:53] ppocr DEBUG: dt_boxes num : 5, elapse : 0.011497259140014648\n",
      "[2022/06/17 14:33:53] ppocr DEBUG: cls num  : 5, elapse : 0.003981590270996094\n",
      "[2022/06/17 14:33:53] ppocr DEBUG: rec_res num  : 5, elapse : 0.008911848068237305\n",
      "[2022/06/17 14:33:53] ppocr DEBUG: dt_boxes num : 4, elapse : 0.011065244674682617\n",
      "[2022/06/17 14:33:53] ppocr DEBUG: cls num  : 4, elapse : 0.0037546157836914062\n",
      "[2022/06/17 14:33:53] ppocr DEBUG: rec_res num  : 4, elapse : 0.00782918930053711\n",
      "[2022/06/17 14:33:53] ppocr DEBUG: dt_boxes num : 5, elapse : 0.011306524276733398\n",
      "[2022/06/17 14:33:53] ppocr DEBUG: cls num  : 5, elapse : 0.003715038299560547\n",
      "[2022/06/17 14:33:53] ppocr DEBUG: rec_res num  : 5, elapse : 0.00880885124206543\n"
     ]
    },
    {
     "name": "stderr",
     "output_type": "stream",
     "text": [
      "\r",
      " 70%|███████   | 70/100 [00:24<00:11,  2.72it/s]"
     ]
    },
    {
     "name": "stdout",
     "output_type": "stream",
     "text": [
      "[2022/06/17 14:33:53] ppocr DEBUG: dt_boxes num : 8, elapse : 0.03708148002624512\n",
      "[2022/06/17 14:33:53] ppocr DEBUG: cls num  : 8, elapse : 0.007211923599243164\n",
      "[2022/06/17 14:33:53] ppocr DEBUG: rec_res num  : 8, elapse : 0.02941131591796875\n",
      "[2022/06/17 14:33:53] ppocr DEBUG: dt_boxes num : 9, elapse : 0.04194140434265137\n",
      "[2022/06/17 14:33:53] ppocr DEBUG: cls num  : 9, elapse : 0.00762939453125\n",
      "[2022/06/17 14:33:53] ppocr DEBUG: rec_res num  : 9, elapse : 0.05743241310119629\n",
      "[2022/06/17 14:33:53] ppocr DEBUG: dt_boxes num : 11, elapse : 0.045529842376708984\n",
      "[2022/06/17 14:33:53] ppocr DEBUG: cls num  : 11, elapse : 0.009556055068969727\n",
      "[2022/06/17 14:33:53] ppocr DEBUG: rec_res num  : 11, elapse : 0.035115957260131836\n",
      "[2022/06/17 14:33:54] ppocr DEBUG: dt_boxes num : 8, elapse : 0.0413515567779541\n",
      "[2022/06/17 14:33:54] ppocr DEBUG: cls num  : 8, elapse : 0.007432222366333008\n",
      "[2022/06/17 14:33:54] ppocr DEBUG: rec_res num  : 8, elapse : 0.04347968101501465\n"
     ]
    },
    {
     "name": "stderr",
     "output_type": "stream",
     "text": [
      "\r",
      " 71%|███████   | 71/100 [00:25<00:11,  2.48it/s]"
     ]
    },
    {
     "name": "stdout",
     "output_type": "stream",
     "text": [
      "[2022/06/17 14:33:54] ppocr DEBUG: dt_boxes num : 9, elapse : 0.03392648696899414\n",
      "[2022/06/17 14:33:54] ppocr DEBUG: cls num  : 9, elapse : 0.007718086242675781\n",
      "[2022/06/17 14:33:54] ppocr DEBUG: rec_res num  : 9, elapse : 0.016745328903198242\n",
      "[2022/06/17 14:33:54] ppocr DEBUG: dt_boxes num : 8, elapse : 0.045990943908691406\n",
      "[2022/06/17 14:33:54] ppocr DEBUG: cls num  : 8, elapse : 0.007311820983886719\n",
      "[2022/06/17 14:33:54] ppocr DEBUG: rec_res num  : 8, elapse : 0.015573263168334961\n",
      "[2022/06/17 14:33:54] ppocr DEBUG: dt_boxes num : 11, elapse : 0.04320669174194336\n",
      "[2022/06/17 14:33:54] ppocr DEBUG: cls num  : 11, elapse : 0.007733821868896484\n",
      "[2022/06/17 14:33:54] ppocr DEBUG: rec_res num  : 11, elapse : 0.019008398056030273\n",
      "[2022/06/17 14:33:54] ppocr DEBUG: dt_boxes num : 8, elapse : 0.04630303382873535\n",
      "[2022/06/17 14:33:54] ppocr DEBUG: cls num  : 8, elapse : 0.007411003112792969\n",
      "[2022/06/17 14:33:54] ppocr DEBUG: rec_res num  : 8, elapse : 0.015568256378173828\n"
     ]
    },
    {
     "name": "stderr",
     "output_type": "stream",
     "text": [
      "\r",
      " 72%|███████▏  | 72/100 [00:25<00:11,  2.51it/s]"
     ]
    },
    {
     "name": "stdout",
     "output_type": "stream",
     "text": [
      "[2022/06/17 14:33:54] ppocr DEBUG: dt_boxes num : 5, elapse : 0.03156614303588867\n",
      "[2022/06/17 14:33:54] ppocr DEBUG: cls num  : 5, elapse : 0.004122257232666016\n",
      "[2022/06/17 14:33:54] ppocr DEBUG: rec_res num  : 5, elapse : 0.01353311538696289\n",
      "[2022/06/17 14:33:54] ppocr DEBUG: dt_boxes num : 1, elapse : 0.03670310974121094\n",
      "[2022/06/17 14:33:54] ppocr DEBUG: cls num  : 1, elapse : 0.0039920806884765625\n",
      "[2022/06/17 14:33:54] ppocr DEBUG: rec_res num  : 1, elapse : 0.00503230094909668\n",
      "[2022/06/17 14:33:54] ppocr DEBUG: dt_boxes num : 5, elapse : 0.03689765930175781\n",
      "[2022/06/17 14:33:54] ppocr DEBUG: cls num  : 5, elapse : 0.0041468143463134766\n",
      "[2022/06/17 14:33:54] ppocr DEBUG: rec_res num  : 5, elapse : 0.008645772933959961\n",
      "[2022/06/17 14:33:54] ppocr DEBUG: dt_boxes num : 1, elapse : 0.03688502311706543\n",
      "[2022/06/17 14:33:54] ppocr DEBUG: cls num  : 1, elapse : 0.004456281661987305\n",
      "[2022/06/17 14:33:54] ppocr DEBUG: rec_res num  : 1, elapse : 0.005662441253662109\n"
     ]
    },
    {
     "name": "stderr",
     "output_type": "stream",
     "text": [
      "\r",
      " 73%|███████▎  | 73/100 [00:25<00:09,  2.78it/s]"
     ]
    },
    {
     "name": "stdout",
     "output_type": "stream",
     "text": [
      "[2022/06/17 14:33:54] ppocr DEBUG: dt_boxes num : 1, elapse : 0.009537935256958008\n",
      "[2022/06/17 14:33:54] ppocr DEBUG: cls num  : 1, elapse : 0.0033867359161376953\n",
      "[2022/06/17 14:33:54] ppocr DEBUG: rec_res num  : 1, elapse : 0.00432586669921875\n",
      "[2022/06/17 14:33:54] ppocr DEBUG: dt_boxes num : 1, elapse : 0.009440898895263672\n",
      "[2022/06/17 14:33:54] ppocr DEBUG: cls num  : 1, elapse : 0.003094911575317383\n",
      "[2022/06/17 14:33:54] ppocr DEBUG: rec_res num  : 1, elapse : 0.004137516021728516\n",
      "[2022/06/17 14:33:54] ppocr DEBUG: dt_boxes num : 1, elapse : 0.010071754455566406\n",
      "[2022/06/17 14:33:54] ppocr DEBUG: cls num  : 1, elapse : 0.0036478042602539062\n",
      "[2022/06/17 14:33:54] ppocr DEBUG: rec_res num  : 1, elapse : 0.004140615463256836\n",
      "[2022/06/17 14:33:54] ppocr DEBUG: dt_boxes num : 2, elapse : 0.009926080703735352\n",
      "[2022/06/17 14:33:54] ppocr DEBUG: cls num  : 2, elapse : 0.003780364990234375\n",
      "[2022/06/17 14:33:54] ppocr DEBUG: rec_res num  : 2, elapse : 0.007008552551269531\n",
      "[2022/06/17 14:33:54] ppocr DEBUG: dt_boxes num : 2, elapse : 0.031203508377075195\n",
      "[2022/06/17 14:33:54] ppocr DEBUG: cls num  : 2, elapse : 0.0044536590576171875\n",
      "[2022/06/17 14:33:54] ppocr DEBUG: rec_res num  : 2, elapse : 0.007187843322753906\n",
      "[2022/06/17 14:33:55] ppocr DEBUG: dt_boxes num : 3, elapse : 0.07073044776916504\n",
      "[2022/06/17 14:33:55] ppocr DEBUG: cls num  : 3, elapse : 0.00857234001159668\n",
      "[2022/06/17 14:33:55] ppocr DEBUG: rec_res num  : 3, elapse : 0.009060859680175781\n",
      "[2022/06/17 14:33:55] ppocr DEBUG: dt_boxes num : 1, elapse : 0.04603910446166992\n",
      "[2022/06/17 14:33:55] ppocr DEBUG: cls num  : 1, elapse : 0.0035088062286376953\n",
      "[2022/06/17 14:33:55] ppocr DEBUG: rec_res num  : 1, elapse : 0.0051233768463134766\n",
      "[2022/06/17 14:33:55] ppocr DEBUG: dt_boxes num : 3, elapse : 0.06674528121948242\n",
      "[2022/06/17 14:33:55] ppocr DEBUG: cls num  : 3, elapse : 0.004591226577758789\n",
      "[2022/06/17 14:33:55] ppocr DEBUG: rec_res num  : 3, elapse : 0.007421970367431641\n"
     ]
    },
    {
     "name": "stderr",
     "output_type": "stream",
     "text": [
      "\r",
      " 75%|███████▌  | 75/100 [00:26<00:08,  2.97it/s]"
     ]
    },
    {
     "name": "stdout",
     "output_type": "stream",
     "text": [
      "[2022/06/17 14:33:55] ppocr DEBUG: dt_boxes num : 8, elapse : 0.05248141288757324\n",
      "[2022/06/17 14:33:55] ppocr DEBUG: cls num  : 8, elapse : 0.011011600494384766\n",
      "[2022/06/17 14:33:55] ppocr DEBUG: rec_res num  : 8, elapse : 0.020192384719848633\n",
      "[2022/06/17 14:33:55] ppocr DEBUG: dt_boxes num : 7, elapse : 0.07342219352722168\n",
      "[2022/06/17 14:33:55] ppocr DEBUG: cls num  : 7, elapse : 0.016368865966796875\n",
      "[2022/06/17 14:33:55] ppocr DEBUG: rec_res num  : 7, elapse : 0.019672632217407227\n",
      "[2022/06/17 14:33:55] ppocr DEBUG: dt_boxes num : 9, elapse : 0.05626082420349121\n",
      "[2022/06/17 14:33:55] ppocr DEBUG: cls num  : 9, elapse : 0.0077397823333740234\n",
      "[2022/06/17 14:33:56] ppocr DEBUG: rec_res num  : 9, elapse : 0.02306342124938965\n",
      "[2022/06/17 14:33:56] ppocr DEBUG: dt_boxes num : 7, elapse : 0.07394242286682129\n",
      "[2022/06/17 14:33:56] ppocr DEBUG: cls num  : 7, elapse : 0.013701200485229492\n",
      "[2022/06/17 14:33:56] ppocr DEBUG: rec_res num  : 7, elapse : 0.023816585540771484\n"
     ]
    },
    {
     "name": "stderr",
     "output_type": "stream",
     "text": [
      "\r",
      " 76%|███████▌  | 76/100 [00:27<00:11,  2.17it/s]"
     ]
    },
    {
     "name": "stdout",
     "output_type": "stream",
     "text": [
      "[2022/06/17 14:33:56] ppocr DEBUG: dt_boxes num : 2, elapse : 0.042413949966430664\n",
      "[2022/06/17 14:33:56] ppocr DEBUG: cls num  : 2, elapse : 0.004390716552734375\n",
      "[2022/06/17 14:33:56] ppocr DEBUG: rec_res num  : 2, elapse : 0.007027626037597656\n",
      "[2022/06/17 14:33:56] ppocr DEBUG: dt_boxes num : 4, elapse : 0.03926801681518555\n",
      "[2022/06/17 14:33:56] ppocr DEBUG: cls num  : 4, elapse : 0.005677700042724609\n",
      "[2022/06/17 14:33:56] ppocr DEBUG: rec_res num  : 4, elapse : 0.008685111999511719\n",
      "[2022/06/17 14:33:56] ppocr DEBUG: dt_boxes num : 3, elapse : 0.035323381423950195\n",
      "[2022/06/17 14:33:56] ppocr DEBUG: cls num  : 3, elapse : 0.00453948974609375\n",
      "[2022/06/17 14:33:56] ppocr DEBUG: rec_res num  : 3, elapse : 0.008237361907958984\n",
      "[2022/06/17 14:33:56] ppocr DEBUG: dt_boxes num : 5, elapse : 0.03796648979187012\n",
      "[2022/06/17 14:33:56] ppocr DEBUG: cls num  : 5, elapse : 0.005330085754394531\n",
      "[2022/06/17 14:33:56] ppocr DEBUG: rec_res num  : 5, elapse : 0.010843753814697266\n"
     ]
    },
    {
     "name": "stderr",
     "output_type": "stream",
     "text": [
      "\r",
      " 77%|███████▋  | 77/100 [00:27<00:09,  2.41it/s]"
     ]
    },
    {
     "name": "stdout",
     "output_type": "stream",
     "text": [
      "[2022/06/17 14:33:56] ppocr DEBUG: dt_boxes num : 3, elapse : 0.03001856803894043\n",
      "[2022/06/17 14:33:56] ppocr DEBUG: cls num  : 3, elapse : 0.004373788833618164\n",
      "[2022/06/17 14:33:56] ppocr DEBUG: rec_res num  : 3, elapse : 0.010840177536010742\n",
      "[2022/06/17 14:33:56] ppocr DEBUG: dt_boxes num : 3, elapse : 0.036269426345825195\n",
      "[2022/06/17 14:33:56] ppocr DEBUG: cls num  : 3, elapse : 0.0046536922454833984\n",
      "[2022/06/17 14:33:56] ppocr DEBUG: rec_res num  : 3, elapse : 0.010263442993164062\n",
      "[2022/06/17 14:33:56] ppocr DEBUG: dt_boxes num : 3, elapse : 0.03542828559875488\n",
      "[2022/06/17 14:33:56] ppocr DEBUG: cls num  : 3, elapse : 0.004808902740478516\n",
      "[2022/06/17 14:33:56] ppocr DEBUG: rec_res num  : 3, elapse : 0.010080337524414062\n",
      "[2022/06/17 14:33:56] ppocr DEBUG: dt_boxes num : 3, elapse : 0.036367177963256836\n",
      "[2022/06/17 14:33:56] ppocr DEBUG: cls num  : 3, elapse : 0.004231452941894531\n",
      "[2022/06/17 14:33:56] ppocr DEBUG: rec_res num  : 3, elapse : 0.010235786437988281\n"
     ]
    },
    {
     "name": "stderr",
     "output_type": "stream",
     "text": [
      "\r",
      " 78%|███████▊  | 78/100 [00:27<00:08,  2.64it/s]"
     ]
    },
    {
     "name": "stdout",
     "output_type": "stream",
     "text": [
      "[2022/06/17 14:33:56] ppocr DEBUG: dt_boxes num : 69, elapse : 0.06307506561279297\n",
      "[2022/06/17 14:33:56] ppocr DEBUG: cls num  : 69, elapse : 0.04220175743103027\n",
      "[2022/06/17 14:33:57] ppocr DEBUG: rec_res num  : 69, elapse : 0.12029075622558594\n",
      "[2022/06/17 14:33:57] ppocr DEBUG: dt_boxes num : 45, elapse : 0.0628352165222168\n",
      "[2022/06/17 14:33:57] ppocr DEBUG: cls num  : 45, elapse : 0.027332305908203125\n",
      "[2022/06/17 14:33:57] ppocr DEBUG: rec_res num  : 45, elapse : 0.07945036888122559\n",
      "[2022/06/17 14:33:57] ppocr DEBUG: dt_boxes num : 63, elapse : 0.06595563888549805\n",
      "[2022/06/17 14:33:57] ppocr DEBUG: cls num  : 63, elapse : 0.03824329376220703\n",
      "[2022/06/17 14:33:57] ppocr DEBUG: rec_res num  : 63, elapse : 0.1105349063873291\n",
      "[2022/06/17 14:33:57] ppocr DEBUG: dt_boxes num : 49, elapse : 0.06441807746887207\n",
      "[2022/06/17 14:33:57] ppocr DEBUG: cls num  : 49, elapse : 0.0301969051361084\n",
      "[2022/06/17 14:33:57] ppocr DEBUG: rec_res num  : 49, elapse : 0.0794837474822998\n"
     ]
    },
    {
     "name": "stderr",
     "output_type": "stream",
     "text": [
      "\r",
      " 79%|███████▉  | 79/100 [00:28<00:11,  1.85it/s]"
     ]
    },
    {
     "name": "stdout",
     "output_type": "stream",
     "text": [
      "[2022/06/17 14:33:57] ppocr DEBUG: dt_boxes num : 24, elapse : 0.04834342002868652\n",
      "[2022/06/17 14:33:57] ppocr DEBUG: cls num  : 24, elapse : 0.014401674270629883\n",
      "[2022/06/17 14:33:58] ppocr DEBUG: rec_res num  : 24, elapse : 0.06962156295776367\n",
      "[2022/06/17 14:33:58] ppocr DEBUG: dt_boxes num : 22, elapse : 0.09776616096496582\n",
      "[2022/06/17 14:33:58] ppocr DEBUG: cls num  : 22, elapse : 0.03373384475708008\n",
      "[2022/06/17 14:33:58] ppocr DEBUG: rec_res num  : 22, elapse : 0.0716238021850586\n",
      "[2022/06/17 14:33:58] ppocr DEBUG: dt_boxes num : 22, elapse : 0.06468486785888672\n",
      "[2022/06/17 14:33:58] ppocr DEBUG: cls num  : 22, elapse : 0.01656365394592285\n",
      "[2022/06/17 14:33:58] ppocr DEBUG: rec_res num  : 22, elapse : 0.05586743354797363\n",
      "[2022/06/17 14:33:58] ppocr DEBUG: dt_boxes num : 20, elapse : 0.08701062202453613\n",
      "[2022/06/17 14:33:58] ppocr DEBUG: cls num  : 20, elapse : 0.029665470123291016\n",
      "[2022/06/17 14:33:59] ppocr DEBUG: rec_res num  : 20, elapse : 0.05506134033203125\n"
     ]
    },
    {
     "name": "stderr",
     "output_type": "stream",
     "text": [
      "\r",
      " 80%|████████  | 80/100 [00:30<00:15,  1.32it/s]"
     ]
    },
    {
     "name": "stdout",
     "output_type": "stream",
     "text": [
      "[2022/06/17 14:33:59] ppocr DEBUG: dt_boxes num : 3, elapse : 0.015582799911499023\n",
      "[2022/06/17 14:33:59] ppocr DEBUG: cls num  : 3, elapse : 0.0042574405670166016\n",
      "[2022/06/17 14:33:59] ppocr DEBUG: rec_res num  : 3, elapse : 0.006682634353637695\n",
      "[2022/06/17 14:33:59] ppocr DEBUG: dt_boxes num : 1, elapse : 0.015526294708251953\n",
      "[2022/06/17 14:33:59] ppocr DEBUG: cls num  : 1, elapse : 0.0038318634033203125\n",
      "[2022/06/17 14:33:59] ppocr DEBUG: rec_res num  : 1, elapse : 0.0053479671478271484\n",
      "[2022/06/17 14:33:59] ppocr DEBUG: dt_boxes num : 3, elapse : 0.02011418342590332\n",
      "[2022/06/17 14:33:59] ppocr DEBUG: cls num  : 3, elapse : 0.004485368728637695\n",
      "[2022/06/17 14:33:59] ppocr DEBUG: rec_res num  : 3, elapse : 0.006712913513183594\n",
      "[2022/06/17 14:33:59] ppocr DEBUG: dt_boxes num : 1, elapse : 0.015514135360717773\n",
      "[2022/06/17 14:33:59] ppocr DEBUG: cls num  : 1, elapse : 0.003582477569580078\n",
      "[2022/06/17 14:33:59] ppocr DEBUG: rec_res num  : 1, elapse : 0.005110979080200195\n"
     ]
    },
    {
     "name": "stderr",
     "output_type": "stream",
     "text": [
      "\r",
      " 81%|████████  | 81/100 [00:30<00:10,  1.73it/s]"
     ]
    },
    {
     "name": "stdout",
     "output_type": "stream",
     "text": [
      "[2022/06/17 14:33:59] ppocr DEBUG: dt_boxes num : 5, elapse : 0.04350137710571289\n",
      "[2022/06/17 14:33:59] ppocr DEBUG: cls num  : 5, elapse : 0.005004167556762695\n",
      "[2022/06/17 14:33:59] ppocr DEBUG: rec_res num  : 5, elapse : 0.013378381729125977\n",
      "[2022/06/17 14:33:59] ppocr DEBUG: dt_boxes num : 3, elapse : 0.03754878044128418\n",
      "[2022/06/17 14:33:59] ppocr DEBUG: cls num  : 3, elapse : 0.004375457763671875\n",
      "[2022/06/17 14:33:59] ppocr DEBUG: rec_res num  : 3, elapse : 0.0070514678955078125\n",
      "[2022/06/17 14:33:59] ppocr DEBUG: dt_boxes num : 5, elapse : 0.03587698936462402\n",
      "[2022/06/17 14:33:59] ppocr DEBUG: cls num  : 5, elapse : 0.004952192306518555\n",
      "[2022/06/17 14:33:59] ppocr DEBUG: rec_res num  : 5, elapse : 0.012085199356079102\n",
      "[2022/06/17 14:33:59] ppocr DEBUG: dt_boxes num : 4, elapse : 0.03727126121520996\n",
      "[2022/06/17 14:33:59] ppocr DEBUG: cls num  : 4, elapse : 0.00476837158203125\n",
      "[2022/06/17 14:33:59] ppocr DEBUG: rec_res num  : 4, elapse : 0.008795738220214844\n"
     ]
    },
    {
     "name": "stderr",
     "output_type": "stream",
     "text": [
      "\r",
      " 82%|████████▏ | 82/100 [00:30<00:08,  2.01it/s]"
     ]
    },
    {
     "name": "stdout",
     "output_type": "stream",
     "text": [
      "[2022/06/17 14:33:59] ppocr DEBUG: dt_boxes num : 13, elapse : 0.038331031799316406\n",
      "[2022/06/17 14:33:59] ppocr DEBUG: cls num  : 13, elapse : 0.010951519012451172\n",
      "[2022/06/17 14:33:59] ppocr DEBUG: rec_res num  : 13, elapse : 0.051572322845458984\n",
      "[2022/06/17 14:33:59] ppocr DEBUG: dt_boxes num : 86, elapse : 0.08618402481079102\n",
      "[2022/06/17 14:33:59] ppocr DEBUG: cls num  : 86, elapse : 0.05077862739562988\n",
      "[2022/06/17 14:33:59] ppocr DEBUG: rec_res num  : 86, elapse : 0.13313698768615723\n",
      "[2022/06/17 14:33:59] ppocr DEBUG: dt_boxes num : 12, elapse : 0.04313850402832031\n",
      "[2022/06/17 14:34:00] ppocr DEBUG: cls num  : 12, elapse : 0.018441200256347656\n",
      "[2022/06/17 14:34:00] ppocr DEBUG: rec_res num  : 12, elapse : 0.03869032859802246\n",
      "[2022/06/17 14:34:00] ppocr DEBUG: dt_boxes num : 74, elapse : 0.08095860481262207\n",
      "[2022/06/17 14:34:00] ppocr DEBUG: cls num  : 74, elapse : 0.0437014102935791\n",
      "[2022/06/17 14:34:00] ppocr DEBUG: rec_res num  : 74, elapse : 0.11379384994506836\n"
     ]
    },
    {
     "name": "stderr",
     "output_type": "stream",
     "text": [
      "\r",
      " 83%|████████▎ | 83/100 [00:31<00:10,  1.69it/s]"
     ]
    },
    {
     "name": "stdout",
     "output_type": "stream",
     "text": [
      "[2022/06/17 14:34:00] ppocr DEBUG: dt_boxes num : 1, elapse : 0.02769923210144043\n",
      "[2022/06/17 14:34:00] ppocr DEBUG: cls num  : 1, elapse : 0.0039825439453125\n",
      "[2022/06/17 14:34:00] ppocr DEBUG: rec_res num  : 1, elapse : 0.005396842956542969\n",
      "[2022/06/17 14:34:00] ppocr DEBUG: dt_boxes num : 1, elapse : 0.0439000129699707\n",
      "[2022/06/17 14:34:00] ppocr DEBUG: cls num  : 1, elapse : 0.004673957824707031\n",
      "[2022/06/17 14:34:00] ppocr DEBUG: rec_res num  : 1, elapse : 0.00600123405456543\n",
      "[2022/06/17 14:34:00] ppocr DEBUG: dt_boxes num : 1, elapse : 0.0380706787109375\n",
      "[2022/06/17 14:34:00] ppocr DEBUG: cls num  : 1, elapse : 0.004317045211791992\n",
      "[2022/06/17 14:34:00] ppocr DEBUG: rec_res num  : 1, elapse : 0.005474567413330078\n",
      "[2022/06/17 14:34:00] ppocr DEBUG: dt_boxes num : 1, elapse : 0.03742814064025879\n",
      "[2022/06/17 14:34:00] ppocr DEBUG: cls num  : 1, elapse : 0.0047740936279296875\n",
      "[2022/06/17 14:34:00] ppocr DEBUG: rec_res num  : 1, elapse : 0.0056989192962646484\n"
     ]
    },
    {
     "name": "stderr",
     "output_type": "stream",
     "text": [
      "\r",
      " 84%|████████▍ | 84/100 [00:31<00:07,  2.00it/s]"
     ]
    },
    {
     "name": "stdout",
     "output_type": "stream",
     "text": [
      "[2022/06/17 14:34:00] ppocr DEBUG: dt_boxes num : 7, elapse : 0.03244161605834961\n",
      "[2022/06/17 14:34:00] ppocr DEBUG: cls num  : 7, elapse : 0.008942365646362305\n",
      "[2022/06/17 14:34:00] ppocr DEBUG: rec_res num  : 7, elapse : 0.022181987762451172\n",
      "[2022/06/17 14:34:00] ppocr DEBUG: dt_boxes num : 2, elapse : 0.03879714012145996\n",
      "[2022/06/17 14:34:00] ppocr DEBUG: cls num  : 2, elapse : 0.005330085754394531\n",
      "[2022/06/17 14:34:00] ppocr DEBUG: rec_res num  : 2, elapse : 0.008058786392211914\n",
      "[2022/06/17 14:34:00] ppocr DEBUG: dt_boxes num : 7, elapse : 0.03775477409362793\n",
      "[2022/06/17 14:34:00] ppocr DEBUG: cls num  : 7, elapse : 0.0075380802154541016\n",
      "[2022/06/17 14:34:00] ppocr DEBUG: rec_res num  : 7, elapse : 0.01903367042541504\n",
      "[2022/06/17 14:34:00] ppocr DEBUG: dt_boxes num : 3, elapse : 0.036246299743652344\n",
      "[2022/06/17 14:34:00] ppocr DEBUG: cls num  : 3, elapse : 0.00477147102355957\n",
      "[2022/06/17 14:34:00] ppocr DEBUG: rec_res num  : 3, elapse : 0.009613990783691406\n"
     ]
    },
    {
     "name": "stderr",
     "output_type": "stream",
     "text": [
      "\r",
      " 85%|████████▌ | 85/100 [00:31<00:06,  2.23it/s]"
     ]
    },
    {
     "name": "stdout",
     "output_type": "stream",
     "text": [
      "[2022/06/17 14:34:00] ppocr DEBUG: dt_boxes num : 16, elapse : 0.03750967979431152\n",
      "[2022/06/17 14:34:01] ppocr DEBUG: cls num  : 16, elapse : 0.012475967407226562\n",
      "[2022/06/17 14:34:01] ppocr DEBUG: rec_res num  : 16, elapse : 0.07232451438903809\n",
      "[2022/06/17 14:34:01] ppocr DEBUG: dt_boxes num : 24, elapse : 0.0490880012512207\n",
      "[2022/06/17 14:34:01] ppocr DEBUG: cls num  : 24, elapse : 0.013657093048095703\n",
      "[2022/06/17 14:34:01] ppocr DEBUG: rec_res num  : 24, elapse : 0.0847470760345459\n",
      "[2022/06/17 14:34:01] ppocr DEBUG: dt_boxes num : 17, elapse : 0.046319007873535156\n",
      "[2022/06/17 14:34:01] ppocr DEBUG: cls num  : 17, elapse : 0.012526273727416992\n",
      "[2022/06/17 14:34:01] ppocr DEBUG: rec_res num  : 17, elapse : 0.05138516426086426\n",
      "[2022/06/17 14:34:01] ppocr DEBUG: dt_boxes num : 22, elapse : 0.04691886901855469\n",
      "[2022/06/17 14:34:01] ppocr DEBUG: cls num  : 22, elapse : 0.014388322830200195\n",
      "[2022/06/17 14:34:01] ppocr DEBUG: rec_res num  : 22, elapse : 0.06736254692077637\n"
     ]
    },
    {
     "name": "stderr",
     "output_type": "stream",
     "text": [
      "\r",
      " 86%|████████▌ | 86/100 [00:32<00:07,  1.94it/s]"
     ]
    },
    {
     "name": "stdout",
     "output_type": "stream",
     "text": [
      "[2022/06/17 14:34:01] ppocr DEBUG: dt_boxes num : 14, elapse : 0.035637617111206055\n",
      "[2022/06/17 14:34:01] ppocr DEBUG: cls num  : 14, elapse : 0.011260986328125\n",
      "[2022/06/17 14:34:01] ppocr DEBUG: rec_res num  : 14, elapse : 0.03484487533569336\n",
      "[2022/06/17 14:34:01] ppocr DEBUG: dt_boxes num : 12, elapse : 0.041278839111328125\n",
      "[2022/06/17 14:34:01] ppocr DEBUG: cls num  : 12, elapse : 0.008002042770385742\n",
      "[2022/06/17 14:34:01] ppocr DEBUG: rec_res num  : 12, elapse : 0.028517484664916992\n",
      "[2022/06/17 14:34:01] ppocr DEBUG: dt_boxes num : 15, elapse : 0.04108572006225586\n",
      "[2022/06/17 14:34:01] ppocr DEBUG: cls num  : 15, elapse : 0.010065317153930664\n",
      "[2022/06/17 14:34:01] ppocr DEBUG: rec_res num  : 15, elapse : 0.03555011749267578\n",
      "[2022/06/17 14:34:02] ppocr DEBUG: dt_boxes num : 11, elapse : 0.04135251045227051\n",
      "[2022/06/17 14:34:02] ppocr DEBUG: cls num  : 11, elapse : 0.00791168212890625\n",
      "[2022/06/17 14:34:02] ppocr DEBUG: rec_res num  : 11, elapse : 0.026204824447631836\n"
     ]
    },
    {
     "name": "stderr",
     "output_type": "stream",
     "text": [
      "\r",
      " 87%|████████▋ | 87/100 [00:33<00:06,  2.02it/s]"
     ]
    },
    {
     "name": "stdout",
     "output_type": "stream",
     "text": [
      "[2022/06/17 14:34:02] ppocr DEBUG: dt_boxes num : 16, elapse : 0.037230730056762695\n",
      "[2022/06/17 14:34:02] ppocr DEBUG: cls num  : 16, elapse : 0.011143684387207031\n",
      "[2022/06/17 14:34:02] ppocr DEBUG: rec_res num  : 16, elapse : 0.02613234519958496\n",
      "[2022/06/17 14:34:02] ppocr DEBUG: dt_boxes num : 19, elapse : 0.0442962646484375\n",
      "[2022/06/17 14:34:02] ppocr DEBUG: cls num  : 19, elapse : 0.013963699340820312\n",
      "[2022/06/17 14:34:02] ppocr DEBUG: rec_res num  : 19, elapse : 0.03195333480834961\n",
      "[2022/06/17 14:34:02] ppocr DEBUG: dt_boxes num : 15, elapse : 0.0423431396484375\n",
      "[2022/06/17 14:34:02] ppocr DEBUG: cls num  : 15, elapse : 0.010465621948242188\n",
      "[2022/06/17 14:34:02] ppocr DEBUG: rec_res num  : 15, elapse : 0.02491927146911621\n",
      "[2022/06/17 14:34:02] ppocr DEBUG: dt_boxes num : 21, elapse : 0.045714378356933594\n",
      "[2022/06/17 14:34:02] ppocr DEBUG: cls num  : 21, elapse : 0.011917591094970703\n",
      "[2022/06/17 14:34:02] ppocr DEBUG: rec_res num  : 21, elapse : 0.03503298759460449\n"
     ]
    },
    {
     "name": "stderr",
     "output_type": "stream",
     "text": [
      "\r",
      " 88%|████████▊ | 88/100 [00:33<00:05,  2.07it/s]"
     ]
    },
    {
     "name": "stdout",
     "output_type": "stream",
     "text": [
      "[2022/06/17 14:34:02] ppocr DEBUG: dt_boxes num : 5, elapse : 0.03102254867553711\n",
      "[2022/06/17 14:34:02] ppocr DEBUG: cls num  : 5, elapse : 0.004727840423583984\n",
      "[2022/06/17 14:34:02] ppocr DEBUG: rec_res num  : 5, elapse : 0.009081363677978516\n",
      "[2022/06/17 14:34:02] ppocr DEBUG: dt_boxes num : 5, elapse : 0.03643655776977539\n",
      "[2022/06/17 14:34:02] ppocr DEBUG: cls num  : 5, elapse : 0.004019021987915039\n",
      "[2022/06/17 14:34:02] ppocr DEBUG: rec_res num  : 5, elapse : 0.008606195449829102\n",
      "[2022/06/17 14:34:02] ppocr DEBUG: dt_boxes num : 4, elapse : 0.03615117073059082\n",
      "[2022/06/17 14:34:02] ppocr DEBUG: cls num  : 4, elapse : 0.004172563552856445\n",
      "[2022/06/17 14:34:02] ppocr DEBUG: rec_res num  : 4, elapse : 0.008005380630493164\n",
      "[2022/06/17 14:34:02] ppocr DEBUG: dt_boxes num : 5, elapse : 0.0367588996887207\n",
      "[2022/06/17 14:34:02] ppocr DEBUG: cls num  : 5, elapse : 0.004202604293823242\n",
      "[2022/06/17 14:34:02] ppocr DEBUG: rec_res num  : 5, elapse : 0.008600473403930664\n"
     ]
    },
    {
     "name": "stderr",
     "output_type": "stream",
     "text": [
      "\r",
      " 89%|████████▉ | 89/100 [00:33<00:04,  2.37it/s]"
     ]
    },
    {
     "name": "stdout",
     "output_type": "stream",
     "text": [
      "[2022/06/17 14:34:02] ppocr DEBUG: dt_boxes num : 9, elapse : 0.0325627326965332\n",
      "[2022/06/17 14:34:02] ppocr DEBUG: cls num  : 9, elapse : 0.007416725158691406\n",
      "[2022/06/17 14:34:02] ppocr DEBUG: rec_res num  : 9, elapse : 0.01895284652709961\n",
      "[2022/06/17 14:34:02] ppocr DEBUG: dt_boxes num : 9, elapse : 0.03897380828857422\n",
      "[2022/06/17 14:34:02] ppocr DEBUG: cls num  : 9, elapse : 0.00850820541381836\n",
      "[2022/06/17 14:34:02] ppocr DEBUG: rec_res num  : 9, elapse : 0.01861119270324707\n",
      "[2022/06/17 14:34:03] ppocr DEBUG: dt_boxes num : 8, elapse : 0.037519216537475586\n",
      "[2022/06/17 14:34:03] ppocr DEBUG: cls num  : 8, elapse : 0.007941484451293945\n",
      "[2022/06/17 14:34:03] ppocr DEBUG: rec_res num  : 8, elapse : 0.017579078674316406\n",
      "[2022/06/17 14:34:03] ppocr DEBUG: dt_boxes num : 9, elapse : 0.04036521911621094\n",
      "[2022/06/17 14:34:03] ppocr DEBUG: cls num  : 9, elapse : 0.008054971694946289\n",
      "[2022/06/17 14:34:03] ppocr DEBUG: rec_res num  : 9, elapse : 0.0189664363861084\n"
     ]
    },
    {
     "name": "stderr",
     "output_type": "stream",
     "text": [
      "\r",
      " 90%|█████████ | 90/100 [00:34<00:04,  2.49it/s]"
     ]
    },
    {
     "name": "stdout",
     "output_type": "stream",
     "text": [
      "[2022/06/17 14:34:03] ppocr DEBUG: dt_boxes num : 14, elapse : 0.04165339469909668\n",
      "[2022/06/17 14:34:03] ppocr DEBUG: cls num  : 14, elapse : 0.011227846145629883\n",
      "[2022/06/17 14:34:03] ppocr DEBUG: rec_res num  : 14, elapse : 0.025191783905029297\n",
      "[2022/06/17 14:34:03] ppocr DEBUG: dt_boxes num : 6, elapse : 0.041780948638916016\n",
      "[2022/06/17 14:34:03] ppocr DEBUG: cls num  : 6, elapse : 0.004387855529785156\n",
      "[2022/06/17 14:34:03] ppocr DEBUG: rec_res num  : 6, elapse : 0.010171890258789062\n",
      "[2022/06/17 14:34:03] ppocr DEBUG: dt_boxes num : 11, elapse : 0.04528546333312988\n",
      "[2022/06/17 14:34:03] ppocr DEBUG: cls num  : 11, elapse : 0.007504701614379883\n",
      "[2022/06/17 14:34:03] ppocr DEBUG: rec_res num  : 11, elapse : 0.02031254768371582\n",
      "[2022/06/17 14:34:03] ppocr DEBUG: dt_boxes num : 12, elapse : 0.044676780700683594\n",
      "[2022/06/17 14:34:03] ppocr DEBUG: cls num  : 12, elapse : 0.008119583129882812\n",
      "[2022/06/17 14:34:03] ppocr DEBUG: rec_res num  : 12, elapse : 0.020279645919799805\n"
     ]
    },
    {
     "name": "stderr",
     "output_type": "stream",
     "text": [
      "\r",
      " 91%|█████████ | 91/100 [00:34<00:03,  2.55it/s]"
     ]
    },
    {
     "name": "stdout",
     "output_type": "stream",
     "text": [
      "[2022/06/17 14:34:03] ppocr DEBUG: dt_boxes num : 3, elapse : 0.012145280838012695\n",
      "[2022/06/17 14:34:03] ppocr DEBUG: cls num  : 3, elapse : 0.00368499755859375\n",
      "[2022/06/17 14:34:03] ppocr DEBUG: rec_res num  : 3, elapse : 0.006910085678100586\n",
      "[2022/06/17 14:34:03] ppocr DEBUG: dt_boxes num : 6, elapse : 0.013640403747558594\n",
      "[2022/06/17 14:34:03] ppocr DEBUG: cls num  : 6, elapse : 0.0037755966186523438\n",
      "[2022/06/17 14:34:03] ppocr DEBUG: rec_res num  : 6, elapse : 0.009982824325561523\n",
      "[2022/06/17 14:34:03] ppocr DEBUG: dt_boxes num : 3, elapse : 0.011979341506958008\n",
      "[2022/06/17 14:34:03] ppocr DEBUG: cls num  : 3, elapse : 0.0032618045806884766\n",
      "[2022/06/17 14:34:03] ppocr DEBUG: rec_res num  : 3, elapse : 0.00653839111328125\n",
      "[2022/06/17 14:34:03] ppocr DEBUG: dt_boxes num : 4, elapse : 0.012733697891235352\n",
      "[2022/06/17 14:34:03] ppocr DEBUG: cls num  : 4, elapse : 0.003363370895385742\n",
      "[2022/06/17 14:34:03] ppocr DEBUG: rec_res num  : 4, elapse : 0.0074443817138671875\n"
     ]
    },
    {
     "name": "stderr",
     "output_type": "stream",
     "text": [
      "\r",
      " 92%|█████████▏| 92/100 [00:34<00:02,  3.25it/s]"
     ]
    },
    {
     "name": "stdout",
     "output_type": "stream",
     "text": [
      "[2022/06/17 14:34:03] ppocr DEBUG: dt_boxes num : 12, elapse : 0.035819053649902344\n",
      "[2022/06/17 14:34:03] ppocr DEBUG: cls num  : 12, elapse : 0.00872039794921875\n",
      "[2022/06/17 14:34:03] ppocr DEBUG: rec_res num  : 12, elapse : 0.02656245231628418\n",
      "[2022/06/17 14:34:03] ppocr DEBUG: dt_boxes num : 14, elapse : 0.04271078109741211\n",
      "[2022/06/17 14:34:03] ppocr DEBUG: cls num  : 14, elapse : 0.011821985244750977\n",
      "[2022/06/17 14:34:03] ppocr DEBUG: rec_res num  : 14, elapse : 0.03080439567565918\n",
      "[2022/06/17 14:34:03] ppocr DEBUG: dt_boxes num : 14, elapse : 0.04214763641357422\n",
      "[2022/06/17 14:34:03] ppocr DEBUG: cls num  : 14, elapse : 0.010837554931640625\n",
      "[2022/06/17 14:34:03] ppocr DEBUG: rec_res num  : 14, elapse : 0.027922868728637695\n",
      "[2022/06/17 14:34:03] ppocr DEBUG: dt_boxes num : 14, elapse : 0.04282426834106445\n",
      "[2022/06/17 14:34:04] ppocr DEBUG: cls num  : 14, elapse : 0.011332511901855469\n",
      "[2022/06/17 14:34:04] ppocr DEBUG: rec_res num  : 14, elapse : 0.03040170669555664\n"
     ]
    },
    {
     "name": "stderr",
     "output_type": "stream",
     "text": [
      "\r",
      " 93%|█████████▎| 93/100 [00:35<00:02,  2.90it/s]"
     ]
    },
    {
     "name": "stdout",
     "output_type": "stream",
     "text": [
      "[2022/06/17 14:34:04] ppocr DEBUG: dt_boxes num : 40, elapse : 0.056731224060058594\n",
      "[2022/06/17 14:34:04] ppocr DEBUG: cls num  : 40, elapse : 0.02266979217529297\n",
      "[2022/06/17 14:34:04] ppocr DEBUG: rec_res num  : 40, elapse : 0.09435606002807617\n",
      "[2022/06/17 14:34:04] ppocr DEBUG: dt_boxes num : 32, elapse : 0.05925273895263672\n",
      "[2022/06/17 14:34:04] ppocr DEBUG: cls num  : 32, elapse : 0.021721601486206055\n",
      "[2022/06/17 14:34:04] ppocr DEBUG: rec_res num  : 32, elapse : 0.13801336288452148\n",
      "[2022/06/17 14:34:04] ppocr DEBUG: dt_boxes num : 39, elapse : 0.0647118091583252\n",
      "[2022/06/17 14:34:04] ppocr DEBUG: cls num  : 39, elapse : 0.022878408432006836\n",
      "[2022/06/17 14:34:04] ppocr DEBUG: rec_res num  : 39, elapse : 0.07477831840515137\n",
      "[2022/06/17 14:34:04] ppocr DEBUG: dt_boxes num : 23, elapse : 0.055628299713134766\n",
      "[2022/06/17 14:34:04] ppocr DEBUG: cls num  : 23, elapse : 0.01378774642944336\n",
      "[2022/06/17 14:34:04] ppocr DEBUG: rec_res num  : 23, elapse : 0.06608128547668457\n"
     ]
    },
    {
     "name": "stderr",
     "output_type": "stream",
     "text": [
      "\r",
      " 94%|█████████▍| 94/100 [00:35<00:03,  1.99it/s]"
     ]
    },
    {
     "name": "stdout",
     "output_type": "stream",
     "text": [
      "[2022/06/17 14:34:04] ppocr DEBUG: dt_boxes num : 7, elapse : 0.04093503952026367\n",
      "[2022/06/17 14:34:05] ppocr DEBUG: cls num  : 7, elapse : 0.007124662399291992\n",
      "[2022/06/17 14:34:05] ppocr DEBUG: rec_res num  : 7, elapse : 0.01923847198486328\n",
      "[2022/06/17 14:34:05] ppocr DEBUG: dt_boxes num : 9, elapse : 0.045317649841308594\n",
      "[2022/06/17 14:34:05] ppocr DEBUG: cls num  : 9, elapse : 0.0069811344146728516\n",
      "[2022/06/17 14:34:05] ppocr DEBUG: rec_res num  : 9, elapse : 0.022715091705322266\n",
      "[2022/06/17 14:34:05] ppocr DEBUG: dt_boxes num : 8, elapse : 0.042719364166259766\n",
      "[2022/06/17 14:34:05] ppocr DEBUG: cls num  : 8, elapse : 0.007264614105224609\n",
      "[2022/06/17 14:34:05] ppocr DEBUG: rec_res num  : 8, elapse : 0.020199060440063477\n",
      "[2022/06/17 14:34:05] ppocr DEBUG: dt_boxes num : 9, elapse : 0.044153451919555664\n",
      "[2022/06/17 14:34:05] ppocr DEBUG: cls num  : 9, elapse : 0.006869316101074219\n",
      "[2022/06/17 14:34:05] ppocr DEBUG: rec_res num  : 9, elapse : 0.023151874542236328\n"
     ]
    },
    {
     "name": "stderr",
     "output_type": "stream",
     "text": [
      "\r",
      " 95%|█████████▌| 95/100 [00:36<00:02,  2.08it/s]"
     ]
    },
    {
     "name": "stdout",
     "output_type": "stream",
     "text": [
      "[2022/06/17 14:34:05] ppocr DEBUG: dt_boxes num : 4, elapse : 0.03188014030456543\n",
      "[2022/06/17 14:34:05] ppocr DEBUG: cls num  : 4, elapse : 0.003317117691040039\n",
      "[2022/06/17 14:34:05] ppocr DEBUG: rec_res num  : 4, elapse : 0.016771316528320312\n",
      "[2022/06/17 14:34:05] ppocr DEBUG: dt_boxes num : 4, elapse : 0.04247307777404785\n",
      "[2022/06/17 14:34:05] ppocr DEBUG: cls num  : 4, elapse : 0.004402875900268555\n",
      "[2022/06/17 14:34:05] ppocr DEBUG: rec_res num  : 4, elapse : 0.015455007553100586\n",
      "[2022/06/17 14:34:05] ppocr DEBUG: dt_boxes num : 4, elapse : 0.03989982604980469\n",
      "[2022/06/17 14:34:05] ppocr DEBUG: cls num  : 4, elapse : 0.003256559371948242\n",
      "[2022/06/17 14:34:05] ppocr DEBUG: rec_res num  : 4, elapse : 0.016050100326538086\n",
      "[2022/06/17 14:34:05] ppocr DEBUG: dt_boxes num : 4, elapse : 0.04169416427612305\n",
      "[2022/06/17 14:34:05] ppocr DEBUG: cls num  : 4, elapse : 0.00444340705871582\n",
      "[2022/06/17 14:34:05] ppocr DEBUG: rec_res num  : 4, elapse : 0.01491093635559082\n"
     ]
    },
    {
     "name": "stderr",
     "output_type": "stream",
     "text": [
      "\r",
      " 96%|█████████▌| 96/100 [00:36<00:01,  2.21it/s]"
     ]
    },
    {
     "name": "stdout",
     "output_type": "stream",
     "text": [
      "[2022/06/17 14:34:05] ppocr DEBUG: dt_boxes num : 17, elapse : 0.03684830665588379\n",
      "[2022/06/17 14:34:05] ppocr DEBUG: cls num  : 17, elapse : 0.010409355163574219\n",
      "[2022/06/17 14:34:05] ppocr DEBUG: rec_res num  : 17, elapse : 0.06381034851074219\n",
      "[2022/06/17 14:34:05] ppocr DEBUG: dt_boxes num : 11, elapse : 0.04265904426574707\n",
      "[2022/06/17 14:34:05] ppocr DEBUG: cls num  : 11, elapse : 0.007388114929199219\n",
      "[2022/06/17 14:34:05] ppocr DEBUG: rec_res num  : 11, elapse : 0.027690887451171875\n",
      "[2022/06/17 14:34:06] ppocr DEBUG: dt_boxes num : 18, elapse : 0.04252171516418457\n",
      "[2022/06/17 14:34:06] ppocr DEBUG: cls num  : 18, elapse : 0.010477781295776367\n",
      "[2022/06/17 14:34:06] ppocr DEBUG: rec_res num  : 18, elapse : 0.058316707611083984\n",
      "[2022/06/17 14:34:06] ppocr DEBUG: dt_boxes num : 13, elapse : 0.04778027534484863\n",
      "[2022/06/17 14:34:06] ppocr DEBUG: cls num  : 13, elapse : 0.010253429412841797\n",
      "[2022/06/17 14:34:06] ppocr DEBUG: rec_res num  : 13, elapse : 0.030108928680419922\n"
     ]
    },
    {
     "name": "stderr",
     "output_type": "stream",
     "text": [
      "\r",
      " 97%|█████████▋| 97/100 [00:37<00:01,  2.16it/s]"
     ]
    },
    {
     "name": "stdout",
     "output_type": "stream",
     "text": [
      "[2022/06/17 14:34:06] ppocr DEBUG: dt_boxes num : 34, elapse : 0.046015262603759766\n",
      "[2022/06/17 14:34:06] ppocr DEBUG: cls num  : 34, elapse : 0.019962787628173828\n",
      "[2022/06/17 14:34:06] ppocr DEBUG: rec_res num  : 34, elapse : 0.06311273574829102\n",
      "[2022/06/17 14:34:06] ppocr DEBUG: dt_boxes num : 26, elapse : 0.05141711235046387\n",
      "[2022/06/17 14:34:06] ppocr DEBUG: cls num  : 26, elapse : 0.01539301872253418\n",
      "[2022/06/17 14:34:06] ppocr DEBUG: rec_res num  : 26, elapse : 0.04944181442260742\n",
      "[2022/06/17 14:34:06] ppocr DEBUG: dt_boxes num : 34, elapse : 0.052745819091796875\n",
      "[2022/06/17 14:34:06] ppocr DEBUG: cls num  : 34, elapse : 0.0201418399810791\n",
      "[2022/06/17 14:34:06] ppocr DEBUG: rec_res num  : 34, elapse : 0.06370735168457031\n",
      "[2022/06/17 14:34:06] ppocr DEBUG: dt_boxes num : 26, elapse : 0.04982733726501465\n",
      "[2022/06/17 14:34:06] ppocr DEBUG: cls num  : 26, elapse : 0.017431020736694336\n",
      "[2022/06/17 14:34:06] ppocr DEBUG: rec_res num  : 26, elapse : 0.05013442039489746\n"
     ]
    },
    {
     "name": "stderr",
     "output_type": "stream",
     "text": [
      "\r",
      " 98%|█████████▊| 98/100 [00:37<00:01,  1.96it/s]"
     ]
    },
    {
     "name": "stdout",
     "output_type": "stream",
     "text": [
      "[2022/06/17 14:34:06] ppocr DEBUG: dt_boxes num : 1, elapse : 0.029421567916870117\n",
      "[2022/06/17 14:34:06] ppocr DEBUG: cls num  : 1, elapse : 0.0029172897338867188\n",
      "[2022/06/17 14:34:06] ppocr DEBUG: rec_res num  : 1, elapse : 0.0036818981170654297\n",
      "[2022/06/17 14:34:06] ppocr DEBUG: dt_boxes num : 2, elapse : 0.040357112884521484\n",
      "[2022/06/17 14:34:06] ppocr DEBUG: cls num  : 2, elapse : 0.0028581619262695312\n",
      "[2022/06/17 14:34:06] ppocr DEBUG: rec_res num  : 2, elapse : 0.0053975582122802734\n",
      "[2022/06/17 14:34:07] ppocr DEBUG: dt_boxes num : 0, elapse : 0.03740859031677246\n",
      "[2022/06/17 14:34:07] ppocr DEBUG: cls num  : 0, elapse : 0\n",
      "[2022/06/17 14:34:07] ppocr DEBUG: rec_res num  : 0, elapse : 1.6689300537109375e-06\n",
      "[2022/06/17 14:34:07] ppocr DEBUG: dt_boxes num : 3, elapse : 0.04105401039123535\n",
      "[2022/06/17 14:34:07] ppocr DEBUG: cls num  : 3, elapse : 0.003360271453857422\n",
      "[2022/06/17 14:34:07] ppocr DEBUG: rec_res num  : 3, elapse : 0.0069119930267333984\n"
     ]
    },
    {
     "name": "stderr",
     "output_type": "stream",
     "text": [
      "\r",
      " 99%|█████████▉| 99/100 [00:38<00:00,  2.26it/s]"
     ]
    },
    {
     "name": "stdout",
     "output_type": "stream",
     "text": [
      "[2022/06/17 14:34:07] ppocr DEBUG: dt_boxes num : 13, elapse : 0.03528714179992676\n",
      "[2022/06/17 14:34:07] ppocr DEBUG: cls num  : 13, elapse : 0.008962392807006836\n",
      "[2022/06/17 14:34:07] ppocr DEBUG: rec_res num  : 13, elapse : 0.05385637283325195\n",
      "[2022/06/17 14:34:07] ppocr DEBUG: dt_boxes num : 14, elapse : 0.04782295227050781\n",
      "[2022/06/17 14:34:07] ppocr DEBUG: cls num  : 14, elapse : 0.009926319122314453\n",
      "[2022/06/17 14:34:07] ppocr DEBUG: rec_res num  : 14, elapse : 0.0322568416595459\n",
      "[2022/06/17 14:34:07] ppocr DEBUG: dt_boxes num : 11, elapse : 0.043755292892456055\n",
      "[2022/06/17 14:34:07] ppocr DEBUG: cls num  : 11, elapse : 0.0070955753326416016\n",
      "[2022/06/17 14:34:07] ppocr DEBUG: rec_res num  : 11, elapse : 0.0494990348815918\n",
      "[2022/06/17 14:34:07] ppocr DEBUG: dt_boxes num : 13, elapse : 0.051947593688964844\n",
      "[2022/06/17 14:34:07] ppocr DEBUG: cls num  : 13, elapse : 0.010084390640258789\n",
      "[2022/06/17 14:34:07] ppocr DEBUG: rec_res num  : 13, elapse : 0.05376911163330078\n"
     ]
    },
    {
     "name": "stderr",
     "output_type": "stream",
     "text": [
      "100%|██████████| 100/100 [00:38<00:00,  2.58it/s]\n"
     ]
    }
   ],
   "source": [
    "img_path = \"/root/QianZe/VizWiz-VQA-tiny/test_rectify\"\n",
    "ips = sorted(glob(os.path.join(img_path, \"*\")))\n",
    "# print(ips[:10])\n",
    "pred = {}\n",
    "\n",
    "cnt = 0\n",
    "for ip in tqdm(ips):\n",
    "    img_name = ip.split(\"/\")[-1].split(\".\")[0]\n",
    "    max_drt = rotate_detect_single_image(ip)\n",
    "    pred[img_name] = max_drt\n",
    "    # if cnt <= 10:\n",
    "    #     for line in result:\n",
    "    #         print(line)\n",
    "    cnt += 1"
   ]
  },
  {
   "cell_type": "code",
   "execution_count": 12,
   "id": "060087d6",
   "metadata": {
    "ExecuteTime": {
     "end_time": "2022-06-17T06:35:19.062830Z",
     "start_time": "2022-06-17T06:35:19.056752Z"
    }
   },
   "outputs": [
    {
     "name": "stdout",
     "output_type": "stream",
     "text": [
      "0.94\n"
     ]
    }
   ],
   "source": [
    "rectify_label_path = \"/root/QianZe/VizWiz-VQA-tiny/test_rectify_label.txt\"\n",
    "\n",
    "gt = {}\n",
    "with open(rectify_label_path, \"r\") as f:\n",
    "    lines = f.readlines()\n",
    "    for line in lines:\n",
    "        if len(line) <= 1: continue\n",
    "        image_id, label = line.strip().split(\"\\t\")\n",
    "        gt[image_id] = int(label)\n",
    "\n",
    "acc = 0\n",
    "for image_id in gt.keys():\n",
    "    if pred[image_id] == gt[image_id]:\n",
    "        acc += 1\n",
    "        \n",
    "acc = acc / len(gt)\n",
    "print(acc)"
   ]
  },
  {
   "cell_type": "code",
   "execution_count": 54,
   "id": "8bfabf2f",
   "metadata": {
    "ExecuteTime": {
     "end_time": "2022-06-16T08:54:17.914259Z",
     "start_time": "2022-06-16T08:54:17.378731Z"
    }
   },
   "outputs": [
    {
     "name": "stdout",
     "output_type": "stream",
     "text": [
      "[2022/06/16 16:54:17] ppocr DEBUG: dt_boxes num : 3, elapse : 0.04828071594238281\n",
      "[2022/06/16 16:54:17] ppocr DEBUG: cls num  : 3, elapse : 0.004293203353881836\n",
      "[2022/06/16 16:54:17] ppocr DEBUG: rec_res num  : 3, elapse : 0.007638692855834961\n",
      "[[[[1046.0, 175.0], [1165.0, 176.0], [1159.0, 828.0], [1040.0, 827.0]], ('NETWT0.62OZ(17g)', 0.9251339435577393), ['0', 0.99912363]], [[[1370.0, 429.0], [1496.0, 434.0], [1484.0, 723.0], [1359.0, 718.0]], ('Basil', 0.8140447735786438), ['0', 0.99959785]], [[[1274.0, 443.0], [1340.0, 444.0], [1334.0, 706.0], [1268.0, 705.0]], ('Leaves', 0.9796311855316162), ['0', 0.9999888]]]\n",
      "3\n",
      "2.7188099026679993\n"
     ]
    },
    {
     "data": {
      "image/png": "[encoded data removed]",
      "text/plain": [
       "<Figure size 432x288 with 1 Axes>"
      ]
     },
     "metadata": {
      "needs_background": "light"
     },
     "output_type": "display_data"
    }
   ],
   "source": [
    "test_img_path = \"/root/QianZe/VizWiz-VQA-tiny/test_rectify/VizWiz_train_00000000.jpg\"\n",
    "img_cv = cv2.imread(test_img_path)\n",
    "img_np = np.array(img_cv)\n",
    "img_np_1 = np.rot90(img_np, 3) # counter-clockwise k times\n",
    "\n",
    "result = ocr.ocr(img_np_1, cls=True)\n",
    "tmp_conf = 0\n",
    "for box in result:\n",
    "    _, text, drt = box\n",
    "    tmp_conf += text[1]\n",
    "print(result)\n",
    "print(len(result))\n",
    "print(tmp_conf)\n",
    "plt.imshow(img_np_1)\n",
    "plt.show()"
   ]
  },
  {
   "cell_type": "code",
   "execution_count": null,
   "id": "6faca361",
   "metadata": {},
   "outputs": [],
   "source": []
  }
 ],
 "metadata": {
  "kernelspec": {
   "display_name": "Python [conda env:nlp] *",
   "language": "python",
   "name": "conda-env-nlp-py"
  },
  "language_info": {
   "codemirror_mode": {
    "name": "ipython",
    "version": 3
   },
   "file_extension": ".py",
   "mimetype": "text/x-python",
   "name": "python",
   "nbconvert_exporter": "python",
   "pygments_lexer": "ipython3",
   "version": "3.6.13"
  },
  "varInspector": {
   "cols": {
    "lenName": 16,
    "lenType": 16,
    "lenVar": 40
   },
   "kernels_config": {
    "python": {
     "delete_cmd_postfix": "",
     "delete_cmd_prefix": "del ",
     "library": "var_list.py",
     "varRefreshCmd": "print(var_dic_list())"
    },
    "r": {
     "delete_cmd_postfix": ") ",
     "delete_cmd_prefix": "rm(",
     "library": "var_list.r",
     "varRefreshCmd": "cat(var_dic_list()) "
    }
   },
   "types_to_exclude": [
    "module",
    "function",
    "builtin_function_or_method",
    "instance",
    "_Feature"
   ],
   "window_display": false
  }
 },
 "nbformat": 4,
 "nbformat_minor": 5
}
