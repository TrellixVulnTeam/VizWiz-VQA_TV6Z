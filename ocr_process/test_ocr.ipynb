{
 "cells": [
  {
   "cell_type": "code",
   "execution_count": 118,
   "id": "d064a2e6",
   "metadata": {
    "ExecuteTime": {
     "end_time": "2022-06-27T10:30:52.821427Z",
     "start_time": "2022-06-27T10:30:52.789965Z"
    }
   },
   "outputs": [],
   "source": [
    "from collections import defaultdict\n",
    "import numpy as np\n",
    "import math\n",
    "from functools import cmp_to_key\n",
    "\n",
    "\n",
    "class UnionFind:\n",
    "    def __init__(self, n):\n",
    "        self.parent = [i for i in range(n)]\n",
    "\n",
    "    def find(self, p):\n",
    "        root = p\n",
    "\n",
    "        while root != self.parent[root]:\n",
    "            root = self.parent[root]\n",
    "\n",
    "        while p != self.parent[p]:\n",
    "            tmp = self.parent[p]\n",
    "            self.parent[p] = root\n",
    "            p = tmp\n",
    "        return root\n",
    "\n",
    "    def union(self, p, q):\n",
    "        p_id = self.find(p)\n",
    "        q_id = self.find(q)\n",
    "        if p_id == q_id:\n",
    "            return \n",
    "        self.parent[p_id] = q_id\n",
    "\n",
    "def get_rect_points(text_boxes):\n",
    "    text_boxes = np.array(text_boxes)\n",
    "    x1 = np.min(text_boxes[:, :, 0])\n",
    "    y1 = np.min(text_boxes[:, :, 1])\n",
    "    x2 = np.max(text_boxes[:, :, 0])\n",
    "    y2 = np.max(text_boxes[:, :, 1])\n",
    "\n",
    "    return [[x1, y1],[x2, y1], [x2, y2],[x1, y2]]\n",
    "\n",
    "def get_slope(rect):\n",
    "    x1, x2, _, _ = rect\n",
    "    if x2[0]-x1[0] == 0:\n",
    "        return None \n",
    "\n",
    "    return (x2[1] - x1[1]) / (x2[0] - x1[0])\n",
    "\n",
    "def get_char_size(rect):\n",
    "    x1, x2, x3, x4 = rect\n",
    "    height = (abs(x4[1]-x1[1]) + abs(x3[1]-x2[1])) / 2\n",
    "    return height\n",
    "\n",
    "def get_rect_center(rect):\n",
    "    x1, _, x3, _ = rect\n",
    "    return [(x1[0]+x3[0])/2, (x1[1]+x3[1])/2]\n",
    "\n",
    "def rotate_point(angle, valuex, valuey, pointx, pointy, direction=\"S\"):\n",
    "    valuex = np.array(valuex)\n",
    "    valuey = np.array(valuey)\n",
    "    if direction == \"S\":\n",
    "        Rotatex = (valuex-pointx)*math.cos(angle) + (valuey-pointy)*math.sin(angle) + pointx\n",
    "        Rotatey = (valuey-pointy)*math.cos(angle) - (valuex-pointx)*math.sin(angle) + pointy\n",
    "    else:\n",
    "        Rotatex = (valuex-pointx)*math.cos(angle) - (valuey-pointy)*math.sin(angle) + pointx\n",
    "        Rotatey = (valuex-pointx)*math.sin(angle) + (valuey-pointy)*math.cos(angle) + pointy\n",
    "    return Rotatex, Rotatey\n",
    "\n",
    "def rotate_rect(rect, angle, direction=\"S\"):\n",
    "    rotated_rect = []\n",
    "    center_x, center_y = get_rect_center(rect)\n",
    "    for x, y in rect:\n",
    "        rotated_rect.append(rotate_point(angle, x, y, center_x, center_y, direction))\n",
    "    \n",
    "    return rotated_rect\n",
    "\n",
    "def overlap(min1, max1, min2, max2):\n",
    "    return max(0, min(max1, max2) - max(min1, min2))\n",
    "\n",
    "def calc_overlap_for_Yaxis(rect1, rect2):\n",
    "    '''\n",
    "        calculate overlap in Y-axis\n",
    "    '''\n",
    "    rect1 = np.array(rect1)\n",
    "    rect2 = np.array(rect2)\n",
    "    y1_min, y1_max = np.min(rect1[:, 1]), np.max(rect1[:, 1])\n",
    "    y2_min, y2_max = np.min(rect2[:, 1]), np.max(rect2[:, 1])\n",
    "    height1, height2 = y1_max-y1_min, y2_max-y2_min\n",
    "    Yaxis_overlap = overlap(y1_min, y1_max, y2_min, y2_max) / min(height1, height2)\n",
    "\n",
    "    return Yaxis_overlap\n",
    "\n",
    "def calc_overlap_for_Xaxis(rect1, rect2):\n",
    "    '''\n",
    "        calculate overlap in X-axis\n",
    "    '''\n",
    "    rect1 = np.array(rect1)\n",
    "    rect2 = np.array(rect2)\n",
    "    x1_min, x1_max = np.min(rect1[:, 0]), np.max(rect1[:, 0])\n",
    "    x2_min, x2_max = np.min(rect2[:, 0]), np.max(rect2[:, 0])\n",
    "    width1, width2 = x1_max-x1_min, x2_max-x2_min\n",
    "    Xaxis_overlap = overlap(x1_min, x1_max, x2_min, x2_max) / min(width1, width2)\n",
    "    \n",
    "    return Xaxis_overlap\n",
    "\n",
    "def judge_two_rects(rect1, rect2, text1, text2, slope_thres, char_thres, overlap_thres, y_dis_thres):\n",
    "    '''\n",
    "        judge whether two rects can be merged\n",
    "        1.倾斜角度\n",
    "        2.字体大小相似 (the height of char)\n",
    "        3.垂直或水平的重合度\n",
    "    '''\n",
    "#     print(\"---------------------------\")\n",
    "#     print(\"text:\", text1, text2)\n",
    "    # the slope of two rects\n",
    "    slope1 = get_slope(rect1)\n",
    "    slope2 = get_slope(rect2)\n",
    "#     print(\"slope:\", slope1, slope2)\n",
    "    if slope1 == None or slope2 == None:\n",
    "        return False\n",
    "    if abs(slope1 - slope2) > slope_thres:\n",
    "        return False\n",
    "    \n",
    "    # the char size\n",
    "    char_size1 = get_char_size(rect1)\n",
    "    char_size2 = get_char_size(rect2)\n",
    "#     print(\"char_size:\", char_size1, char_size2)\n",
    "    if abs(char_size1 - char_size2)/max(abs(char_size1), abs(char_size2)) > char_thres:\n",
    "        return False\n",
    "    \n",
    "    # overlap\n",
    "    average_k = (get_slope(rect1)+get_slope(rect2)) / 2\n",
    "    angle = np.arctan(average_k)\n",
    "    rotated_rect1 = rotate_rect(rect1, angle, direction=\"S\")\n",
    "    rotated_rect2 = rotate_rect(rect2, angle, direction=\"S\")\n",
    "    x_overlap = calc_overlap_for_Xaxis(rotated_rect1, rotated_rect2)\n",
    "    y_overlap = calc_overlap_for_Yaxis(rotated_rect1, rotated_rect2)\n",
    "#     print(\"dist:\", dist, (1+dis_thres) * side_len)\n",
    "    if x_overlap < overlap_thres and y_overlap < overlap_thres:\n",
    "        return False\n",
    "    \n",
    "    center1 = get_rect_center(rect1)\n",
    "    center2 = get_rect_center(rect2)\n",
    "#     print(\"y_dist:\", (center1[1]-center2[1])/min(char_size1, char_size2))\n",
    "    if abs(center1[1]-center2[1])/((char_size1+char_size2)/2) > y_dis_thres:\n",
    "        return False\n",
    "\n",
    "    return True\n",
    "\n",
    "def rect_cmp(rect1, rect2):\n",
    "    rect1, rect2 = rect1[0], rect2[0]\n",
    "    char_size = min(get_char_size(rect1), get_char_size(rect2))\n",
    "    center1 = get_rect_center(rect1)\n",
    "    center2 = get_rect_center(rect2)\n",
    "    if abs(center1[1]-center2[1])/char_size > 0.3:\n",
    "        return center1[1] < center2[1]\n",
    "    \n",
    "    return center1[0] < center2[0]    \n",
    "    \n",
    "def merge_rects(rects, texts):\n",
    "    '''\n",
    "        merge a list of rects into one\n",
    "    '''\n",
    "    # calculate average angle\n",
    "    average_k = 0\n",
    "    for rect in rects:\n",
    "        average_k += get_slope(rect)\n",
    "    average_k /= len(rects)\n",
    "    angle = np.arctan(average_k)\n",
    "    rotated_rects = []\n",
    "    for rect in rects:\n",
    "        rotated_rects.append(rotate_rect(rect, angle, direction=\"S\"))\n",
    "    sorted_rects = sorted(list(zip(rotated_rects, texts)), key=cmp_to_key(rect_cmp),reverse=True)\n",
    "    new_text = \" \".join([rect[1] for rect in sorted_rects])\n",
    "    new_rect = get_rect_points(rects)\n",
    "    new_rect = rotate_rect(new_rect, angle, direction=\"N\")\n",
    "\n",
    "    return new_rect, new_text\n",
    "    \n",
    "def boxes_connect(rects, texts, slope_thres, char_thres, dis_thres, y_dis_thres):\n",
    "    n = len(rects)\n",
    "    uf = UnionFind(n)\n",
    "    for i in range(n):\n",
    "        for j in range(i+1, n):\n",
    "            if judge_two_rects(rects[i], rects[j], texts[i], texts[j], slope_thres, char_thres, dis_thres, y_dis_thres):\n",
    "#                 print(i, j)\n",
    "#                 print(texts[i], texts[j])\n",
    "                uf.union(i, j)\n",
    "\n",
    "    connected_idx = defaultdict(list)\n",
    "    for i in range(n):\n",
    "        connected_idx[uf.find(i)].append(i)\n",
    "    \n",
    "    connected_boxes = list(connected_idx.values())\n",
    "#     print(\"connected_boxes:\", connected_boxes)\n",
    "    new_rects, new_texts = [], []\n",
    "    for conn in connected_boxes:\n",
    "        new_rect, new_text = merge_rects([rects[idx] for idx in conn], [texts[idx] for idx in conn])\n",
    "        new_rects.append(new_rect)\n",
    "        new_texts.append(new_text)\n",
    "    \n",
    "    return new_rects, new_texts\n",
    "\n",
    "def point_rot90(x, y, drt, size):\n",
    "    H, W = size\n",
    "    if drt == 0:\n",
    "        return x, y\n",
    "    if drt == 1:\n",
    "        return H-y, x\n",
    "    if drt == 2:\n",
    "        return W-x, H-y\n",
    "    if drt == 3:\n",
    "        return y, W-x\n",
    "\n",
    "def rect_rot90(rects, drt, size):\n",
    "    '''\n",
    "        rotate rect to original direction\n",
    "    '''\n",
    "    new_rects = []\n",
    "    for rect in rects:\n",
    "        new_rect = []\n",
    "        for x, y in rect:\n",
    "            new_rect.append(point_rot90(x, y, drt, size))\n",
    "        new_rects.append(new_rect)\n",
    "    \n",
    "    return new_rects"
   ]
  },
  {
   "cell_type": "code",
   "execution_count": 55,
   "id": "df74b7e7",
   "metadata": {
    "ExecuteTime": {
     "end_time": "2022-06-27T08:03:41.053706Z",
     "start_time": "2022-06-27T08:03:39.922990Z"
    }
   },
   "outputs": [
    {
     "name": "stdout",
     "output_type": "stream",
     "text": [
      "[2022/06/27 16:03:39] ppocr DEBUG: Namespace(alpha=1.0, benchmark=False, beta=1.0, cls_batch_num=6, cls_image_shape='3, 48, 192', cls_model_dir='/root/.paddleocr/whl/cls/ch_ppocr_mobile_v2.0_cls_infer', cls_thresh=0.9, cpu_threads=10, crop_res_save_dir='./output', det=True, det_algorithm='DB', det_db_box_thresh=0.6, det_db_score_mode='fast', det_db_thresh=0.3, det_db_unclip_ratio=1.5, det_east_cover_thresh=0.1, det_east_nms_thresh=0.2, det_east_score_thresh=0.8, det_fce_box_type='poly', det_limit_side_len=960, det_limit_type='max', det_model_dir='/root/.paddleocr/whl/det/en/en_PP-OCRv3_det_infer', det_pse_box_thresh=0.85, det_pse_box_type='quad', det_pse_min_area=16, det_pse_scale=1, det_pse_thresh=0, det_sast_nms_thresh=0.2, det_sast_polygon=False, det_sast_score_thresh=0.5, draw_img_save_dir='./inference_results', drop_score=0.5, e2e_algorithm='PGNet', e2e_char_dict_path='./ppocr/utils/ic15_dict.txt', e2e_limit_side_len=768, e2e_limit_type='max', e2e_model_dir=None, e2e_pgnet_mode='fast', e2e_pgnet_score_thresh=0.5, e2e_pgnet_valid_set='totaltext', enable_mkldnn=False, fourier_degree=5, gpu_mem=500, help='==SUPPRESS==', image_dir=None, ir_optim=True, label_list=['0', '180'], lang='en', layout=True, layout_label_map=None, layout_path_model='lp://PubLayNet/ppyolov2_r50vd_dcn_365e_publaynet/config', max_batch_size=10, max_text_length=25, min_subgraph_size=15, mode='structure', ocr=True, ocr_version='PP-OCRv3', output='./output', precision='fp32', process_id=0, rec=True, rec_algorithm='SVTR_LCNet', rec_batch_num=6, rec_char_dict_path='/home/liuzheng/anaconda3/envs/nlp/lib/python3.6/site-packages/paddleocr/ppocr/utils/en_dict.txt', rec_image_shape='3, 48, 320', rec_model_dir='/root/.paddleocr/whl/rec/en/en_PP-OCRv3_rec_infer', save_crop_res=False, save_log_path='./log_output/', scales=[8, 16, 32], show_log=True, structure_version='PP-STRUCTURE', table=True, table_char_dict_path=None, table_max_len=488, table_model_dir=None, total_process_num=1, type='ocr', use_angle_cls=True, use_dilation=False, use_gpu=True, use_mp=False, use_onnx=False, use_pdserving=False, use_space_char=True, use_tensorrt=False, vis_font_path='./doc/fonts/simfang.ttf', warmup=False)\n",
      "label_list: ['0', '180']\n"
     ]
    }
   ],
   "source": [
    "from ast import dump\n",
    "from paddleocr import PaddleOCR, draw_ocr\n",
    "import os\n",
    "from glob import glob\n",
    "from tqdm import tqdm\n",
    "import json\n",
    "import cv2\n",
    "from matplotlib import pyplot as plt\n",
    "import numpy as np\n",
    "\n",
    "ocr = PaddleOCR(use_angle_cls=True, lang='en')\n",
    "\n",
    "def calc_single_image_ratio(boxes):\n",
    "    if len(boxes) == 0:\n",
    "        return -1\n",
    "    \n",
    "    ratio = 0\n",
    "    for box in boxes:\n",
    "        pos, text, _ = box\n",
    "        x1, x2, x3, x4 = pos\n",
    "        wide = x2[0] - x1[0]\n",
    "        height = x3[1] - x2[1]\n",
    "        if wide == 0.0:\n",
    "            wide = 1\n",
    "        if height == 0.0:\n",
    "            height = 1\n",
    "        tmp_ratio = wide / height\n",
    "#         print(tmp_ratio)\n",
    "        ratio += tmp_ratio\n",
    "    \n",
    "    average_ratio = ratio / len(boxes)\n",
    "    \n",
    "    return average_ratio\n",
    "\n",
    "def rotate_detect_single_image(img_path):\n",
    "    #     print(img_path)\n",
    "    img_cv = cv2.imread(img_path)\n",
    "    img_np = np.array(img_cv)\n",
    "    \n",
    "    drt_dict = {}\n",
    "    sum_conf, average_angle = 0, 0\n",
    "    for i in range(4):\n",
    "        img_np_i = np.rot90(img_np, i)\n",
    "        boxes = ocr.ocr(img_np_i, cls=True)\n",
    "        ratio = calc_single_image_ratio(boxes)\n",
    "        sum_angle, sum_conf, average_angle = 0, 0, 0\n",
    "        if len(boxes) != 0:\n",
    "            for box in boxes:\n",
    "                pos, text, angle = box\n",
    "                sum_conf += text[1]\n",
    "                sum_angle += int(angle[0])\n",
    "            average_angle = sum_angle / len(boxes)\n",
    "        drt_dict[i] = [sum_conf, ratio, average_angle]\n",
    "    \n",
    "    true_drt = -1\n",
    "    max_conf = 0\n",
    "    for drt, drt_info in drt_dict.items():\n",
    "        sum_conf, ratio, average_angle = drt_info\n",
    "        if ratio <= 0.5:\n",
    "            continue\n",
    "        if average_angle > 90:\n",
    "            continue\n",
    "        if sum_conf > max_conf:\n",
    "            true_drt = drt\n",
    "            max_conf = sum_conf\n",
    "    \n",
    "    img_np_drt_true = np.rot90(img_np, true_drt)\n",
    "    true_drt_info = ocr.ocr(img_np_drt_true, cls=True)\n",
    "\n",
    "    H, W, C = img_np_drt_true.shape\n",
    "    \n",
    "    return true_drt, true_drt_info, (H, W)"
   ]
  },
  {
   "cell_type": "code",
   "execution_count": 5,
   "id": "6c3bfa59",
   "metadata": {
    "ExecuteTime": {
     "end_time": "2022-06-27T07:04:07.559538Z",
     "start_time": "2022-06-27T07:04:07.556389Z"
    }
   },
   "outputs": [],
   "source": [
    "img_path = \"/root/QianZe/VizWiz-VQA-tiny/test_rectify\"\n",
    "ips = sorted(glob(os.path.join(img_path, \"*\")))\n",
    "# print(ips[:10])\n",
    "ocr_boxes = {}\n",
    "ocr_texts = {}\n",
    "img_size = {}\n",
    "drt_record = {}"
   ]
  },
  {
   "cell_type": "code",
   "execution_count": 6,
   "id": "eafe5d05",
   "metadata": {
    "ExecuteTime": {
     "end_time": "2022-06-27T07:04:54.028032Z",
     "start_time": "2022-06-27T07:04:08.982231Z"
    }
   },
   "outputs": [
    {
     "name": "stderr",
     "output_type": "stream",
     "text": [
      "100%|██████████| 100/100 [00:45<00:00,  2.22it/s]\n"
     ]
    }
   ],
   "source": [
    "for ip in tqdm(ips):\n",
    "    img_id = ip.split(\"/\")[-1].split(\".\")[0]\n",
    "    true_drt, true_drt_info, img_shape = rotate_detect_single_image(ip)\n",
    "    boxes, texts = [], []\n",
    "    for box_info in true_drt_info:\n",
    "        pos, text, _ = box_info\n",
    "        boxes.append(pos)\n",
    "        texts.append(text[0])\n",
    "        \n",
    "    ocr_boxes[img_id] = boxes\n",
    "    ocr_texts[img_id] = texts\n",
    "    drt_record[img_id] = true_drt\n",
    "    img_size[img_id] = img_shape"
   ]
  },
  {
   "cell_type": "code",
   "execution_count": 7,
   "id": "aa563038",
   "metadata": {
    "ExecuteTime": {
     "end_time": "2022-06-27T07:04:57.345005Z",
     "start_time": "2022-06-27T07:04:57.342520Z"
    }
   },
   "outputs": [],
   "source": [
    "import matplotlib.patches as patches\n",
    "import matplotlib.pyplot as plt\n",
    "from PIL import Image"
   ]
  },
  {
   "cell_type": "code",
   "execution_count": 115,
   "id": "f1040eb3",
   "metadata": {
    "ExecuteTime": {
     "end_time": "2022-06-27T10:30:26.426549Z",
     "start_time": "2022-06-27T10:30:26.424202Z"
    }
   },
   "outputs": [],
   "source": [
    "img_id = \"VizWiz_train_00000000\"\n",
    "slope_thres = 0.15\n",
    "char_thres = 0.4\n",
    "overlap_thres = 0.5\n",
    "y_dis_thres = 1.5"
   ]
  },
  {
   "cell_type": "code",
   "execution_count": 119,
   "id": "5ddf74b9",
   "metadata": {
    "ExecuteTime": {
     "end_time": "2022-06-27T10:31:06.840538Z",
     "start_time": "2022-06-27T10:31:06.837038Z"
    },
    "scrolled": true
   },
   "outputs": [],
   "source": [
    "new_rects, new_texts = boxes_connect(ocr_boxes[img_id], ocr_texts[img_id], slope_thres, char_thres, overlap_thres, y_dis_thres)\n",
    "new_rects = rect_rot90(new_rects, drt_record[img_id], img_size[img_id])"
   ]
  },
  {
   "cell_type": "code",
   "execution_count": 120,
   "id": "087a9c93",
   "metadata": {
    "ExecuteTime": {
     "end_time": "2022-06-27T10:31:08.066848Z",
     "start_time": "2022-06-27T10:31:07.709257Z"
    }
   },
   "outputs": [
    {
     "data": {
      "image/png": "[encoded data removed]",
      "text/plain": [
       "<Figure size 432x288 with 1 Axes>"
      ]
     },
     "metadata": {
      "needs_background": "light"
     },
     "output_type": "display_data"
    }
   ],
   "source": [
    "test_img_path = img_path + \"/\" + img_id + \".jpg\"\n",
    "img = Image.open(test_img_path)\n",
    "plt.imshow(img)\n",
    "\n",
    "for rect in new_rects:\n",
    "    for i in range(4):\n",
    "        x = [rect[i][0], rect[(i+1)%4][0]]\n",
    "        y = [rect[i][1], rect[(i+1)%4][1]]\n",
    "#         print(x, y)\n",
    "        plt.plot(x, y, color=\"r\")\n",
    "        \n",
    "plt.show()"
   ]
  },
  {
   "cell_type": "code",
   "execution_count": 110,
   "id": "89369ae6",
   "metadata": {
    "ExecuteTime": {
     "end_time": "2022-06-27T08:19:26.807848Z",
     "start_time": "2022-06-27T08:19:26.805090Z"
    }
   },
   "outputs": [
    {
     "data": {
      "text/plain": [
       "['A delicious CAFFEINE FREE HERB TEA']"
      ]
     },
     "execution_count": 110,
     "metadata": {},
     "output_type": "execute_result"
    }
   ],
   "source": [
    "new_texts"
   ]
  },
  {
   "cell_type": "code",
   "execution_count": 127,
   "id": "c2643f28",
   "metadata": {
    "ExecuteTime": {
     "end_time": "2022-06-24T10:22:59.683878Z",
     "start_time": "2022-06-24T10:22:59.680991Z"
    }
   },
   "outputs": [
    {
     "data": {
      "text/plain": [
       "0.3109010705348838"
      ]
     },
     "execution_count": 127,
     "metadata": {},
     "output_type": "execute_result"
    }
   ],
   "source": [
    "angle"
   ]
  },
  {
   "cell_type": "code",
   "execution_count": 128,
   "id": "bb28ab81",
   "metadata": {
    "ExecuteTime": {
     "end_time": "2022-06-24T10:23:03.107001Z",
     "start_time": "2022-06-24T10:23:03.103785Z"
    }
   },
   "outputs": [
    {
     "data": {
      "text/plain": [
       "[(694.2440781546334, 748.4612425834705),\n",
       " (1044.012573019451, 748.4612425834705),\n",
       " (1044.7559218453666, 796.5387574165295),\n",
       " (695.2933436127526, 797.4908157204906)]"
      ]
     },
     "execution_count": 128,
     "metadata": {},
     "output_type": "execute_result"
    }
   ],
   "source": [
    "rotate_rect(test_rect, angle, \"S\")"
   ]
  },
  {
   "cell_type": "code",
   "execution_count": 130,
   "id": "5003313a",
   "metadata": {
    "ExecuteTime": {
     "end_time": "2022-06-24T10:23:14.635908Z",
     "start_time": "2022-06-24T10:23:14.632527Z"
    }
   },
   "outputs": [
    {
     "data": {
      "text/plain": [
       "0.0"
      ]
     },
     "execution_count": 130,
     "metadata": {},
     "output_type": "execute_result"
    }
   ],
   "source": [
    "get_slope(rotate_rect(test_rect, angle))"
   ]
  },
  {
   "cell_type": "code",
   "execution_count": null,
   "id": "59369699",
   "metadata": {},
   "outputs": [],
   "source": []
  }
 ],
 "metadata": {
  "kernelspec": {
   "display_name": "Python [conda env:nlp] *",
   "language": "python",
   "name": "conda-env-nlp-py"
  },
  "language_info": {
   "codemirror_mode": {
    "name": "ipython",
    "version": 3
   },
   "file_extension": ".py",
   "mimetype": "text/x-python",
   "name": "python",
   "nbconvert_exporter": "python",
   "pygments_lexer": "ipython3",
   "version": "3.6.13"
  },
  "varInspector": {
   "cols": {
    "lenName": 16,
    "lenType": 16,
    "lenVar": 40
   },
   "kernels_config": {
    "python": {
     "delete_cmd_postfix": "",
     "delete_cmd_prefix": "del ",
     "library": "var_list.py",
     "varRefreshCmd": "print(var_dic_list())"
    },
    "r": {
     "delete_cmd_postfix": ") ",
     "delete_cmd_prefix": "rm(",
     "library": "var_list.r",
     "varRefreshCmd": "cat(var_dic_list()) "
    }
   },
   "types_to_exclude": [
    "module",
    "function",
    "builtin_function_or_method",
    "instance",
    "_Feature"
   ],
   "window_display": false
  }
 },
 "nbformat": 4,
 "nbformat_minor": 5
}
